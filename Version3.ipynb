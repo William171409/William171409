{
 "cells": [
  {
   "cell_type": "code",
   "execution_count": 1,
   "id": "2392ba95",
   "metadata": {},
   "outputs": [],
   "source": [
    "import numpy as np \n",
    "import pandas as pd \n",
    "import matplotlib.pyplot as plt \n",
    "import seaborn as sb\n",
    "%matplotlib inline\n",
    "\n",
    "\n",
    "\n",
    "import os\n",
    "for dirname, _, filenames in os.walk('/Users/qiqi/Desktop/EE0005AI/EE0005miniprj'):\n",
    "    for filename in filenames:\n",
    "        print(os.path.join(dirname, filename))"
   ]
  },
  {
   "cell_type": "code",
   "execution_count": 2,
   "id": "dbe7db3e",
   "metadata": {},
   "outputs": [],
   "source": [
    "import warnings\n",
    "warnings.filterwarnings('ignore')"
   ]
  },
  {
   "cell_type": "markdown",
   "id": "a1941688",
   "metadata": {},
   "source": [
    "# 1. Data Preparation"
   ]
  },
  {
   "cell_type": "markdown",
   "id": "8217a64f",
   "metadata": {},
   "source": [
    "## 1.1 Data Exploration"
   ]
  },
  {
   "cell_type": "code",
   "execution_count": 3,
   "id": "8da06aa5",
   "metadata": {},
   "outputs": [],
   "source": [
    "weather_df = pd.read_csv('weatherAUS.csv')"
   ]
  },
  {
   "cell_type": "code",
   "execution_count": 4,
   "id": "e620f98e",
   "metadata": {
    "scrolled": true
   },
   "outputs": [
    {
     "name": "stdout",
     "output_type": "stream",
     "text": [
      "<class 'pandas.core.frame.DataFrame'>\n",
      "RangeIndex: 145460 entries, 0 to 145459\n",
      "Data columns (total 23 columns):\n",
      " #   Column         Non-Null Count   Dtype  \n",
      "---  ------         --------------   -----  \n",
      " 0   Date           145460 non-null  object \n",
      " 1   Location       145460 non-null  object \n",
      " 2   MinTemp        143975 non-null  float64\n",
      " 3   MaxTemp        144199 non-null  float64\n",
      " 4   Rainfall       142199 non-null  float64\n",
      " 5   Evaporation    82670 non-null   float64\n",
      " 6   Sunshine       75625 non-null   float64\n",
      " 7   WindGustDir    135134 non-null  object \n",
      " 8   WindGustSpeed  135197 non-null  float64\n",
      " 9   WindDir9am     134894 non-null  object \n",
      " 10  WindDir3pm     141232 non-null  object \n",
      " 11  WindSpeed9am   143693 non-null  float64\n",
      " 12  WindSpeed3pm   142398 non-null  float64\n",
      " 13  Humidity9am    142806 non-null  float64\n",
      " 14  Humidity3pm    140953 non-null  float64\n",
      " 15  Pressure9am    130395 non-null  float64\n",
      " 16  Pressure3pm    130432 non-null  float64\n",
      " 17  Cloud9am       89572 non-null   float64\n",
      " 18  Cloud3pm       86102 non-null   float64\n",
      " 19  Temp9am        143693 non-null  float64\n",
      " 20  Temp3pm        141851 non-null  float64\n",
      " 21  RainToday      142199 non-null  object \n",
      " 22  RainTomorrow   142193 non-null  object \n",
      "dtypes: float64(16), object(7)\n",
      "memory usage: 25.5+ MB\n"
     ]
    }
   ],
   "source": [
    "weather_df.info()"
   ]
  },
  {
   "cell_type": "code",
   "execution_count": 5,
   "id": "3574384a",
   "metadata": {
    "scrolled": false
   },
   "outputs": [
    {
     "data": {
      "text/html": [
       "<div>\n",
       "<style scoped>\n",
       "    .dataframe tbody tr th:only-of-type {\n",
       "        vertical-align: middle;\n",
       "    }\n",
       "\n",
       "    .dataframe tbody tr th {\n",
       "        vertical-align: top;\n",
       "    }\n",
       "\n",
       "    .dataframe thead th {\n",
       "        text-align: right;\n",
       "    }\n",
       "</style>\n",
       "<table border=\"1\" class=\"dataframe\">\n",
       "  <thead>\n",
       "    <tr style=\"text-align: right;\">\n",
       "      <th></th>\n",
       "      <th>Date</th>\n",
       "      <th>Location</th>\n",
       "      <th>MinTemp</th>\n",
       "      <th>MaxTemp</th>\n",
       "      <th>Rainfall</th>\n",
       "      <th>Evaporation</th>\n",
       "      <th>Sunshine</th>\n",
       "      <th>WindGustDir</th>\n",
       "      <th>WindGustSpeed</th>\n",
       "      <th>WindDir9am</th>\n",
       "      <th>...</th>\n",
       "      <th>Humidity9am</th>\n",
       "      <th>Humidity3pm</th>\n",
       "      <th>Pressure9am</th>\n",
       "      <th>Pressure3pm</th>\n",
       "      <th>Cloud9am</th>\n",
       "      <th>Cloud3pm</th>\n",
       "      <th>Temp9am</th>\n",
       "      <th>Temp3pm</th>\n",
       "      <th>RainToday</th>\n",
       "      <th>RainTomorrow</th>\n",
       "    </tr>\n",
       "  </thead>\n",
       "  <tbody>\n",
       "    <tr>\n",
       "      <th>0</th>\n",
       "      <td>2008-12-01</td>\n",
       "      <td>Albury</td>\n",
       "      <td>13.4</td>\n",
       "      <td>22.9</td>\n",
       "      <td>0.6</td>\n",
       "      <td>NaN</td>\n",
       "      <td>NaN</td>\n",
       "      <td>W</td>\n",
       "      <td>44.0</td>\n",
       "      <td>W</td>\n",
       "      <td>...</td>\n",
       "      <td>71.0</td>\n",
       "      <td>22.0</td>\n",
       "      <td>1007.7</td>\n",
       "      <td>1007.1</td>\n",
       "      <td>8.0</td>\n",
       "      <td>NaN</td>\n",
       "      <td>16.9</td>\n",
       "      <td>21.8</td>\n",
       "      <td>No</td>\n",
       "      <td>No</td>\n",
       "    </tr>\n",
       "    <tr>\n",
       "      <th>1</th>\n",
       "      <td>2008-12-02</td>\n",
       "      <td>Albury</td>\n",
       "      <td>7.4</td>\n",
       "      <td>25.1</td>\n",
       "      <td>0.0</td>\n",
       "      <td>NaN</td>\n",
       "      <td>NaN</td>\n",
       "      <td>WNW</td>\n",
       "      <td>44.0</td>\n",
       "      <td>NNW</td>\n",
       "      <td>...</td>\n",
       "      <td>44.0</td>\n",
       "      <td>25.0</td>\n",
       "      <td>1010.6</td>\n",
       "      <td>1007.8</td>\n",
       "      <td>NaN</td>\n",
       "      <td>NaN</td>\n",
       "      <td>17.2</td>\n",
       "      <td>24.3</td>\n",
       "      <td>No</td>\n",
       "      <td>No</td>\n",
       "    </tr>\n",
       "    <tr>\n",
       "      <th>2</th>\n",
       "      <td>2008-12-03</td>\n",
       "      <td>Albury</td>\n",
       "      <td>12.9</td>\n",
       "      <td>25.7</td>\n",
       "      <td>0.0</td>\n",
       "      <td>NaN</td>\n",
       "      <td>NaN</td>\n",
       "      <td>WSW</td>\n",
       "      <td>46.0</td>\n",
       "      <td>W</td>\n",
       "      <td>...</td>\n",
       "      <td>38.0</td>\n",
       "      <td>30.0</td>\n",
       "      <td>1007.6</td>\n",
       "      <td>1008.7</td>\n",
       "      <td>NaN</td>\n",
       "      <td>2.0</td>\n",
       "      <td>21.0</td>\n",
       "      <td>23.2</td>\n",
       "      <td>No</td>\n",
       "      <td>No</td>\n",
       "    </tr>\n",
       "    <tr>\n",
       "      <th>3</th>\n",
       "      <td>2008-12-04</td>\n",
       "      <td>Albury</td>\n",
       "      <td>9.2</td>\n",
       "      <td>28.0</td>\n",
       "      <td>0.0</td>\n",
       "      <td>NaN</td>\n",
       "      <td>NaN</td>\n",
       "      <td>NE</td>\n",
       "      <td>24.0</td>\n",
       "      <td>SE</td>\n",
       "      <td>...</td>\n",
       "      <td>45.0</td>\n",
       "      <td>16.0</td>\n",
       "      <td>1017.6</td>\n",
       "      <td>1012.8</td>\n",
       "      <td>NaN</td>\n",
       "      <td>NaN</td>\n",
       "      <td>18.1</td>\n",
       "      <td>26.5</td>\n",
       "      <td>No</td>\n",
       "      <td>No</td>\n",
       "    </tr>\n",
       "    <tr>\n",
       "      <th>4</th>\n",
       "      <td>2008-12-05</td>\n",
       "      <td>Albury</td>\n",
       "      <td>17.5</td>\n",
       "      <td>32.3</td>\n",
       "      <td>1.0</td>\n",
       "      <td>NaN</td>\n",
       "      <td>NaN</td>\n",
       "      <td>W</td>\n",
       "      <td>41.0</td>\n",
       "      <td>ENE</td>\n",
       "      <td>...</td>\n",
       "      <td>82.0</td>\n",
       "      <td>33.0</td>\n",
       "      <td>1010.8</td>\n",
       "      <td>1006.0</td>\n",
       "      <td>7.0</td>\n",
       "      <td>8.0</td>\n",
       "      <td>17.8</td>\n",
       "      <td>29.7</td>\n",
       "      <td>No</td>\n",
       "      <td>No</td>\n",
       "    </tr>\n",
       "  </tbody>\n",
       "</table>\n",
       "<p>5 rows × 23 columns</p>\n",
       "</div>"
      ],
      "text/plain": [
       "         Date Location  MinTemp  MaxTemp  Rainfall  Evaporation  Sunshine  \\\n",
       "0  2008-12-01   Albury     13.4     22.9       0.6          NaN       NaN   \n",
       "1  2008-12-02   Albury      7.4     25.1       0.0          NaN       NaN   \n",
       "2  2008-12-03   Albury     12.9     25.7       0.0          NaN       NaN   \n",
       "3  2008-12-04   Albury      9.2     28.0       0.0          NaN       NaN   \n",
       "4  2008-12-05   Albury     17.5     32.3       1.0          NaN       NaN   \n",
       "\n",
       "  WindGustDir  WindGustSpeed WindDir9am  ... Humidity9am  Humidity3pm  \\\n",
       "0           W           44.0          W  ...        71.0         22.0   \n",
       "1         WNW           44.0        NNW  ...        44.0         25.0   \n",
       "2         WSW           46.0          W  ...        38.0         30.0   \n",
       "3          NE           24.0         SE  ...        45.0         16.0   \n",
       "4           W           41.0        ENE  ...        82.0         33.0   \n",
       "\n",
       "   Pressure9am  Pressure3pm  Cloud9am  Cloud3pm  Temp9am  Temp3pm  RainToday  \\\n",
       "0       1007.7       1007.1       8.0       NaN     16.9     21.8         No   \n",
       "1       1010.6       1007.8       NaN       NaN     17.2     24.3         No   \n",
       "2       1007.6       1008.7       NaN       2.0     21.0     23.2         No   \n",
       "3       1017.6       1012.8       NaN       NaN     18.1     26.5         No   \n",
       "4       1010.8       1006.0       7.0       8.0     17.8     29.7         No   \n",
       "\n",
       "   RainTomorrow  \n",
       "0            No  \n",
       "1            No  \n",
       "2            No  \n",
       "3            No  \n",
       "4            No  \n",
       "\n",
       "[5 rows x 23 columns]"
      ]
     },
     "execution_count": 5,
     "metadata": {},
     "output_type": "execute_result"
    }
   ],
   "source": [
    "weather_df.head()"
   ]
  },
  {
   "cell_type": "markdown",
   "id": "ce7a89b9",
   "metadata": {},
   "source": [
    "## 1.2 Check the target variable (RainTomorrow)"
   ]
  },
  {
   "cell_type": "code",
   "execution_count": 6,
   "id": "d23589e1",
   "metadata": {
    "scrolled": true
   },
   "outputs": [
    {
     "data": {
      "text/plain": [
       "array(['No', 'Yes', nan], dtype=object)"
      ]
     },
     "execution_count": 6,
     "metadata": {},
     "output_type": "execute_result"
    }
   ],
   "source": [
    "# Check unique observations in the target col.\n",
    "weather_df['RainTomorrow'].unique()"
   ]
  },
  {
   "cell_type": "markdown",
   "id": "55d0fd85",
   "metadata": {},
   "source": [
    "<font color=darkblue>**This means that the target variable contains missing values.**</font>"
   ]
  },
  {
   "cell_type": "code",
   "execution_count": 7,
   "id": "6d0b385d",
   "metadata": {
    "scrolled": true
   },
   "outputs": [
    {
     "data": {
      "text/plain": [
       "3267"
      ]
     },
     "execution_count": 7,
     "metadata": {},
     "output_type": "execute_result"
    }
   ],
   "source": [
    "# Number of the missing values.\n",
    "weather_df['RainTomorrow'].isnull().sum()"
   ]
  },
  {
   "cell_type": "code",
   "execution_count": 8,
   "id": "4f230d2c",
   "metadata": {},
   "outputs": [],
   "source": [
    "# 加一个柱状图！！！！！！！！！"
   ]
  },
  {
   "cell_type": "code",
   "execution_count": 9,
   "id": "f2901c66",
   "metadata": {
    "scrolled": true
   },
   "outputs": [
    {
     "data": {
      "text/plain": [
       "2.245978275814657"
      ]
     },
     "execution_count": 9,
     "metadata": {},
     "output_type": "execute_result"
    }
   ],
   "source": [
    "# Check the percentage of missing values.\n",
    "weather_df['RainTomorrow'].isnull().mean()*100"
   ]
  },
  {
   "cell_type": "markdown",
   "id": "7bf277cb",
   "metadata": {},
   "source": [
    "<font color=darkblue>**Since it is a relatively small amount of missing value compared to the whole dataset, and it is unreasonable to fill in random values, we choose to delete rows of these missing values from the dataset.**"
   ]
  },
  {
   "cell_type": "code",
   "execution_count": 10,
   "id": "4324379d",
   "metadata": {},
   "outputs": [],
   "source": [
    "weather_df.dropna(subset=['RainTomorrow'], inplace=True)"
   ]
  },
  {
   "cell_type": "code",
   "execution_count": 11,
   "id": "117a15c1",
   "metadata": {},
   "outputs": [
    {
     "data": {
      "text/plain": [
       "0.0"
      ]
     },
     "execution_count": 11,
     "metadata": {},
     "output_type": "execute_result"
    }
   ],
   "source": [
    "# Check the percentage of missing value again.\n",
    "weather_df['RainTomorrow'].isnull().mean()*100"
   ]
  },
  {
   "cell_type": "code",
   "execution_count": 12,
   "id": "088b4ad5",
   "metadata": {},
   "outputs": [],
   "source": [
    "weather_df.reset_index(drop=True, inplace=True) # Reindex"
   ]
  },
  {
   "cell_type": "markdown",
   "id": "c397782d",
   "metadata": {},
   "source": [
    "## 1.3 Seperating Numeric and Categorical Variables"
   ]
  },
  {
   "cell_type": "code",
   "execution_count": 13,
   "id": "3878af84",
   "metadata": {
    "scrolled": true
   },
   "outputs": [],
   "source": [
    "# Select numeric variables\n",
    "numeric = []\n",
    "for cols in weather_df.columns:\n",
    "    if weather_df[cols].dtype == 'float64':\n",
    "        numeric.append(cols)"
   ]
  },
  {
   "cell_type": "code",
   "execution_count": 14,
   "id": "6334f2d0",
   "metadata": {},
   "outputs": [
    {
     "data": {
      "text/html": [
       "<div>\n",
       "<style scoped>\n",
       "    .dataframe tbody tr th:only-of-type {\n",
       "        vertical-align: middle;\n",
       "    }\n",
       "\n",
       "    .dataframe tbody tr th {\n",
       "        vertical-align: top;\n",
       "    }\n",
       "\n",
       "    .dataframe thead th {\n",
       "        text-align: right;\n",
       "    }\n",
       "</style>\n",
       "<table border=\"1\" class=\"dataframe\">\n",
       "  <thead>\n",
       "    <tr style=\"text-align: right;\">\n",
       "      <th></th>\n",
       "      <th>MinTemp</th>\n",
       "      <th>MaxTemp</th>\n",
       "      <th>Rainfall</th>\n",
       "      <th>Evaporation</th>\n",
       "      <th>Sunshine</th>\n",
       "      <th>WindGustSpeed</th>\n",
       "      <th>WindSpeed9am</th>\n",
       "      <th>WindSpeed3pm</th>\n",
       "      <th>Humidity9am</th>\n",
       "      <th>Humidity3pm</th>\n",
       "      <th>Pressure9am</th>\n",
       "      <th>Pressure3pm</th>\n",
       "      <th>Cloud9am</th>\n",
       "      <th>Cloud3pm</th>\n",
       "      <th>Temp9am</th>\n",
       "      <th>Temp3pm</th>\n",
       "    </tr>\n",
       "  </thead>\n",
       "  <tbody>\n",
       "    <tr>\n",
       "      <th>0</th>\n",
       "      <td>13.4</td>\n",
       "      <td>22.9</td>\n",
       "      <td>0.6</td>\n",
       "      <td>NaN</td>\n",
       "      <td>NaN</td>\n",
       "      <td>44.0</td>\n",
       "      <td>20.0</td>\n",
       "      <td>24.0</td>\n",
       "      <td>71.0</td>\n",
       "      <td>22.0</td>\n",
       "      <td>1007.7</td>\n",
       "      <td>1007.1</td>\n",
       "      <td>8.0</td>\n",
       "      <td>NaN</td>\n",
       "      <td>16.9</td>\n",
       "      <td>21.8</td>\n",
       "    </tr>\n",
       "    <tr>\n",
       "      <th>1</th>\n",
       "      <td>7.4</td>\n",
       "      <td>25.1</td>\n",
       "      <td>0.0</td>\n",
       "      <td>NaN</td>\n",
       "      <td>NaN</td>\n",
       "      <td>44.0</td>\n",
       "      <td>4.0</td>\n",
       "      <td>22.0</td>\n",
       "      <td>44.0</td>\n",
       "      <td>25.0</td>\n",
       "      <td>1010.6</td>\n",
       "      <td>1007.8</td>\n",
       "      <td>NaN</td>\n",
       "      <td>NaN</td>\n",
       "      <td>17.2</td>\n",
       "      <td>24.3</td>\n",
       "    </tr>\n",
       "    <tr>\n",
       "      <th>2</th>\n",
       "      <td>12.9</td>\n",
       "      <td>25.7</td>\n",
       "      <td>0.0</td>\n",
       "      <td>NaN</td>\n",
       "      <td>NaN</td>\n",
       "      <td>46.0</td>\n",
       "      <td>19.0</td>\n",
       "      <td>26.0</td>\n",
       "      <td>38.0</td>\n",
       "      <td>30.0</td>\n",
       "      <td>1007.6</td>\n",
       "      <td>1008.7</td>\n",
       "      <td>NaN</td>\n",
       "      <td>2.0</td>\n",
       "      <td>21.0</td>\n",
       "      <td>23.2</td>\n",
       "    </tr>\n",
       "    <tr>\n",
       "      <th>3</th>\n",
       "      <td>9.2</td>\n",
       "      <td>28.0</td>\n",
       "      <td>0.0</td>\n",
       "      <td>NaN</td>\n",
       "      <td>NaN</td>\n",
       "      <td>24.0</td>\n",
       "      <td>11.0</td>\n",
       "      <td>9.0</td>\n",
       "      <td>45.0</td>\n",
       "      <td>16.0</td>\n",
       "      <td>1017.6</td>\n",
       "      <td>1012.8</td>\n",
       "      <td>NaN</td>\n",
       "      <td>NaN</td>\n",
       "      <td>18.1</td>\n",
       "      <td>26.5</td>\n",
       "    </tr>\n",
       "    <tr>\n",
       "      <th>4</th>\n",
       "      <td>17.5</td>\n",
       "      <td>32.3</td>\n",
       "      <td>1.0</td>\n",
       "      <td>NaN</td>\n",
       "      <td>NaN</td>\n",
       "      <td>41.0</td>\n",
       "      <td>7.0</td>\n",
       "      <td>20.0</td>\n",
       "      <td>82.0</td>\n",
       "      <td>33.0</td>\n",
       "      <td>1010.8</td>\n",
       "      <td>1006.0</td>\n",
       "      <td>7.0</td>\n",
       "      <td>8.0</td>\n",
       "      <td>17.8</td>\n",
       "      <td>29.7</td>\n",
       "    </tr>\n",
       "  </tbody>\n",
       "</table>\n",
       "</div>"
      ],
      "text/plain": [
       "   MinTemp  MaxTemp  Rainfall  Evaporation  Sunshine  WindGustSpeed  \\\n",
       "0     13.4     22.9       0.6          NaN       NaN           44.0   \n",
       "1      7.4     25.1       0.0          NaN       NaN           44.0   \n",
       "2     12.9     25.7       0.0          NaN       NaN           46.0   \n",
       "3      9.2     28.0       0.0          NaN       NaN           24.0   \n",
       "4     17.5     32.3       1.0          NaN       NaN           41.0   \n",
       "\n",
       "   WindSpeed9am  WindSpeed3pm  Humidity9am  Humidity3pm  Pressure9am  \\\n",
       "0          20.0          24.0         71.0         22.0       1007.7   \n",
       "1           4.0          22.0         44.0         25.0       1010.6   \n",
       "2          19.0          26.0         38.0         30.0       1007.6   \n",
       "3          11.0           9.0         45.0         16.0       1017.6   \n",
       "4           7.0          20.0         82.0         33.0       1010.8   \n",
       "\n",
       "   Pressure3pm  Cloud9am  Cloud3pm  Temp9am  Temp3pm  \n",
       "0       1007.1       8.0       NaN     16.9     21.8  \n",
       "1       1007.8       NaN       NaN     17.2     24.3  \n",
       "2       1008.7       NaN       2.0     21.0     23.2  \n",
       "3       1012.8       NaN       NaN     18.1     26.5  \n",
       "4       1006.0       7.0       8.0     17.8     29.7  "
      ]
     },
     "execution_count": 14,
     "metadata": {},
     "output_type": "execute_result"
    }
   ],
   "source": [
    "# Viewing numberic variables\n",
    "weather_df[numeric].head()"
   ]
  },
  {
   "cell_type": "code",
   "execution_count": 15,
   "id": "ec03bfd7",
   "metadata": {},
   "outputs": [],
   "source": [
    "# Select Categorical variables\n",
    "categorical = []\n",
    "for cols in weather_df.columns:\n",
    "    if weather_df[cols].dtype == 'object':\n",
    "        categorical.append(cols)"
   ]
  },
  {
   "cell_type": "code",
   "execution_count": 16,
   "id": "502fcfa2",
   "metadata": {},
   "outputs": [
    {
     "data": {
      "text/html": [
       "<div>\n",
       "<style scoped>\n",
       "    .dataframe tbody tr th:only-of-type {\n",
       "        vertical-align: middle;\n",
       "    }\n",
       "\n",
       "    .dataframe tbody tr th {\n",
       "        vertical-align: top;\n",
       "    }\n",
       "\n",
       "    .dataframe thead th {\n",
       "        text-align: right;\n",
       "    }\n",
       "</style>\n",
       "<table border=\"1\" class=\"dataframe\">\n",
       "  <thead>\n",
       "    <tr style=\"text-align: right;\">\n",
       "      <th></th>\n",
       "      <th>Date</th>\n",
       "      <th>Location</th>\n",
       "      <th>WindGustDir</th>\n",
       "      <th>WindDir9am</th>\n",
       "      <th>WindDir3pm</th>\n",
       "      <th>RainToday</th>\n",
       "      <th>RainTomorrow</th>\n",
       "    </tr>\n",
       "  </thead>\n",
       "  <tbody>\n",
       "    <tr>\n",
       "      <th>0</th>\n",
       "      <td>2008-12-01</td>\n",
       "      <td>Albury</td>\n",
       "      <td>W</td>\n",
       "      <td>W</td>\n",
       "      <td>WNW</td>\n",
       "      <td>No</td>\n",
       "      <td>No</td>\n",
       "    </tr>\n",
       "    <tr>\n",
       "      <th>1</th>\n",
       "      <td>2008-12-02</td>\n",
       "      <td>Albury</td>\n",
       "      <td>WNW</td>\n",
       "      <td>NNW</td>\n",
       "      <td>WSW</td>\n",
       "      <td>No</td>\n",
       "      <td>No</td>\n",
       "    </tr>\n",
       "    <tr>\n",
       "      <th>2</th>\n",
       "      <td>2008-12-03</td>\n",
       "      <td>Albury</td>\n",
       "      <td>WSW</td>\n",
       "      <td>W</td>\n",
       "      <td>WSW</td>\n",
       "      <td>No</td>\n",
       "      <td>No</td>\n",
       "    </tr>\n",
       "    <tr>\n",
       "      <th>3</th>\n",
       "      <td>2008-12-04</td>\n",
       "      <td>Albury</td>\n",
       "      <td>NE</td>\n",
       "      <td>SE</td>\n",
       "      <td>E</td>\n",
       "      <td>No</td>\n",
       "      <td>No</td>\n",
       "    </tr>\n",
       "    <tr>\n",
       "      <th>4</th>\n",
       "      <td>2008-12-05</td>\n",
       "      <td>Albury</td>\n",
       "      <td>W</td>\n",
       "      <td>ENE</td>\n",
       "      <td>NW</td>\n",
       "      <td>No</td>\n",
       "      <td>No</td>\n",
       "    </tr>\n",
       "  </tbody>\n",
       "</table>\n",
       "</div>"
      ],
      "text/plain": [
       "         Date Location WindGustDir WindDir9am WindDir3pm RainToday  \\\n",
       "0  2008-12-01   Albury           W          W        WNW        No   \n",
       "1  2008-12-02   Albury         WNW        NNW        WSW        No   \n",
       "2  2008-12-03   Albury         WSW          W        WSW        No   \n",
       "3  2008-12-04   Albury          NE         SE          E        No   \n",
       "4  2008-12-05   Albury           W        ENE         NW        No   \n",
       "\n",
       "  RainTomorrow  \n",
       "0           No  \n",
       "1           No  \n",
       "2           No  \n",
       "3           No  \n",
       "4           No  "
      ]
     },
     "execution_count": 16,
     "metadata": {},
     "output_type": "execute_result"
    }
   ],
   "source": [
    "weather_df[categorical].head()"
   ]
  },
  {
   "cell_type": "markdown",
   "id": "6ef5fdb3",
   "metadata": {},
   "source": [
    "## 1.4 Handle Categorical Data"
   ]
  },
  {
   "cell_type": "code",
   "execution_count": 17,
   "id": "aad263fc",
   "metadata": {
    "scrolled": true
   },
   "outputs": [
    {
     "data": {
      "text/plain": [
       "Date                0\n",
       "Location            0\n",
       "WindGustDir      9330\n",
       "WindDir9am      10013\n",
       "WindDir3pm       3778\n",
       "RainToday        1406\n",
       "RainTomorrow        0\n",
       "dtype: int64"
      ]
     },
     "execution_count": 17,
     "metadata": {},
     "output_type": "execute_result"
    }
   ],
   "source": [
    "# Counting missing values of each var.\n",
    "weather_df[categorical].isnull().sum()  "
   ]
  },
  {
   "cell_type": "markdown",
   "id": "d21330d3",
   "metadata": {},
   "source": [
    "### 1.4.1 Separate 'Date' into Year, Month, Day"
   ]
  },
  {
   "cell_type": "code",
   "execution_count": 18,
   "id": "fd3656eb",
   "metadata": {
    "scrolled": true
   },
   "outputs": [],
   "source": [
    "# Convert the Date variable from string to date format.\n",
    "weather_df['Date']=pd.to_datetime(weather_df['Date'])"
   ]
  },
  {
   "cell_type": "code",
   "execution_count": 19,
   "id": "0463159c",
   "metadata": {},
   "outputs": [],
   "source": [
    "# Creating Year, Month and Day cols in weather_df\n",
    "weather_df['Year']=weather_df['Date'].dt.year\n",
    "weather_df['Month']=weather_df['Date'].dt.month\n",
    "weather_df['Day']=weather_df['Date'].dt.day"
   ]
  },
  {
   "cell_type": "code",
   "execution_count": 20,
   "id": "01086f6e",
   "metadata": {},
   "outputs": [],
   "source": [
    "# Drop the original Date variable\n",
    "weather_df.drop(columns='Date', inplace=True)"
   ]
  },
  {
   "cell_type": "code",
   "execution_count": 21,
   "id": "38ad32a8",
   "metadata": {
    "scrolled": false
   },
   "outputs": [
    {
     "data": {
      "text/html": [
       "<div>\n",
       "<style scoped>\n",
       "    .dataframe tbody tr th:only-of-type {\n",
       "        vertical-align: middle;\n",
       "    }\n",
       "\n",
       "    .dataframe tbody tr th {\n",
       "        vertical-align: top;\n",
       "    }\n",
       "\n",
       "    .dataframe thead th {\n",
       "        text-align: right;\n",
       "    }\n",
       "</style>\n",
       "<table border=\"1\" class=\"dataframe\">\n",
       "  <thead>\n",
       "    <tr style=\"text-align: right;\">\n",
       "      <th></th>\n",
       "      <th>Location</th>\n",
       "      <th>MinTemp</th>\n",
       "      <th>MaxTemp</th>\n",
       "      <th>Rainfall</th>\n",
       "      <th>Evaporation</th>\n",
       "      <th>Sunshine</th>\n",
       "      <th>WindGustDir</th>\n",
       "      <th>WindGustSpeed</th>\n",
       "      <th>WindDir9am</th>\n",
       "      <th>WindDir3pm</th>\n",
       "      <th>...</th>\n",
       "      <th>Pressure3pm</th>\n",
       "      <th>Cloud9am</th>\n",
       "      <th>Cloud3pm</th>\n",
       "      <th>Temp9am</th>\n",
       "      <th>Temp3pm</th>\n",
       "      <th>RainToday</th>\n",
       "      <th>RainTomorrow</th>\n",
       "      <th>Year</th>\n",
       "      <th>Month</th>\n",
       "      <th>Day</th>\n",
       "    </tr>\n",
       "  </thead>\n",
       "  <tbody>\n",
       "    <tr>\n",
       "      <th>0</th>\n",
       "      <td>Albury</td>\n",
       "      <td>13.4</td>\n",
       "      <td>22.9</td>\n",
       "      <td>0.6</td>\n",
       "      <td>NaN</td>\n",
       "      <td>NaN</td>\n",
       "      <td>W</td>\n",
       "      <td>44.0</td>\n",
       "      <td>W</td>\n",
       "      <td>WNW</td>\n",
       "      <td>...</td>\n",
       "      <td>1007.1</td>\n",
       "      <td>8.0</td>\n",
       "      <td>NaN</td>\n",
       "      <td>16.9</td>\n",
       "      <td>21.8</td>\n",
       "      <td>No</td>\n",
       "      <td>No</td>\n",
       "      <td>2008</td>\n",
       "      <td>12</td>\n",
       "      <td>1</td>\n",
       "    </tr>\n",
       "    <tr>\n",
       "      <th>1</th>\n",
       "      <td>Albury</td>\n",
       "      <td>7.4</td>\n",
       "      <td>25.1</td>\n",
       "      <td>0.0</td>\n",
       "      <td>NaN</td>\n",
       "      <td>NaN</td>\n",
       "      <td>WNW</td>\n",
       "      <td>44.0</td>\n",
       "      <td>NNW</td>\n",
       "      <td>WSW</td>\n",
       "      <td>...</td>\n",
       "      <td>1007.8</td>\n",
       "      <td>NaN</td>\n",
       "      <td>NaN</td>\n",
       "      <td>17.2</td>\n",
       "      <td>24.3</td>\n",
       "      <td>No</td>\n",
       "      <td>No</td>\n",
       "      <td>2008</td>\n",
       "      <td>12</td>\n",
       "      <td>2</td>\n",
       "    </tr>\n",
       "    <tr>\n",
       "      <th>2</th>\n",
       "      <td>Albury</td>\n",
       "      <td>12.9</td>\n",
       "      <td>25.7</td>\n",
       "      <td>0.0</td>\n",
       "      <td>NaN</td>\n",
       "      <td>NaN</td>\n",
       "      <td>WSW</td>\n",
       "      <td>46.0</td>\n",
       "      <td>W</td>\n",
       "      <td>WSW</td>\n",
       "      <td>...</td>\n",
       "      <td>1008.7</td>\n",
       "      <td>NaN</td>\n",
       "      <td>2.0</td>\n",
       "      <td>21.0</td>\n",
       "      <td>23.2</td>\n",
       "      <td>No</td>\n",
       "      <td>No</td>\n",
       "      <td>2008</td>\n",
       "      <td>12</td>\n",
       "      <td>3</td>\n",
       "    </tr>\n",
       "    <tr>\n",
       "      <th>3</th>\n",
       "      <td>Albury</td>\n",
       "      <td>9.2</td>\n",
       "      <td>28.0</td>\n",
       "      <td>0.0</td>\n",
       "      <td>NaN</td>\n",
       "      <td>NaN</td>\n",
       "      <td>NE</td>\n",
       "      <td>24.0</td>\n",
       "      <td>SE</td>\n",
       "      <td>E</td>\n",
       "      <td>...</td>\n",
       "      <td>1012.8</td>\n",
       "      <td>NaN</td>\n",
       "      <td>NaN</td>\n",
       "      <td>18.1</td>\n",
       "      <td>26.5</td>\n",
       "      <td>No</td>\n",
       "      <td>No</td>\n",
       "      <td>2008</td>\n",
       "      <td>12</td>\n",
       "      <td>4</td>\n",
       "    </tr>\n",
       "    <tr>\n",
       "      <th>4</th>\n",
       "      <td>Albury</td>\n",
       "      <td>17.5</td>\n",
       "      <td>32.3</td>\n",
       "      <td>1.0</td>\n",
       "      <td>NaN</td>\n",
       "      <td>NaN</td>\n",
       "      <td>W</td>\n",
       "      <td>41.0</td>\n",
       "      <td>ENE</td>\n",
       "      <td>NW</td>\n",
       "      <td>...</td>\n",
       "      <td>1006.0</td>\n",
       "      <td>7.0</td>\n",
       "      <td>8.0</td>\n",
       "      <td>17.8</td>\n",
       "      <td>29.7</td>\n",
       "      <td>No</td>\n",
       "      <td>No</td>\n",
       "      <td>2008</td>\n",
       "      <td>12</td>\n",
       "      <td>5</td>\n",
       "    </tr>\n",
       "  </tbody>\n",
       "</table>\n",
       "<p>5 rows × 25 columns</p>\n",
       "</div>"
      ],
      "text/plain": [
       "  Location  MinTemp  MaxTemp  Rainfall  Evaporation  Sunshine WindGustDir  \\\n",
       "0   Albury     13.4     22.9       0.6          NaN       NaN           W   \n",
       "1   Albury      7.4     25.1       0.0          NaN       NaN         WNW   \n",
       "2   Albury     12.9     25.7       0.0          NaN       NaN         WSW   \n",
       "3   Albury      9.2     28.0       0.0          NaN       NaN          NE   \n",
       "4   Albury     17.5     32.3       1.0          NaN       NaN           W   \n",
       "\n",
       "   WindGustSpeed WindDir9am WindDir3pm  ...  Pressure3pm  Cloud9am  Cloud3pm  \\\n",
       "0           44.0          W        WNW  ...       1007.1       8.0       NaN   \n",
       "1           44.0        NNW        WSW  ...       1007.8       NaN       NaN   \n",
       "2           46.0          W        WSW  ...       1008.7       NaN       2.0   \n",
       "3           24.0         SE          E  ...       1012.8       NaN       NaN   \n",
       "4           41.0        ENE         NW  ...       1006.0       7.0       8.0   \n",
       "\n",
       "   Temp9am  Temp3pm  RainToday  RainTomorrow  Year  Month  Day  \n",
       "0     16.9     21.8         No            No  2008     12    1  \n",
       "1     17.2     24.3         No            No  2008     12    2  \n",
       "2     21.0     23.2         No            No  2008     12    3  \n",
       "3     18.1     26.5         No            No  2008     12    4  \n",
       "4     17.8     29.7         No            No  2008     12    5  \n",
       "\n",
       "[5 rows x 25 columns]"
      ]
     },
     "execution_count": 21,
     "metadata": {},
     "output_type": "execute_result"
    }
   ],
   "source": [
    "weather_df.head()"
   ]
  },
  {
   "cell_type": "markdown",
   "id": "c74bc55b",
   "metadata": {},
   "source": [
    "### 1.4.2 Imputation of missing values in categorical data (Wind Direction & Rain Today)"
   ]
  },
  {
   "cell_type": "markdown",
   "id": "4e5c2a43",
   "metadata": {},
   "source": [
    "#### Wind Direction"
   ]
  },
  {
   "cell_type": "code",
   "execution_count": 22,
   "id": "a757ae00",
   "metadata": {},
   "outputs": [
    {
     "data": {
      "text/html": [
       "<div>\n",
       "<style scoped>\n",
       "    .dataframe tbody tr th:only-of-type {\n",
       "        vertical-align: middle;\n",
       "    }\n",
       "\n",
       "    .dataframe tbody tr th {\n",
       "        vertical-align: top;\n",
       "    }\n",
       "\n",
       "    .dataframe thead th {\n",
       "        text-align: right;\n",
       "    }\n",
       "</style>\n",
       "<table border=\"1\" class=\"dataframe\">\n",
       "  <thead>\n",
       "    <tr style=\"text-align: right;\">\n",
       "      <th></th>\n",
       "      <th>WindGustDir</th>\n",
       "      <th>WindDir9am</th>\n",
       "      <th>WindDir3pm</th>\n",
       "    </tr>\n",
       "  </thead>\n",
       "  <tbody>\n",
       "    <tr>\n",
       "      <th>0</th>\n",
       "      <td>False</td>\n",
       "      <td>False</td>\n",
       "      <td>False</td>\n",
       "    </tr>\n",
       "    <tr>\n",
       "      <th>1</th>\n",
       "      <td>False</td>\n",
       "      <td>False</td>\n",
       "      <td>False</td>\n",
       "    </tr>\n",
       "    <tr>\n",
       "      <th>2</th>\n",
       "      <td>False</td>\n",
       "      <td>False</td>\n",
       "      <td>False</td>\n",
       "    </tr>\n",
       "    <tr>\n",
       "      <th>3</th>\n",
       "      <td>False</td>\n",
       "      <td>False</td>\n",
       "      <td>False</td>\n",
       "    </tr>\n",
       "    <tr>\n",
       "      <th>4</th>\n",
       "      <td>False</td>\n",
       "      <td>False</td>\n",
       "      <td>False</td>\n",
       "    </tr>\n",
       "    <tr>\n",
       "      <th>...</th>\n",
       "      <td>...</td>\n",
       "      <td>...</td>\n",
       "      <td>...</td>\n",
       "    </tr>\n",
       "    <tr>\n",
       "      <th>142188</th>\n",
       "      <td>False</td>\n",
       "      <td>False</td>\n",
       "      <td>False</td>\n",
       "    </tr>\n",
       "    <tr>\n",
       "      <th>142189</th>\n",
       "      <td>False</td>\n",
       "      <td>False</td>\n",
       "      <td>False</td>\n",
       "    </tr>\n",
       "    <tr>\n",
       "      <th>142190</th>\n",
       "      <td>False</td>\n",
       "      <td>False</td>\n",
       "      <td>False</td>\n",
       "    </tr>\n",
       "    <tr>\n",
       "      <th>142191</th>\n",
       "      <td>False</td>\n",
       "      <td>False</td>\n",
       "      <td>False</td>\n",
       "    </tr>\n",
       "    <tr>\n",
       "      <th>142192</th>\n",
       "      <td>False</td>\n",
       "      <td>False</td>\n",
       "      <td>False</td>\n",
       "    </tr>\n",
       "  </tbody>\n",
       "</table>\n",
       "<p>142193 rows × 3 columns</p>\n",
       "</div>"
      ],
      "text/plain": [
       "        WindGustDir  WindDir9am  WindDir3pm\n",
       "0             False       False       False\n",
       "1             False       False       False\n",
       "2             False       False       False\n",
       "3             False       False       False\n",
       "4             False       False       False\n",
       "...             ...         ...         ...\n",
       "142188        False       False       False\n",
       "142189        False       False       False\n",
       "142190        False       False       False\n",
       "142191        False       False       False\n",
       "142192        False       False       False\n",
       "\n",
       "[142193 rows x 3 columns]"
      ]
     },
     "execution_count": 22,
     "metadata": {},
     "output_type": "execute_result"
    }
   ],
   "source": [
    "# Extract the three cols of Wind Direction. Then convert them to Boolean Truth Table.\n",
    "Wind_truthTable = pd.concat([pd.DataFrame(weather_df['WindGustDir'].isnull()), \n",
    "           pd.DataFrame(weather_df['WindDir9am'].isnull()), \n",
    "           pd.DataFrame(weather_df['WindDir3pm'].isnull())], axis=1)\n",
    "Wind_truthTable"
   ]
  },
  {
   "cell_type": "code",
   "execution_count": 23,
   "id": "3af3d488",
   "metadata": {},
   "outputs": [],
   "source": [
    "# Finding out the rows with more than 1 WindDir loss. (By Boolean Algebra.)\n",
    "Over_one_missing = Wind_truthTable[(Wind_truthTable['WindGustDir']==True)*(Wind_truthTable['WindDir3pm']==True) +\n",
    "                      (Wind_truthTable['WindDir3pm']==True)*(Wind_truthTable['WindDir9am']==True) +\n",
    "                      (Wind_truthTable['WindGustDir']==True)*(Wind_truthTable['WindDir9am']==True)]"
   ]
  },
  {
   "cell_type": "code",
   "execution_count": 24,
   "id": "ae3d51fa",
   "metadata": {
    "scrolled": false
   },
   "outputs": [
    {
     "data": {
      "text/plain": [
       "(4107, 3)"
      ]
     },
     "execution_count": 24,
     "metadata": {},
     "output_type": "execute_result"
    }
   ],
   "source": [
    "Over_one_missing.shape"
   ]
  },
  {
   "cell_type": "code",
   "execution_count": 25,
   "id": "43aa8fc6",
   "metadata": {
    "scrolled": false
   },
   "outputs": [
    {
     "data": {
      "text/html": [
       "<div>\n",
       "<style scoped>\n",
       "    .dataframe tbody tr th:only-of-type {\n",
       "        vertical-align: middle;\n",
       "    }\n",
       "\n",
       "    .dataframe tbody tr th {\n",
       "        vertical-align: top;\n",
       "    }\n",
       "\n",
       "    .dataframe thead th {\n",
       "        text-align: right;\n",
       "    }\n",
       "</style>\n",
       "<table border=\"1\" class=\"dataframe\">\n",
       "  <thead>\n",
       "    <tr style=\"text-align: right;\">\n",
       "      <th></th>\n",
       "      <th>WindGustDir</th>\n",
       "      <th>WindDir9am</th>\n",
       "      <th>WindDir3pm</th>\n",
       "    </tr>\n",
       "  </thead>\n",
       "  <tbody>\n",
       "    <tr>\n",
       "      <th>63</th>\n",
       "      <td>True</td>\n",
       "      <td>False</td>\n",
       "      <td>True</td>\n",
       "    </tr>\n",
       "    <tr>\n",
       "      <th>64</th>\n",
       "      <td>True</td>\n",
       "      <td>True</td>\n",
       "      <td>True</td>\n",
       "    </tr>\n",
       "    <tr>\n",
       "      <th>181</th>\n",
       "      <td>False</td>\n",
       "      <td>True</td>\n",
       "      <td>True</td>\n",
       "    </tr>\n",
       "    <tr>\n",
       "      <th>289</th>\n",
       "      <td>False</td>\n",
       "      <td>True</td>\n",
       "      <td>True</td>\n",
       "    </tr>\n",
       "    <tr>\n",
       "      <th>515</th>\n",
       "      <td>False</td>\n",
       "      <td>True</td>\n",
       "      <td>True</td>\n",
       "    </tr>\n",
       "    <tr>\n",
       "      <th>...</th>\n",
       "      <td>...</td>\n",
       "      <td>...</td>\n",
       "      <td>...</td>\n",
       "    </tr>\n",
       "    <tr>\n",
       "      <th>141823</th>\n",
       "      <td>True</td>\n",
       "      <td>True</td>\n",
       "      <td>True</td>\n",
       "    </tr>\n",
       "    <tr>\n",
       "      <th>141824</th>\n",
       "      <td>True</td>\n",
       "      <td>True</td>\n",
       "      <td>True</td>\n",
       "    </tr>\n",
       "    <tr>\n",
       "      <th>141825</th>\n",
       "      <td>True</td>\n",
       "      <td>True</td>\n",
       "      <td>True</td>\n",
       "    </tr>\n",
       "    <tr>\n",
       "      <th>141826</th>\n",
       "      <td>True</td>\n",
       "      <td>True</td>\n",
       "      <td>True</td>\n",
       "    </tr>\n",
       "    <tr>\n",
       "      <th>141827</th>\n",
       "      <td>True</td>\n",
       "      <td>True</td>\n",
       "      <td>True</td>\n",
       "    </tr>\n",
       "  </tbody>\n",
       "</table>\n",
       "<p>4107 rows × 3 columns</p>\n",
       "</div>"
      ],
      "text/plain": [
       "        WindGustDir  WindDir9am  WindDir3pm\n",
       "63             True       False        True\n",
       "64             True        True        True\n",
       "181           False        True        True\n",
       "289           False        True        True\n",
       "515           False        True        True\n",
       "...             ...         ...         ...\n",
       "141823         True        True        True\n",
       "141824         True        True        True\n",
       "141825         True        True        True\n",
       "141826         True        True        True\n",
       "141827         True        True        True\n",
       "\n",
       "[4107 rows x 3 columns]"
      ]
     },
     "execution_count": 25,
     "metadata": {},
     "output_type": "execute_result"
    }
   ],
   "source": [
    "Over_one_missing # True means that the correspond entry is missing. "
   ]
  },
  {
   "cell_type": "markdown",
   "id": "5ab6343a",
   "metadata": {},
   "source": [
    "<font color=darkblue>**We find that the number of rows missing two or three Wind Direction observations in the overall dataset in about 4,000, which is small compared to the entire datatset. Thus, we choose to delete these rows.**"
   ]
  },
  {
   "cell_type": "code",
   "execution_count": 26,
   "id": "4f3760ff",
   "metadata": {
    "scrolled": false
   },
   "outputs": [],
   "source": [
    "# Deleting rows with 2 or 3 missing wind data.\n",
    "weather_df.drop(Over_one_missing.index, inplace=True) "
   ]
  },
  {
   "cell_type": "code",
   "execution_count": 27,
   "id": "0bdc73f5",
   "metadata": {},
   "outputs": [],
   "source": [
    "weather_df.reset_index(drop=True, inplace=True) # Reindex"
   ]
  },
  {
   "cell_type": "markdown",
   "id": "3db7166d",
   "metadata": {},
   "source": [
    "<font color=darkblue>**Now we have a clearer dataset with maximum one missing Wind data. We will process to determine how we should deal with these missing values.**"
   ]
  },
  {
   "cell_type": "code",
   "execution_count": 28,
   "id": "2d9bc06c",
   "metadata": {
    "scrolled": true
   },
   "outputs": [
    {
     "data": {
      "text/plain": [
       "W      9762\n",
       "SE     9300\n",
       "E      9058\n",
       "N      9014\n",
       "SSE    8974\n",
       "S      8933\n",
       "WSW    8878\n",
       "SW     8776\n",
       "SSW    8595\n",
       "WNW    8044\n",
       "NW     7991\n",
       "ENE    7973\n",
       "ESE    7288\n",
       "NE     7039\n",
       "NNW    6544\n",
       "NNE    6412\n",
       "Name: WindGustDir, dtype: int64"
      ]
     },
     "execution_count": 28,
     "metadata": {},
     "output_type": "execute_result"
    }
   ],
   "source": [
    "# Check countings of different observations in WindGustDir\n",
    "weather_df.WindGustDir.value_counts() "
   ]
  },
  {
   "cell_type": "code",
   "execution_count": 29,
   "id": "ae1c26c1",
   "metadata": {
    "scrolled": false
   },
   "outputs": [
    {
     "data": {
      "text/plain": [
       "N      11306\n",
       "SE      8989\n",
       "E       8965\n",
       "SSE     8941\n",
       "S       8421\n",
       "NW      8248\n",
       "W       8182\n",
       "SW      8101\n",
       "NNE     7926\n",
       "NNW     7803\n",
       "ENE     7704\n",
       "ESE     7531\n",
       "NE      7390\n",
       "SSW     7372\n",
       "WNW     7163\n",
       "WSW     6801\n",
       "Name: WindDir9am, dtype: int64"
      ]
     },
     "execution_count": 29,
     "metadata": {},
     "output_type": "execute_result"
    }
   ],
   "source": [
    "# Check countings of different observations in WindDir9am\n",
    "weather_df.WindDir9am.value_counts() "
   ]
  },
  {
   "cell_type": "code",
   "execution_count": 30,
   "id": "9a0b0a52",
   "metadata": {
    "scrolled": false
   },
   "outputs": [
    {
     "data": {
      "text/plain": [
       "SE     10227\n",
       "W       9882\n",
       "S       9573\n",
       "WSW     9309\n",
       "SW      9127\n",
       "SSE     9123\n",
       "N       8638\n",
       "WNW     8638\n",
       "NW      8350\n",
       "ESE     8346\n",
       "E       8310\n",
       "NE      8056\n",
       "SSW     7992\n",
       "NNW     7711\n",
       "ENE     7705\n",
       "NNE     6429\n",
       "Name: WindDir3pm, dtype: int64"
      ]
     },
     "execution_count": 30,
     "metadata": {},
     "output_type": "execute_result"
    }
   ],
   "source": [
    "# Check countings of different observations in WindDir3pm\n",
    "weather_df.WindDir3pm.value_counts() "
   ]
  },
  {
   "cell_type": "code",
   "execution_count": 31,
   "id": "45958cf3",
   "metadata": {},
   "outputs": [
    {
     "data": {
      "text/plain": [
       "28053"
      ]
     },
     "execution_count": 31,
     "metadata": {},
     "output_type": "execute_result"
    }
   ],
   "source": [
    "(weather_df['WindGustDir'] == weather_df['WindDir9am']).sum()"
   ]
  },
  {
   "cell_type": "code",
   "execution_count": 32,
   "id": "16390f04",
   "metadata": {
    "scrolled": true
   },
   "outputs": [
    {
     "data": {
      "text/plain": [
       "41536"
      ]
     },
     "execution_count": 32,
     "metadata": {},
     "output_type": "execute_result"
    }
   ],
   "source": [
    "(weather_df['WindGustDir'] == weather_df['WindDir3pm']).sum()"
   ]
  },
  {
   "cell_type": "code",
   "execution_count": 33,
   "id": "07f68d56",
   "metadata": {
    "scrolled": true
   },
   "outputs": [
    {
     "data": {
      "text/plain": [
       "23235"
      ]
     },
     "execution_count": 33,
     "metadata": {},
     "output_type": "execute_result"
    }
   ],
   "source": [
    "(weather_df['WindDir9am'] == weather_df['WindDir3pm']).sum()"
   ]
  },
  {
   "cell_type": "markdown",
   "id": "e4100f19",
   "metadata": {},
   "source": [
    "<font color=darkblue>Since there are over 10,000 data missing, we cannot simply delete all of them. One of the common but easy method to deal with missing categorical variables is just filling them with the most frequently appeared observation. However, we find that the counting of different observartions are really close to each other, thus, we decided to use a more reasonable way to fill them, i.e., filling the missing wind direction by observations nearby. This filling mechanism also has reasonable meaning in practice, which is based on wind observations from each day.\n",
    "\n",
    "Based on statistics, we decided to:\n",
    "1. fill WindGustDir by WindDir3pm, and vice versa;\n",
    "2. fill WindDir9am by WindGustDir."
   ]
  },
  {
   "cell_type": "code",
   "execution_count": 34,
   "id": "36e49db8",
   "metadata": {},
   "outputs": [],
   "source": [
    "# fill na as dicussed above\n",
    "weather_df.WindGustDir=weather_df.WindGustDir.fillna(weather_df.WindDir3pm)\n",
    "weather_df.WindDir3pm=weather_df.WindDir3pm.fillna(weather_df.WindGustDir)\n",
    "weather_df.WindDir9am=weather_df.WindDir9am.fillna(weather_df.WindGustDir)"
   ]
  },
  {
   "cell_type": "code",
   "execution_count": 35,
   "id": "7be6f32e",
   "metadata": {
    "scrolled": false
   },
   "outputs": [
    {
     "data": {
      "text/plain": [
       "WindGustDir    0\n",
       "WindDir9am     0\n",
       "WindDir3pm     0\n",
       "dtype: int64"
      ]
     },
     "execution_count": 35,
     "metadata": {},
     "output_type": "execute_result"
    }
   ],
   "source": [
    "# Check number of missing values again\n",
    "weather_df[['WindGustDir', 'WindDir9am', 'WindDir3pm']].isnull().sum()"
   ]
  },
  {
   "cell_type": "markdown",
   "id": "63067361",
   "metadata": {},
   "source": [
    "<font color=darkblue>**Now we have a dataset with no missing Wind data.**"
   ]
  },
  {
   "cell_type": "markdown",
   "id": "c16afe2c",
   "metadata": {},
   "source": [
    "#### Rain Today"
   ]
  },
  {
   "cell_type": "code",
   "execution_count": 36,
   "id": "4dde2dc8",
   "metadata": {},
   "outputs": [
    {
     "data": {
      "text/plain": [
       "1282"
      ]
     },
     "execution_count": 36,
     "metadata": {},
     "output_type": "execute_result"
    }
   ],
   "source": [
    "# Check number of missing values\n",
    "weather_df['RainToday'].isnull().sum()"
   ]
  },
  {
   "cell_type": "code",
   "execution_count": 37,
   "id": "daac88fc",
   "metadata": {},
   "outputs": [
    {
     "data": {
      "text/plain": [
       "No     106350\n",
       "Yes     30454\n",
       "Name: RainToday, dtype: int64"
      ]
     },
     "execution_count": 37,
     "metadata": {},
     "output_type": "execute_result"
    }
   ],
   "source": [
    "# Show distribution of observations\n",
    "weather_df['RainToday'].value_counts()"
   ]
  },
  {
   "cell_type": "markdown",
   "id": "f07af429",
   "metadata": {},
   "source": [
    "Here, since number of 'No' observations overweigh 'Yes', we choose to fill the missing values with the most frequent observation, which is 'No'."
   ]
  },
  {
   "cell_type": "code",
   "execution_count": 38,
   "id": "111dc59a",
   "metadata": {},
   "outputs": [],
   "source": [
    "# Fill missing values with the most frequent observation, i.e. 'No'\n",
    "weather_df['RainToday'].fillna(weather_df['RainToday'].mode()[0], inplace=True)"
   ]
  },
  {
   "cell_type": "code",
   "execution_count": 39,
   "id": "d2ee1d23",
   "metadata": {
    "scrolled": true
   },
   "outputs": [
    {
     "data": {
      "text/plain": [
       "0"
      ]
     },
     "execution_count": 39,
     "metadata": {},
     "output_type": "execute_result"
    }
   ],
   "source": [
    "\n",
    "# Check missing values again\n",
    "weather_df['RainToday'].isnull().sum()"
   ]
  },
  {
   "cell_type": "markdown",
   "id": "7edb8ebc",
   "metadata": {},
   "source": [
    "## 1.5 Handle Numberic Data"
   ]
  },
  {
   "cell_type": "code",
   "execution_count": 40,
   "id": "a793e31d",
   "metadata": {},
   "outputs": [
    {
     "data": {
      "text/plain": [
       "MinTemp            267\n",
       "MaxTemp            127\n",
       "Rainfall          1282\n",
       "Evaporation      57888\n",
       "Sunshine         64367\n",
       "WindGustSpeed     5492\n",
       "WindSpeed9am       278\n",
       "WindSpeed3pm       203\n",
       "Humidity9am       1356\n",
       "Humidity3pm       1841\n",
       "Pressure9am      11356\n",
       "Pressure3pm      11299\n",
       "Cloud9am         52433\n",
       "Cloud3pm         54508\n",
       "Temp9am            551\n",
       "Temp3pm           1011\n",
       "dtype: int64"
      ]
     },
     "execution_count": 40,
     "metadata": {},
     "output_type": "execute_result"
    }
   ],
   "source": [
    "# check missing values of each numeric var\n",
    "weather_df[numeric].isnull().sum()"
   ]
  },
  {
   "cell_type": "code",
   "execution_count": 41,
   "id": "ac414af7",
   "metadata": {},
   "outputs": [
    {
     "data": {
      "text/html": [
       "<div>\n",
       "<style scoped>\n",
       "    .dataframe tbody tr th:only-of-type {\n",
       "        vertical-align: middle;\n",
       "    }\n",
       "\n",
       "    .dataframe tbody tr th {\n",
       "        vertical-align: top;\n",
       "    }\n",
       "\n",
       "    .dataframe thead th {\n",
       "        text-align: right;\n",
       "    }\n",
       "</style>\n",
       "<table border=\"1\" class=\"dataframe\">\n",
       "  <thead>\n",
       "    <tr style=\"text-align: right;\">\n",
       "      <th></th>\n",
       "      <th>MinTemp</th>\n",
       "      <th>MaxTemp</th>\n",
       "      <th>Rainfall</th>\n",
       "      <th>Evaporation</th>\n",
       "      <th>Sunshine</th>\n",
       "      <th>WindGustSpeed</th>\n",
       "      <th>WindSpeed9am</th>\n",
       "      <th>WindSpeed3pm</th>\n",
       "      <th>Humidity9am</th>\n",
       "      <th>Humidity3pm</th>\n",
       "      <th>Pressure9am</th>\n",
       "      <th>Pressure3pm</th>\n",
       "      <th>Cloud9am</th>\n",
       "      <th>Cloud3pm</th>\n",
       "      <th>Temp9am</th>\n",
       "      <th>Temp3pm</th>\n",
       "    </tr>\n",
       "  </thead>\n",
       "  <tbody>\n",
       "    <tr>\n",
       "      <th>count</th>\n",
       "      <td>137819.0</td>\n",
       "      <td>137959.0</td>\n",
       "      <td>136804.0</td>\n",
       "      <td>80198.0</td>\n",
       "      <td>73719.0</td>\n",
       "      <td>132594.0</td>\n",
       "      <td>137808.0</td>\n",
       "      <td>137883.0</td>\n",
       "      <td>136730.0</td>\n",
       "      <td>136245.0</td>\n",
       "      <td>126730.0</td>\n",
       "      <td>126787.0</td>\n",
       "      <td>85653.0</td>\n",
       "      <td>83578.0</td>\n",
       "      <td>137535.0</td>\n",
       "      <td>137075.0</td>\n",
       "    </tr>\n",
       "    <tr>\n",
       "      <th>mean</th>\n",
       "      <td>12.0</td>\n",
       "      <td>23.0</td>\n",
       "      <td>2.0</td>\n",
       "      <td>5.0</td>\n",
       "      <td>8.0</td>\n",
       "      <td>40.0</td>\n",
       "      <td>14.0</td>\n",
       "      <td>19.0</td>\n",
       "      <td>69.0</td>\n",
       "      <td>51.0</td>\n",
       "      <td>1018.0</td>\n",
       "      <td>1015.0</td>\n",
       "      <td>4.0</td>\n",
       "      <td>5.0</td>\n",
       "      <td>17.0</td>\n",
       "      <td>22.0</td>\n",
       "    </tr>\n",
       "    <tr>\n",
       "      <th>std</th>\n",
       "      <td>6.0</td>\n",
       "      <td>7.0</td>\n",
       "      <td>8.0</td>\n",
       "      <td>4.0</td>\n",
       "      <td>4.0</td>\n",
       "      <td>14.0</td>\n",
       "      <td>9.0</td>\n",
       "      <td>9.0</td>\n",
       "      <td>19.0</td>\n",
       "      <td>21.0</td>\n",
       "      <td>7.0</td>\n",
       "      <td>7.0</td>\n",
       "      <td>3.0</td>\n",
       "      <td>3.0</td>\n",
       "      <td>7.0</td>\n",
       "      <td>7.0</td>\n",
       "    </tr>\n",
       "    <tr>\n",
       "      <th>min</th>\n",
       "      <td>-8.0</td>\n",
       "      <td>-5.0</td>\n",
       "      <td>0.0</td>\n",
       "      <td>0.0</td>\n",
       "      <td>0.0</td>\n",
       "      <td>6.0</td>\n",
       "      <td>0.0</td>\n",
       "      <td>0.0</td>\n",
       "      <td>0.0</td>\n",
       "      <td>0.0</td>\n",
       "      <td>980.0</td>\n",
       "      <td>977.0</td>\n",
       "      <td>0.0</td>\n",
       "      <td>0.0</td>\n",
       "      <td>-7.0</td>\n",
       "      <td>-5.0</td>\n",
       "    </tr>\n",
       "    <tr>\n",
       "      <th>25%</th>\n",
       "      <td>8.0</td>\n",
       "      <td>18.0</td>\n",
       "      <td>0.0</td>\n",
       "      <td>3.0</td>\n",
       "      <td>5.0</td>\n",
       "      <td>31.0</td>\n",
       "      <td>7.0</td>\n",
       "      <td>13.0</td>\n",
       "      <td>57.0</td>\n",
       "      <td>36.0</td>\n",
       "      <td>1013.0</td>\n",
       "      <td>1010.0</td>\n",
       "      <td>1.0</td>\n",
       "      <td>2.0</td>\n",
       "      <td>12.0</td>\n",
       "      <td>17.0</td>\n",
       "    </tr>\n",
       "    <tr>\n",
       "      <th>50%</th>\n",
       "      <td>12.0</td>\n",
       "      <td>23.0</td>\n",
       "      <td>0.0</td>\n",
       "      <td>5.0</td>\n",
       "      <td>8.0</td>\n",
       "      <td>39.0</td>\n",
       "      <td>13.0</td>\n",
       "      <td>19.0</td>\n",
       "      <td>70.0</td>\n",
       "      <td>52.0</td>\n",
       "      <td>1018.0</td>\n",
       "      <td>1015.0</td>\n",
       "      <td>5.0</td>\n",
       "      <td>5.0</td>\n",
       "      <td>17.0</td>\n",
       "      <td>21.0</td>\n",
       "    </tr>\n",
       "    <tr>\n",
       "      <th>75%</th>\n",
       "      <td>17.0</td>\n",
       "      <td>28.0</td>\n",
       "      <td>1.0</td>\n",
       "      <td>7.0</td>\n",
       "      <td>11.0</td>\n",
       "      <td>48.0</td>\n",
       "      <td>19.0</td>\n",
       "      <td>24.0</td>\n",
       "      <td>83.0</td>\n",
       "      <td>65.0</td>\n",
       "      <td>1022.0</td>\n",
       "      <td>1020.0</td>\n",
       "      <td>7.0</td>\n",
       "      <td>7.0</td>\n",
       "      <td>22.0</td>\n",
       "      <td>26.0</td>\n",
       "    </tr>\n",
       "    <tr>\n",
       "      <th>max</th>\n",
       "      <td>34.0</td>\n",
       "      <td>48.0</td>\n",
       "      <td>371.0</td>\n",
       "      <td>86.0</td>\n",
       "      <td>14.0</td>\n",
       "      <td>135.0</td>\n",
       "      <td>87.0</td>\n",
       "      <td>87.0</td>\n",
       "      <td>100.0</td>\n",
       "      <td>100.0</td>\n",
       "      <td>1041.0</td>\n",
       "      <td>1040.0</td>\n",
       "      <td>9.0</td>\n",
       "      <td>9.0</td>\n",
       "      <td>40.0</td>\n",
       "      <td>47.0</td>\n",
       "    </tr>\n",
       "  </tbody>\n",
       "</table>\n",
       "</div>"
      ],
      "text/plain": [
       "        MinTemp   MaxTemp  Rainfall  Evaporation  Sunshine  WindGustSpeed  \\\n",
       "count  137819.0  137959.0  136804.0      80198.0   73719.0       132594.0   \n",
       "mean       12.0      23.0       2.0          5.0       8.0           40.0   \n",
       "std         6.0       7.0       8.0          4.0       4.0           14.0   \n",
       "min        -8.0      -5.0       0.0          0.0       0.0            6.0   \n",
       "25%         8.0      18.0       0.0          3.0       5.0           31.0   \n",
       "50%        12.0      23.0       0.0          5.0       8.0           39.0   \n",
       "75%        17.0      28.0       1.0          7.0      11.0           48.0   \n",
       "max        34.0      48.0     371.0         86.0      14.0          135.0   \n",
       "\n",
       "       WindSpeed9am  WindSpeed3pm  Humidity9am  Humidity3pm  Pressure9am  \\\n",
       "count      137808.0      137883.0     136730.0     136245.0     126730.0   \n",
       "mean           14.0          19.0         69.0         51.0       1018.0   \n",
       "std             9.0           9.0         19.0         21.0          7.0   \n",
       "min             0.0           0.0          0.0          0.0        980.0   \n",
       "25%             7.0          13.0         57.0         36.0       1013.0   \n",
       "50%            13.0          19.0         70.0         52.0       1018.0   \n",
       "75%            19.0          24.0         83.0         65.0       1022.0   \n",
       "max            87.0          87.0        100.0        100.0       1041.0   \n",
       "\n",
       "       Pressure3pm  Cloud9am  Cloud3pm   Temp9am   Temp3pm  \n",
       "count     126787.0   85653.0   83578.0  137535.0  137075.0  \n",
       "mean        1015.0       4.0       5.0      17.0      22.0  \n",
       "std            7.0       3.0       3.0       7.0       7.0  \n",
       "min          977.0       0.0       0.0      -7.0      -5.0  \n",
       "25%         1010.0       1.0       2.0      12.0      17.0  \n",
       "50%         1015.0       5.0       5.0      17.0      21.0  \n",
       "75%         1020.0       7.0       7.0      22.0      26.0  \n",
       "max         1040.0       9.0       9.0      40.0      47.0  "
      ]
     },
     "execution_count": 41,
     "metadata": {},
     "output_type": "execute_result"
    }
   ],
   "source": [
    "# check the distribution of each numeric var\n",
    "round(weather_df[numeric].describe())"
   ]
  },
  {
   "cell_type": "code",
   "execution_count": 42,
   "id": "4de2ab34",
   "metadata": {},
   "outputs": [],
   "source": [
    "# 画个长长的box plot"
   ]
  },
  {
   "cell_type": "markdown",
   "id": "7108ef99",
   "metadata": {},
   "source": [
    "### 1.5.1 Imputation of Missing Numerical Values"
   ]
  },
  {
   "cell_type": "code",
   "execution_count": 43,
   "id": "fc930524",
   "metadata": {},
   "outputs": [],
   "source": [
    "# median imputation\n",
    "for col in numeric:\n",
    "    weather_df[col].fillna(weather_df[col].median(), inplace=True)"
   ]
  },
  {
   "cell_type": "code",
   "execution_count": 44,
   "id": "04c807b6",
   "metadata": {},
   "outputs": [
    {
     "data": {
      "text/plain": [
       "MinTemp          0\n",
       "MaxTemp          0\n",
       "Rainfall         0\n",
       "Evaporation      0\n",
       "Sunshine         0\n",
       "WindGustSpeed    0\n",
       "WindSpeed9am     0\n",
       "WindSpeed3pm     0\n",
       "Humidity9am      0\n",
       "Humidity3pm      0\n",
       "Pressure9am      0\n",
       "Pressure3pm      0\n",
       "Cloud9am         0\n",
       "Cloud3pm         0\n",
       "Temp9am          0\n",
       "Temp3pm          0\n",
       "dtype: int64"
      ]
     },
     "execution_count": 44,
     "metadata": {},
     "output_type": "execute_result"
    }
   ],
   "source": [
    "# check missing value after imputation\n",
    "weather_df[numeric].isnull().sum()"
   ]
  },
  {
   "cell_type": "markdown",
   "id": "58361ee2",
   "metadata": {},
   "source": [
    "### 1.5.2 Process Outliers of Numerical Values"
   ]
  },
  {
   "cell_type": "code",
   "execution_count": 45,
   "id": "5916dc0d",
   "metadata": {},
   "outputs": [],
   "source": [
    "# 画五个的分布图"
   ]
  },
  {
   "cell_type": "code",
   "execution_count": 46,
   "id": "103fc321",
   "metadata": {},
   "outputs": [
    {
     "name": "stdout",
     "output_type": "stream",
     "text": [
      "Rainfall outliers are values < -1.7999999999999998 or > 2.4\n",
      "Evaporation outliers are values < -0.20000000000000107 or > 9.600000000000001\n",
      "WindGustSpeed outliers are values < -14.0 or > 91.0\n",
      "WindSpeed9am outliers are values < -29.0 or > 55.0\n",
      "WindSpeed3pm outliers are values < -20.0 or > 57.0\n"
     ]
    }
   ],
   "source": [
    "# find outlier boundaries\n",
    "colms=['Rainfall', 'Evaporation', 'WindGustSpeed', 'WindSpeed9am', 'WindSpeed3pm']\n",
    "for col in colms:\n",
    "    IQR = weather_df[col].quantile(0.75) - weather_df[col].quantile(0.25)\n",
    "    Lower = weather_df[col].quantile(0.25) - (IQR * 3)\n",
    "    Upper = weather_df[col].quantile(0.75) + (IQR * 3)\n",
    "    print(col+' outliers are values < {lowerboundary} or > {upperboundary}'.\n",
    "          format(lowerboundary=Lower, upperboundary=Upper))"
   ]
  },
  {
   "cell_type": "code",
   "execution_count": 47,
   "id": "93422783",
   "metadata": {},
   "outputs": [],
   "source": [
    "# replace outliers with boundary values\n",
    "weather_df['Rainfall']=np.where(weather_df['Rainfall']>2.4, 2.4, weather_df['Rainfall'])\n",
    "weather_df['Evaporation']=np.where(weather_df['Evaporation']>9.6, 9.6, weather_df['Evaporation'])\n",
    "weather_df['WindGustSpeed']=np.where(weather_df['WindGustSpeed']>91, 91, weather_df['WindGustSpeed'])\n",
    "weather_df['WindSpeed9am']=np.where(weather_df['WindSpeed9am']>55, 55, weather_df['WindSpeed9am'])\n",
    "weather_df['WindSpeed3pm']=np.where(weather_df['WindSpeed3pm']>57, 57, weather_df['WindSpeed3pm'])"
   ]
  },
  {
   "cell_type": "code",
   "execution_count": 48,
   "id": "8166bbd3",
   "metadata": {},
   "outputs": [
    {
     "data": {
      "text/plain": [
       "Rainfall          2.4\n",
       "Evaporation       9.6\n",
       "WindGustSpeed    91.0\n",
       "WindSpeed9am     55.0\n",
       "WindSpeed3pm     57.0\n",
       "dtype: float64"
      ]
     },
     "execution_count": 48,
     "metadata": {},
     "output_type": "execute_result"
    }
   ],
   "source": [
    "# check values after replacement\n",
    "weather_df[colms].max()"
   ]
  },
  {
   "cell_type": "markdown",
   "id": "4434a6e1",
   "metadata": {},
   "source": [
    "## 1.6 Declare Predictors and Target"
   ]
  },
  {
   "cell_type": "code",
   "execution_count": 49,
   "id": "66a98d19",
   "metadata": {},
   "outputs": [],
   "source": [
    "X=weather_df.drop(columns=['RainTomorrow'])\n",
    "y=weather_df['RainTomorrow']\n",
    "y=pd.DataFrame(y)"
   ]
  },
  {
   "cell_type": "markdown",
   "id": "edfa5ad4",
   "metadata": {},
   "source": [
    "## 1.7 Split Train and Test set"
   ]
  },
  {
   "cell_type": "code",
   "execution_count": 50,
   "id": "1b029da4",
   "metadata": {},
   "outputs": [
    {
     "data": {
      "text/html": [
       "<div>\n",
       "<style scoped>\n",
       "    .dataframe tbody tr th:only-of-type {\n",
       "        vertical-align: middle;\n",
       "    }\n",
       "\n",
       "    .dataframe tbody tr th {\n",
       "        vertical-align: top;\n",
       "    }\n",
       "\n",
       "    .dataframe thead th {\n",
       "        text-align: right;\n",
       "    }\n",
       "</style>\n",
       "<table border=\"1\" class=\"dataframe\">\n",
       "  <thead>\n",
       "    <tr style=\"text-align: right;\">\n",
       "      <th></th>\n",
       "      <th>Location</th>\n",
       "      <th>MinTemp</th>\n",
       "      <th>MaxTemp</th>\n",
       "      <th>Rainfall</th>\n",
       "      <th>Evaporation</th>\n",
       "      <th>Sunshine</th>\n",
       "      <th>WindGustDir</th>\n",
       "      <th>WindGustSpeed</th>\n",
       "      <th>WindDir9am</th>\n",
       "      <th>WindDir3pm</th>\n",
       "      <th>...</th>\n",
       "      <th>Pressure9am</th>\n",
       "      <th>Pressure3pm</th>\n",
       "      <th>Cloud9am</th>\n",
       "      <th>Cloud3pm</th>\n",
       "      <th>Temp9am</th>\n",
       "      <th>Temp3pm</th>\n",
       "      <th>RainToday</th>\n",
       "      <th>Year</th>\n",
       "      <th>Month</th>\n",
       "      <th>Day</th>\n",
       "    </tr>\n",
       "  </thead>\n",
       "  <tbody>\n",
       "    <tr>\n",
       "      <th>0</th>\n",
       "      <td>Albury</td>\n",
       "      <td>13.4</td>\n",
       "      <td>22.9</td>\n",
       "      <td>0.6</td>\n",
       "      <td>4.8</td>\n",
       "      <td>8.5</td>\n",
       "      <td>W</td>\n",
       "      <td>44.0</td>\n",
       "      <td>W</td>\n",
       "      <td>WNW</td>\n",
       "      <td>...</td>\n",
       "      <td>1007.7</td>\n",
       "      <td>1007.1</td>\n",
       "      <td>8.0</td>\n",
       "      <td>5.0</td>\n",
       "      <td>16.9</td>\n",
       "      <td>21.8</td>\n",
       "      <td>No</td>\n",
       "      <td>2008</td>\n",
       "      <td>12</td>\n",
       "      <td>1</td>\n",
       "    </tr>\n",
       "    <tr>\n",
       "      <th>1</th>\n",
       "      <td>Albury</td>\n",
       "      <td>7.4</td>\n",
       "      <td>25.1</td>\n",
       "      <td>0.0</td>\n",
       "      <td>4.8</td>\n",
       "      <td>8.5</td>\n",
       "      <td>WNW</td>\n",
       "      <td>44.0</td>\n",
       "      <td>NNW</td>\n",
       "      <td>WSW</td>\n",
       "      <td>...</td>\n",
       "      <td>1010.6</td>\n",
       "      <td>1007.8</td>\n",
       "      <td>5.0</td>\n",
       "      <td>5.0</td>\n",
       "      <td>17.2</td>\n",
       "      <td>24.3</td>\n",
       "      <td>No</td>\n",
       "      <td>2008</td>\n",
       "      <td>12</td>\n",
       "      <td>2</td>\n",
       "    </tr>\n",
       "    <tr>\n",
       "      <th>2</th>\n",
       "      <td>Albury</td>\n",
       "      <td>12.9</td>\n",
       "      <td>25.7</td>\n",
       "      <td>0.0</td>\n",
       "      <td>4.8</td>\n",
       "      <td>8.5</td>\n",
       "      <td>WSW</td>\n",
       "      <td>46.0</td>\n",
       "      <td>W</td>\n",
       "      <td>WSW</td>\n",
       "      <td>...</td>\n",
       "      <td>1007.6</td>\n",
       "      <td>1008.7</td>\n",
       "      <td>5.0</td>\n",
       "      <td>2.0</td>\n",
       "      <td>21.0</td>\n",
       "      <td>23.2</td>\n",
       "      <td>No</td>\n",
       "      <td>2008</td>\n",
       "      <td>12</td>\n",
       "      <td>3</td>\n",
       "    </tr>\n",
       "    <tr>\n",
       "      <th>3</th>\n",
       "      <td>Albury</td>\n",
       "      <td>9.2</td>\n",
       "      <td>28.0</td>\n",
       "      <td>0.0</td>\n",
       "      <td>4.8</td>\n",
       "      <td>8.5</td>\n",
       "      <td>NE</td>\n",
       "      <td>24.0</td>\n",
       "      <td>SE</td>\n",
       "      <td>E</td>\n",
       "      <td>...</td>\n",
       "      <td>1017.6</td>\n",
       "      <td>1012.8</td>\n",
       "      <td>5.0</td>\n",
       "      <td>5.0</td>\n",
       "      <td>18.1</td>\n",
       "      <td>26.5</td>\n",
       "      <td>No</td>\n",
       "      <td>2008</td>\n",
       "      <td>12</td>\n",
       "      <td>4</td>\n",
       "    </tr>\n",
       "    <tr>\n",
       "      <th>4</th>\n",
       "      <td>Albury</td>\n",
       "      <td>17.5</td>\n",
       "      <td>32.3</td>\n",
       "      <td>1.0</td>\n",
       "      <td>4.8</td>\n",
       "      <td>8.5</td>\n",
       "      <td>W</td>\n",
       "      <td>41.0</td>\n",
       "      <td>ENE</td>\n",
       "      <td>NW</td>\n",
       "      <td>...</td>\n",
       "      <td>1010.8</td>\n",
       "      <td>1006.0</td>\n",
       "      <td>7.0</td>\n",
       "      <td>8.0</td>\n",
       "      <td>17.8</td>\n",
       "      <td>29.7</td>\n",
       "      <td>No</td>\n",
       "      <td>2008</td>\n",
       "      <td>12</td>\n",
       "      <td>5</td>\n",
       "    </tr>\n",
       "    <tr>\n",
       "      <th>...</th>\n",
       "      <td>...</td>\n",
       "      <td>...</td>\n",
       "      <td>...</td>\n",
       "      <td>...</td>\n",
       "      <td>...</td>\n",
       "      <td>...</td>\n",
       "      <td>...</td>\n",
       "      <td>...</td>\n",
       "      <td>...</td>\n",
       "      <td>...</td>\n",
       "      <td>...</td>\n",
       "      <td>...</td>\n",
       "      <td>...</td>\n",
       "      <td>...</td>\n",
       "      <td>...</td>\n",
       "      <td>...</td>\n",
       "      <td>...</td>\n",
       "      <td>...</td>\n",
       "      <td>...</td>\n",
       "      <td>...</td>\n",
       "      <td>...</td>\n",
       "    </tr>\n",
       "    <tr>\n",
       "      <th>138081</th>\n",
       "      <td>Uluru</td>\n",
       "      <td>3.5</td>\n",
       "      <td>21.8</td>\n",
       "      <td>0.0</td>\n",
       "      <td>4.8</td>\n",
       "      <td>8.5</td>\n",
       "      <td>E</td>\n",
       "      <td>31.0</td>\n",
       "      <td>ESE</td>\n",
       "      <td>E</td>\n",
       "      <td>...</td>\n",
       "      <td>1024.7</td>\n",
       "      <td>1021.2</td>\n",
       "      <td>5.0</td>\n",
       "      <td>5.0</td>\n",
       "      <td>9.4</td>\n",
       "      <td>20.9</td>\n",
       "      <td>No</td>\n",
       "      <td>2017</td>\n",
       "      <td>6</td>\n",
       "      <td>20</td>\n",
       "    </tr>\n",
       "    <tr>\n",
       "      <th>138082</th>\n",
       "      <td>Uluru</td>\n",
       "      <td>2.8</td>\n",
       "      <td>23.4</td>\n",
       "      <td>0.0</td>\n",
       "      <td>4.8</td>\n",
       "      <td>8.5</td>\n",
       "      <td>E</td>\n",
       "      <td>31.0</td>\n",
       "      <td>SE</td>\n",
       "      <td>ENE</td>\n",
       "      <td>...</td>\n",
       "      <td>1024.6</td>\n",
       "      <td>1020.3</td>\n",
       "      <td>5.0</td>\n",
       "      <td>5.0</td>\n",
       "      <td>10.1</td>\n",
       "      <td>22.4</td>\n",
       "      <td>No</td>\n",
       "      <td>2017</td>\n",
       "      <td>6</td>\n",
       "      <td>21</td>\n",
       "    </tr>\n",
       "    <tr>\n",
       "      <th>138083</th>\n",
       "      <td>Uluru</td>\n",
       "      <td>3.6</td>\n",
       "      <td>25.3</td>\n",
       "      <td>0.0</td>\n",
       "      <td>4.8</td>\n",
       "      <td>8.5</td>\n",
       "      <td>NNW</td>\n",
       "      <td>22.0</td>\n",
       "      <td>SE</td>\n",
       "      <td>N</td>\n",
       "      <td>...</td>\n",
       "      <td>1023.5</td>\n",
       "      <td>1019.1</td>\n",
       "      <td>5.0</td>\n",
       "      <td>5.0</td>\n",
       "      <td>10.9</td>\n",
       "      <td>24.5</td>\n",
       "      <td>No</td>\n",
       "      <td>2017</td>\n",
       "      <td>6</td>\n",
       "      <td>22</td>\n",
       "    </tr>\n",
       "    <tr>\n",
       "      <th>138084</th>\n",
       "      <td>Uluru</td>\n",
       "      <td>5.4</td>\n",
       "      <td>26.9</td>\n",
       "      <td>0.0</td>\n",
       "      <td>4.8</td>\n",
       "      <td>8.5</td>\n",
       "      <td>N</td>\n",
       "      <td>37.0</td>\n",
       "      <td>SE</td>\n",
       "      <td>WNW</td>\n",
       "      <td>...</td>\n",
       "      <td>1021.0</td>\n",
       "      <td>1016.8</td>\n",
       "      <td>5.0</td>\n",
       "      <td>5.0</td>\n",
       "      <td>12.5</td>\n",
       "      <td>26.1</td>\n",
       "      <td>No</td>\n",
       "      <td>2017</td>\n",
       "      <td>6</td>\n",
       "      <td>23</td>\n",
       "    </tr>\n",
       "    <tr>\n",
       "      <th>138085</th>\n",
       "      <td>Uluru</td>\n",
       "      <td>7.8</td>\n",
       "      <td>27.0</td>\n",
       "      <td>0.0</td>\n",
       "      <td>4.8</td>\n",
       "      <td>8.5</td>\n",
       "      <td>SE</td>\n",
       "      <td>28.0</td>\n",
       "      <td>SSE</td>\n",
       "      <td>N</td>\n",
       "      <td>...</td>\n",
       "      <td>1019.4</td>\n",
       "      <td>1016.5</td>\n",
       "      <td>3.0</td>\n",
       "      <td>2.0</td>\n",
       "      <td>15.1</td>\n",
       "      <td>26.0</td>\n",
       "      <td>No</td>\n",
       "      <td>2017</td>\n",
       "      <td>6</td>\n",
       "      <td>24</td>\n",
       "    </tr>\n",
       "  </tbody>\n",
       "</table>\n",
       "<p>138086 rows × 24 columns</p>\n",
       "</div>"
      ],
      "text/plain": [
       "       Location  MinTemp  MaxTemp  Rainfall  Evaporation  Sunshine  \\\n",
       "0        Albury     13.4     22.9       0.6          4.8       8.5   \n",
       "1        Albury      7.4     25.1       0.0          4.8       8.5   \n",
       "2        Albury     12.9     25.7       0.0          4.8       8.5   \n",
       "3        Albury      9.2     28.0       0.0          4.8       8.5   \n",
       "4        Albury     17.5     32.3       1.0          4.8       8.5   \n",
       "...         ...      ...      ...       ...          ...       ...   \n",
       "138081    Uluru      3.5     21.8       0.0          4.8       8.5   \n",
       "138082    Uluru      2.8     23.4       0.0          4.8       8.5   \n",
       "138083    Uluru      3.6     25.3       0.0          4.8       8.5   \n",
       "138084    Uluru      5.4     26.9       0.0          4.8       8.5   \n",
       "138085    Uluru      7.8     27.0       0.0          4.8       8.5   \n",
       "\n",
       "       WindGustDir  WindGustSpeed WindDir9am WindDir3pm  ...  Pressure9am  \\\n",
       "0                W           44.0          W        WNW  ...       1007.7   \n",
       "1              WNW           44.0        NNW        WSW  ...       1010.6   \n",
       "2              WSW           46.0          W        WSW  ...       1007.6   \n",
       "3               NE           24.0         SE          E  ...       1017.6   \n",
       "4                W           41.0        ENE         NW  ...       1010.8   \n",
       "...            ...            ...        ...        ...  ...          ...   \n",
       "138081           E           31.0        ESE          E  ...       1024.7   \n",
       "138082           E           31.0         SE        ENE  ...       1024.6   \n",
       "138083         NNW           22.0         SE          N  ...       1023.5   \n",
       "138084           N           37.0         SE        WNW  ...       1021.0   \n",
       "138085          SE           28.0        SSE          N  ...       1019.4   \n",
       "\n",
       "        Pressure3pm  Cloud9am  Cloud3pm  Temp9am  Temp3pm  RainToday  Year  \\\n",
       "0            1007.1       8.0       5.0     16.9     21.8         No  2008   \n",
       "1            1007.8       5.0       5.0     17.2     24.3         No  2008   \n",
       "2            1008.7       5.0       2.0     21.0     23.2         No  2008   \n",
       "3            1012.8       5.0       5.0     18.1     26.5         No  2008   \n",
       "4            1006.0       7.0       8.0     17.8     29.7         No  2008   \n",
       "...             ...       ...       ...      ...      ...        ...   ...   \n",
       "138081       1021.2       5.0       5.0      9.4     20.9         No  2017   \n",
       "138082       1020.3       5.0       5.0     10.1     22.4         No  2017   \n",
       "138083       1019.1       5.0       5.0     10.9     24.5         No  2017   \n",
       "138084       1016.8       5.0       5.0     12.5     26.1         No  2017   \n",
       "138085       1016.5       3.0       2.0     15.1     26.0         No  2017   \n",
       "\n",
       "        Month  Day  \n",
       "0          12    1  \n",
       "1          12    2  \n",
       "2          12    3  \n",
       "3          12    4  \n",
       "4          12    5  \n",
       "...       ...  ...  \n",
       "138081      6   20  \n",
       "138082      6   21  \n",
       "138083      6   22  \n",
       "138084      6   23  \n",
       "138085      6   24  \n",
       "\n",
       "[138086 rows x 24 columns]"
      ]
     },
     "execution_count": 50,
     "metadata": {},
     "output_type": "execute_result"
    }
   ],
   "source": [
    "X"
   ]
  },
  {
   "cell_type": "code",
   "execution_count": 51,
   "id": "092cd4f4",
   "metadata": {},
   "outputs": [
    {
     "data": {
      "text/plain": [
       "RainTomorrow\n",
       "No              107282\n",
       "Yes              30804\n",
       "dtype: int64"
      ]
     },
     "execution_count": 51,
     "metadata": {},
     "output_type": "execute_result"
    }
   ],
   "source": [
    "y.value_counts()"
   ]
  },
  {
   "cell_type": "code",
   "execution_count": 52,
   "id": "723d16f4",
   "metadata": {},
   "outputs": [],
   "source": [
    "from sklearn.model_selection import train_test_split\n",
    "X_train,X_test,y_train,y_test=train_test_split(X,y,test_size=0.2,random_state=0)"
   ]
  },
  {
   "cell_type": "code",
   "execution_count": 53,
   "id": "26eee7be",
   "metadata": {},
   "outputs": [
    {
     "data": {
      "text/html": [
       "<div>\n",
       "<style scoped>\n",
       "    .dataframe tbody tr th:only-of-type {\n",
       "        vertical-align: middle;\n",
       "    }\n",
       "\n",
       "    .dataframe tbody tr th {\n",
       "        vertical-align: top;\n",
       "    }\n",
       "\n",
       "    .dataframe thead th {\n",
       "        text-align: right;\n",
       "    }\n",
       "</style>\n",
       "<table border=\"1\" class=\"dataframe\">\n",
       "  <thead>\n",
       "    <tr style=\"text-align: right;\">\n",
       "      <th></th>\n",
       "      <th>Location</th>\n",
       "      <th>MinTemp</th>\n",
       "      <th>MaxTemp</th>\n",
       "      <th>Rainfall</th>\n",
       "      <th>Evaporation</th>\n",
       "      <th>Sunshine</th>\n",
       "      <th>WindGustDir</th>\n",
       "      <th>WindGustSpeed</th>\n",
       "      <th>WindDir9am</th>\n",
       "      <th>WindDir3pm</th>\n",
       "      <th>...</th>\n",
       "      <th>Pressure9am</th>\n",
       "      <th>Pressure3pm</th>\n",
       "      <th>Cloud9am</th>\n",
       "      <th>Cloud3pm</th>\n",
       "      <th>Temp9am</th>\n",
       "      <th>Temp3pm</th>\n",
       "      <th>RainToday</th>\n",
       "      <th>Year</th>\n",
       "      <th>Month</th>\n",
       "      <th>Day</th>\n",
       "    </tr>\n",
       "  </thead>\n",
       "  <tbody>\n",
       "    <tr>\n",
       "      <th>28679</th>\n",
       "      <td>Sydney</td>\n",
       "      <td>8.1</td>\n",
       "      <td>21.0</td>\n",
       "      <td>0.0</td>\n",
       "      <td>3.6</td>\n",
       "      <td>9.7</td>\n",
       "      <td>N</td>\n",
       "      <td>35.0</td>\n",
       "      <td>WNW</td>\n",
       "      <td>N</td>\n",
       "      <td>...</td>\n",
       "      <td>1026.5</td>\n",
       "      <td>1021.5</td>\n",
       "      <td>1.0</td>\n",
       "      <td>0.0</td>\n",
       "      <td>9.8</td>\n",
       "      <td>20.4</td>\n",
       "      <td>No</td>\n",
       "      <td>2012</td>\n",
       "      <td>7</td>\n",
       "      <td>17</td>\n",
       "    </tr>\n",
       "    <tr>\n",
       "      <th>62152</th>\n",
       "      <td>MelbourneAirport</td>\n",
       "      <td>4.9</td>\n",
       "      <td>15.5</td>\n",
       "      <td>0.0</td>\n",
       "      <td>4.2</td>\n",
       "      <td>6.4</td>\n",
       "      <td>N</td>\n",
       "      <td>78.0</td>\n",
       "      <td>N</td>\n",
       "      <td>N</td>\n",
       "      <td>...</td>\n",
       "      <td>1026.8</td>\n",
       "      <td>1021.0</td>\n",
       "      <td>7.0</td>\n",
       "      <td>7.0</td>\n",
       "      <td>10.2</td>\n",
       "      <td>14.3</td>\n",
       "      <td>No</td>\n",
       "      <td>2015</td>\n",
       "      <td>7</td>\n",
       "      <td>21</td>\n",
       "    </tr>\n",
       "    <tr>\n",
       "      <th>51331</th>\n",
       "      <td>Ballarat</td>\n",
       "      <td>3.0</td>\n",
       "      <td>16.3</td>\n",
       "      <td>0.2</td>\n",
       "      <td>4.8</td>\n",
       "      <td>8.5</td>\n",
       "      <td>N</td>\n",
       "      <td>44.0</td>\n",
       "      <td>N</td>\n",
       "      <td>N</td>\n",
       "      <td>...</td>\n",
       "      <td>1025.1</td>\n",
       "      <td>1021.9</td>\n",
       "      <td>8.0</td>\n",
       "      <td>5.0</td>\n",
       "      <td>9.3</td>\n",
       "      <td>15.9</td>\n",
       "      <td>No</td>\n",
       "      <td>2010</td>\n",
       "      <td>5</td>\n",
       "      <td>1</td>\n",
       "    </tr>\n",
       "    <tr>\n",
       "      <th>16793</th>\n",
       "      <td>NorahHead</td>\n",
       "      <td>21.6</td>\n",
       "      <td>28.8</td>\n",
       "      <td>0.0</td>\n",
       "      <td>4.8</td>\n",
       "      <td>8.5</td>\n",
       "      <td>NE</td>\n",
       "      <td>43.0</td>\n",
       "      <td>S</td>\n",
       "      <td>NE</td>\n",
       "      <td>...</td>\n",
       "      <td>1012.3</td>\n",
       "      <td>1008.1</td>\n",
       "      <td>5.0</td>\n",
       "      <td>5.0</td>\n",
       "      <td>23.2</td>\n",
       "      <td>24.7</td>\n",
       "      <td>No</td>\n",
       "      <td>2013</td>\n",
       "      <td>1</td>\n",
       "      <td>17</td>\n",
       "    </tr>\n",
       "    <tr>\n",
       "      <th>34394</th>\n",
       "      <td>WaggaWagga</td>\n",
       "      <td>9.1</td>\n",
       "      <td>19.0</td>\n",
       "      <td>0.0</td>\n",
       "      <td>4.8</td>\n",
       "      <td>6.4</td>\n",
       "      <td>SW</td>\n",
       "      <td>48.0</td>\n",
       "      <td>WNW</td>\n",
       "      <td>W</td>\n",
       "      <td>...</td>\n",
       "      <td>1010.2</td>\n",
       "      <td>1008.7</td>\n",
       "      <td>6.0</td>\n",
       "      <td>5.0</td>\n",
       "      <td>13.3</td>\n",
       "      <td>18.1</td>\n",
       "      <td>No</td>\n",
       "      <td>2011</td>\n",
       "      <td>10</td>\n",
       "      <td>9</td>\n",
       "    </tr>\n",
       "    <tr>\n",
       "      <th>...</th>\n",
       "      <td>...</td>\n",
       "      <td>...</td>\n",
       "      <td>...</td>\n",
       "      <td>...</td>\n",
       "      <td>...</td>\n",
       "      <td>...</td>\n",
       "      <td>...</td>\n",
       "      <td>...</td>\n",
       "      <td>...</td>\n",
       "      <td>...</td>\n",
       "      <td>...</td>\n",
       "      <td>...</td>\n",
       "      <td>...</td>\n",
       "      <td>...</td>\n",
       "      <td>...</td>\n",
       "      <td>...</td>\n",
       "      <td>...</td>\n",
       "      <td>...</td>\n",
       "      <td>...</td>\n",
       "      <td>...</td>\n",
       "      <td>...</td>\n",
       "    </tr>\n",
       "    <tr>\n",
       "      <th>41993</th>\n",
       "      <td>Canberra</td>\n",
       "      <td>16.0</td>\n",
       "      <td>23.8</td>\n",
       "      <td>2.2</td>\n",
       "      <td>5.4</td>\n",
       "      <td>6.2</td>\n",
       "      <td>SSE</td>\n",
       "      <td>30.0</td>\n",
       "      <td>SE</td>\n",
       "      <td>ESE</td>\n",
       "      <td>...</td>\n",
       "      <td>1018.9</td>\n",
       "      <td>1017.1</td>\n",
       "      <td>8.0</td>\n",
       "      <td>7.0</td>\n",
       "      <td>16.5</td>\n",
       "      <td>22.9</td>\n",
       "      <td>Yes</td>\n",
       "      <td>2008</td>\n",
       "      <td>2</td>\n",
       "      <td>1</td>\n",
       "    </tr>\n",
       "    <tr>\n",
       "      <th>97639</th>\n",
       "      <td>Nuriootpa</td>\n",
       "      <td>6.8</td>\n",
       "      <td>14.3</td>\n",
       "      <td>0.4</td>\n",
       "      <td>4.4</td>\n",
       "      <td>1.7</td>\n",
       "      <td>WSW</td>\n",
       "      <td>33.0</td>\n",
       "      <td>WNW</td>\n",
       "      <td>WSW</td>\n",
       "      <td>...</td>\n",
       "      <td>1021.5</td>\n",
       "      <td>1020.4</td>\n",
       "      <td>8.0</td>\n",
       "      <td>8.0</td>\n",
       "      <td>8.8</td>\n",
       "      <td>12.4</td>\n",
       "      <td>No</td>\n",
       "      <td>2010</td>\n",
       "      <td>10</td>\n",
       "      <td>17</td>\n",
       "    </tr>\n",
       "    <tr>\n",
       "      <th>95939</th>\n",
       "      <td>MountGambier</td>\n",
       "      <td>0.9</td>\n",
       "      <td>11.3</td>\n",
       "      <td>0.0</td>\n",
       "      <td>1.4</td>\n",
       "      <td>1.5</td>\n",
       "      <td>NE</td>\n",
       "      <td>28.0</td>\n",
       "      <td>NE</td>\n",
       "      <td>ENE</td>\n",
       "      <td>...</td>\n",
       "      <td>1021.6</td>\n",
       "      <td>1017.2</td>\n",
       "      <td>7.0</td>\n",
       "      <td>7.0</td>\n",
       "      <td>4.4</td>\n",
       "      <td>10.4</td>\n",
       "      <td>No</td>\n",
       "      <td>2014</td>\n",
       "      <td>7</td>\n",
       "      <td>23</td>\n",
       "    </tr>\n",
       "    <tr>\n",
       "      <th>117952</th>\n",
       "      <td>SalmonGums</td>\n",
       "      <td>17.7</td>\n",
       "      <td>36.5</td>\n",
       "      <td>0.0</td>\n",
       "      <td>4.8</td>\n",
       "      <td>8.5</td>\n",
       "      <td>NNW</td>\n",
       "      <td>48.0</td>\n",
       "      <td>NNE</td>\n",
       "      <td>ENE</td>\n",
       "      <td>...</td>\n",
       "      <td>1017.6</td>\n",
       "      <td>1015.2</td>\n",
       "      <td>5.0</td>\n",
       "      <td>5.0</td>\n",
       "      <td>26.4</td>\n",
       "      <td>35.7</td>\n",
       "      <td>No</td>\n",
       "      <td>2012</td>\n",
       "      <td>1</td>\n",
       "      <td>21</td>\n",
       "    </tr>\n",
       "    <tr>\n",
       "      <th>43567</th>\n",
       "      <td>Canberra</td>\n",
       "      <td>5.8</td>\n",
       "      <td>26.9</td>\n",
       "      <td>0.0</td>\n",
       "      <td>4.8</td>\n",
       "      <td>8.5</td>\n",
       "      <td>NNW</td>\n",
       "      <td>35.0</td>\n",
       "      <td>NNW</td>\n",
       "      <td>NW</td>\n",
       "      <td>...</td>\n",
       "      <td>1017.6</td>\n",
       "      <td>1011.3</td>\n",
       "      <td>5.0</td>\n",
       "      <td>5.0</td>\n",
       "      <td>16.7</td>\n",
       "      <td>25.4</td>\n",
       "      <td>No</td>\n",
       "      <td>2013</td>\n",
       "      <td>4</td>\n",
       "      <td>14</td>\n",
       "    </tr>\n",
       "  </tbody>\n",
       "</table>\n",
       "<p>110468 rows × 24 columns</p>\n",
       "</div>"
      ],
      "text/plain": [
       "                Location  MinTemp  MaxTemp  Rainfall  Evaporation  Sunshine  \\\n",
       "28679             Sydney      8.1     21.0       0.0          3.6       9.7   \n",
       "62152   MelbourneAirport      4.9     15.5       0.0          4.2       6.4   \n",
       "51331           Ballarat      3.0     16.3       0.2          4.8       8.5   \n",
       "16793          NorahHead     21.6     28.8       0.0          4.8       8.5   \n",
       "34394         WaggaWagga      9.1     19.0       0.0          4.8       6.4   \n",
       "...                  ...      ...      ...       ...          ...       ...   \n",
       "41993           Canberra     16.0     23.8       2.2          5.4       6.2   \n",
       "97639          Nuriootpa      6.8     14.3       0.4          4.4       1.7   \n",
       "95939       MountGambier      0.9     11.3       0.0          1.4       1.5   \n",
       "117952        SalmonGums     17.7     36.5       0.0          4.8       8.5   \n",
       "43567           Canberra      5.8     26.9       0.0          4.8       8.5   \n",
       "\n",
       "       WindGustDir  WindGustSpeed WindDir9am WindDir3pm  ...  Pressure9am  \\\n",
       "28679            N           35.0        WNW          N  ...       1026.5   \n",
       "62152            N           78.0          N          N  ...       1026.8   \n",
       "51331            N           44.0          N          N  ...       1025.1   \n",
       "16793           NE           43.0          S         NE  ...       1012.3   \n",
       "34394           SW           48.0        WNW          W  ...       1010.2   \n",
       "...            ...            ...        ...        ...  ...          ...   \n",
       "41993          SSE           30.0         SE        ESE  ...       1018.9   \n",
       "97639          WSW           33.0        WNW        WSW  ...       1021.5   \n",
       "95939           NE           28.0         NE        ENE  ...       1021.6   \n",
       "117952         NNW           48.0        NNE        ENE  ...       1017.6   \n",
       "43567          NNW           35.0        NNW         NW  ...       1017.6   \n",
       "\n",
       "        Pressure3pm  Cloud9am  Cloud3pm  Temp9am  Temp3pm  RainToday  Year  \\\n",
       "28679        1021.5       1.0       0.0      9.8     20.4         No  2012   \n",
       "62152        1021.0       7.0       7.0     10.2     14.3         No  2015   \n",
       "51331        1021.9       8.0       5.0      9.3     15.9         No  2010   \n",
       "16793        1008.1       5.0       5.0     23.2     24.7         No  2013   \n",
       "34394        1008.7       6.0       5.0     13.3     18.1         No  2011   \n",
       "...             ...       ...       ...      ...      ...        ...   ...   \n",
       "41993        1017.1       8.0       7.0     16.5     22.9        Yes  2008   \n",
       "97639        1020.4       8.0       8.0      8.8     12.4         No  2010   \n",
       "95939        1017.2       7.0       7.0      4.4     10.4         No  2014   \n",
       "117952       1015.2       5.0       5.0     26.4     35.7         No  2012   \n",
       "43567        1011.3       5.0       5.0     16.7     25.4         No  2013   \n",
       "\n",
       "        Month  Day  \n",
       "28679       7   17  \n",
       "62152       7   21  \n",
       "51331       5    1  \n",
       "16793       1   17  \n",
       "34394      10    9  \n",
       "...       ...  ...  \n",
       "41993       2    1  \n",
       "97639      10   17  \n",
       "95939       7   23  \n",
       "117952      1   21  \n",
       "43567       4   14  \n",
       "\n",
       "[110468 rows x 24 columns]"
      ]
     },
     "execution_count": 53,
     "metadata": {},
     "output_type": "execute_result"
    }
   ],
   "source": [
    "X_train"
   ]
  },
  {
   "cell_type": "code",
   "execution_count": 54,
   "id": "960d3f67",
   "metadata": {},
   "outputs": [],
   "source": [
    "#reindex train and test sets\n",
    "X_train.reset_index(drop=True,inplace=True)\n",
    "X_test.reset_index(drop=True,inplace=True)\n",
    "y_train.reset_index(drop=True,inplace=True)\n",
    "y_test.reset_index(drop=True,inplace=True)"
   ]
  },
  {
   "cell_type": "markdown",
   "id": "17d2a93d",
   "metadata": {},
   "source": [
    "<font color=blue>***We now finished the data preparation!***</font>"
   ]
  },
  {
   "cell_type": "markdown",
   "id": "2c57e970",
   "metadata": {},
   "source": [
    "# 2. Decesion Tree"
   ]
  },
  {
   "cell_type": "markdown",
   "id": "6d943867",
   "metadata": {},
   "source": [
    "## 2.0 Label encoding of the categorial data"
   ]
  },
  {
   "cell_type": "code",
   "execution_count": 55,
   "id": "80459ee7",
   "metadata": {},
   "outputs": [],
   "source": [
    "# Copy the original dataframe\n",
    "X_new=X.copy()\n",
    "y_new=y.copy()\n",
    "X_train_new=X_train.copy()\n",
    "X_test_new=X_test.copy()"
   ]
  },
  {
   "cell_type": "code",
   "execution_count": 56,
   "id": "c0e44b11",
   "metadata": {},
   "outputs": [],
   "source": [
    "# Label encoding \n",
    "list1=[X_train_new,X_test_new,X_new]\n",
    "var_list = ['Location','WindGustDir','WindDir9am','WindDir3pm','RainToday']\n",
    "for DF in list1:\n",
    "    for var in var_list:\n",
    "        labels = DF[var].unique().tolist()\n",
    "        DF[var] = DF[var].apply(lambda x: labels.index(x))\n"
   ]
  },
  {
   "cell_type": "code",
   "execution_count": 57,
   "id": "dd5b1fc1",
   "metadata": {},
   "outputs": [
    {
     "data": {
      "text/html": [
       "<div>\n",
       "<style scoped>\n",
       "    .dataframe tbody tr th:only-of-type {\n",
       "        vertical-align: middle;\n",
       "    }\n",
       "\n",
       "    .dataframe tbody tr th {\n",
       "        vertical-align: top;\n",
       "    }\n",
       "\n",
       "    .dataframe thead th {\n",
       "        text-align: right;\n",
       "    }\n",
       "</style>\n",
       "<table border=\"1\" class=\"dataframe\">\n",
       "  <thead>\n",
       "    <tr style=\"text-align: right;\">\n",
       "      <th></th>\n",
       "      <th>Location</th>\n",
       "      <th>MinTemp</th>\n",
       "      <th>MaxTemp</th>\n",
       "      <th>Rainfall</th>\n",
       "      <th>Evaporation</th>\n",
       "      <th>Sunshine</th>\n",
       "      <th>WindGustDir</th>\n",
       "      <th>WindGustSpeed</th>\n",
       "      <th>WindDir9am</th>\n",
       "      <th>WindDir3pm</th>\n",
       "      <th>...</th>\n",
       "      <th>Pressure9am</th>\n",
       "      <th>Pressure3pm</th>\n",
       "      <th>Cloud9am</th>\n",
       "      <th>Cloud3pm</th>\n",
       "      <th>Temp9am</th>\n",
       "      <th>Temp3pm</th>\n",
       "      <th>RainToday</th>\n",
       "      <th>Year</th>\n",
       "      <th>Month</th>\n",
       "      <th>Day</th>\n",
       "    </tr>\n",
       "  </thead>\n",
       "  <tbody>\n",
       "    <tr>\n",
       "      <th>0</th>\n",
       "      <td>0</td>\n",
       "      <td>8.1</td>\n",
       "      <td>21.0</td>\n",
       "      <td>0.0</td>\n",
       "      <td>3.6</td>\n",
       "      <td>9.7</td>\n",
       "      <td>0</td>\n",
       "      <td>35.0</td>\n",
       "      <td>0</td>\n",
       "      <td>0</td>\n",
       "      <td>...</td>\n",
       "      <td>1026.5</td>\n",
       "      <td>1021.5</td>\n",
       "      <td>1.0</td>\n",
       "      <td>0.0</td>\n",
       "      <td>9.8</td>\n",
       "      <td>20.4</td>\n",
       "      <td>0</td>\n",
       "      <td>2012</td>\n",
       "      <td>7</td>\n",
       "      <td>17</td>\n",
       "    </tr>\n",
       "    <tr>\n",
       "      <th>1</th>\n",
       "      <td>1</td>\n",
       "      <td>4.9</td>\n",
       "      <td>15.5</td>\n",
       "      <td>0.0</td>\n",
       "      <td>4.2</td>\n",
       "      <td>6.4</td>\n",
       "      <td>0</td>\n",
       "      <td>78.0</td>\n",
       "      <td>1</td>\n",
       "      <td>0</td>\n",
       "      <td>...</td>\n",
       "      <td>1026.8</td>\n",
       "      <td>1021.0</td>\n",
       "      <td>7.0</td>\n",
       "      <td>7.0</td>\n",
       "      <td>10.2</td>\n",
       "      <td>14.3</td>\n",
       "      <td>0</td>\n",
       "      <td>2015</td>\n",
       "      <td>7</td>\n",
       "      <td>21</td>\n",
       "    </tr>\n",
       "    <tr>\n",
       "      <th>2</th>\n",
       "      <td>2</td>\n",
       "      <td>3.0</td>\n",
       "      <td>16.3</td>\n",
       "      <td>0.2</td>\n",
       "      <td>4.8</td>\n",
       "      <td>8.5</td>\n",
       "      <td>0</td>\n",
       "      <td>44.0</td>\n",
       "      <td>1</td>\n",
       "      <td>0</td>\n",
       "      <td>...</td>\n",
       "      <td>1025.1</td>\n",
       "      <td>1021.9</td>\n",
       "      <td>8.0</td>\n",
       "      <td>5.0</td>\n",
       "      <td>9.3</td>\n",
       "      <td>15.9</td>\n",
       "      <td>0</td>\n",
       "      <td>2010</td>\n",
       "      <td>5</td>\n",
       "      <td>1</td>\n",
       "    </tr>\n",
       "    <tr>\n",
       "      <th>3</th>\n",
       "      <td>3</td>\n",
       "      <td>21.6</td>\n",
       "      <td>28.8</td>\n",
       "      <td>0.0</td>\n",
       "      <td>4.8</td>\n",
       "      <td>8.5</td>\n",
       "      <td>1</td>\n",
       "      <td>43.0</td>\n",
       "      <td>2</td>\n",
       "      <td>1</td>\n",
       "      <td>...</td>\n",
       "      <td>1012.3</td>\n",
       "      <td>1008.1</td>\n",
       "      <td>5.0</td>\n",
       "      <td>5.0</td>\n",
       "      <td>23.2</td>\n",
       "      <td>24.7</td>\n",
       "      <td>0</td>\n",
       "      <td>2013</td>\n",
       "      <td>1</td>\n",
       "      <td>17</td>\n",
       "    </tr>\n",
       "    <tr>\n",
       "      <th>4</th>\n",
       "      <td>4</td>\n",
       "      <td>9.1</td>\n",
       "      <td>19.0</td>\n",
       "      <td>0.0</td>\n",
       "      <td>4.8</td>\n",
       "      <td>6.4</td>\n",
       "      <td>2</td>\n",
       "      <td>48.0</td>\n",
       "      <td>0</td>\n",
       "      <td>2</td>\n",
       "      <td>...</td>\n",
       "      <td>1010.2</td>\n",
       "      <td>1008.7</td>\n",
       "      <td>6.0</td>\n",
       "      <td>5.0</td>\n",
       "      <td>13.3</td>\n",
       "      <td>18.1</td>\n",
       "      <td>0</td>\n",
       "      <td>2011</td>\n",
       "      <td>10</td>\n",
       "      <td>9</td>\n",
       "    </tr>\n",
       "    <tr>\n",
       "      <th>5</th>\n",
       "      <td>0</td>\n",
       "      <td>21.5</td>\n",
       "      <td>27.0</td>\n",
       "      <td>2.4</td>\n",
       "      <td>4.6</td>\n",
       "      <td>7.5</td>\n",
       "      <td>3</td>\n",
       "      <td>39.0</td>\n",
       "      <td>3</td>\n",
       "      <td>3</td>\n",
       "      <td>...</td>\n",
       "      <td>1015.1</td>\n",
       "      <td>1011.3</td>\n",
       "      <td>4.0</td>\n",
       "      <td>8.0</td>\n",
       "      <td>25.1</td>\n",
       "      <td>25.6</td>\n",
       "      <td>1</td>\n",
       "      <td>2014</td>\n",
       "      <td>2</td>\n",
       "      <td>13</td>\n",
       "    </tr>\n",
       "    <tr>\n",
       "      <th>6</th>\n",
       "      <td>5</td>\n",
       "      <td>25.2</td>\n",
       "      <td>33.8</td>\n",
       "      <td>0.0</td>\n",
       "      <td>5.0</td>\n",
       "      <td>11.3</td>\n",
       "      <td>4</td>\n",
       "      <td>35.0</td>\n",
       "      <td>4</td>\n",
       "      <td>4</td>\n",
       "      <td>...</td>\n",
       "      <td>1013.9</td>\n",
       "      <td>1009.5</td>\n",
       "      <td>4.0</td>\n",
       "      <td>1.0</td>\n",
       "      <td>29.9</td>\n",
       "      <td>32.3</td>\n",
       "      <td>0</td>\n",
       "      <td>2014</td>\n",
       "      <td>11</td>\n",
       "      <td>8</td>\n",
       "    </tr>\n",
       "    <tr>\n",
       "      <th>7</th>\n",
       "      <td>6</td>\n",
       "      <td>6.9</td>\n",
       "      <td>22.4</td>\n",
       "      <td>0.0</td>\n",
       "      <td>4.4</td>\n",
       "      <td>10.6</td>\n",
       "      <td>0</td>\n",
       "      <td>28.0</td>\n",
       "      <td>1</td>\n",
       "      <td>0</td>\n",
       "      <td>...</td>\n",
       "      <td>1014.2</td>\n",
       "      <td>1013.8</td>\n",
       "      <td>3.0</td>\n",
       "      <td>1.0</td>\n",
       "      <td>19.4</td>\n",
       "      <td>22.1</td>\n",
       "      <td>0</td>\n",
       "      <td>2009</td>\n",
       "      <td>8</td>\n",
       "      <td>26</td>\n",
       "    </tr>\n",
       "    <tr>\n",
       "      <th>8</th>\n",
       "      <td>5</td>\n",
       "      <td>18.7</td>\n",
       "      <td>29.4</td>\n",
       "      <td>0.0</td>\n",
       "      <td>7.8</td>\n",
       "      <td>8.7</td>\n",
       "      <td>5</td>\n",
       "      <td>48.0</td>\n",
       "      <td>4</td>\n",
       "      <td>3</td>\n",
       "      <td>...</td>\n",
       "      <td>1017.1</td>\n",
       "      <td>1013.5</td>\n",
       "      <td>7.0</td>\n",
       "      <td>7.0</td>\n",
       "      <td>20.9</td>\n",
       "      <td>28.5</td>\n",
       "      <td>0</td>\n",
       "      <td>2017</td>\n",
       "      <td>6</td>\n",
       "      <td>10</td>\n",
       "    </tr>\n",
       "    <tr>\n",
       "      <th>9</th>\n",
       "      <td>7</td>\n",
       "      <td>15.6</td>\n",
       "      <td>28.1</td>\n",
       "      <td>2.4</td>\n",
       "      <td>3.6</td>\n",
       "      <td>4.0</td>\n",
       "      <td>6</td>\n",
       "      <td>46.0</td>\n",
       "      <td>5</td>\n",
       "      <td>5</td>\n",
       "      <td>...</td>\n",
       "      <td>1005.9</td>\n",
       "      <td>1006.1</td>\n",
       "      <td>4.0</td>\n",
       "      <td>8.0</td>\n",
       "      <td>21.3</td>\n",
       "      <td>26.0</td>\n",
       "      <td>1</td>\n",
       "      <td>2009</td>\n",
       "      <td>11</td>\n",
       "      <td>27</td>\n",
       "    </tr>\n",
       "  </tbody>\n",
       "</table>\n",
       "<p>10 rows × 24 columns</p>\n",
       "</div>"
      ],
      "text/plain": [
       "   Location  MinTemp  MaxTemp  Rainfall  Evaporation  Sunshine  WindGustDir  \\\n",
       "0         0      8.1     21.0       0.0          3.6       9.7            0   \n",
       "1         1      4.9     15.5       0.0          4.2       6.4            0   \n",
       "2         2      3.0     16.3       0.2          4.8       8.5            0   \n",
       "3         3     21.6     28.8       0.0          4.8       8.5            1   \n",
       "4         4      9.1     19.0       0.0          4.8       6.4            2   \n",
       "5         0     21.5     27.0       2.4          4.6       7.5            3   \n",
       "6         5     25.2     33.8       0.0          5.0      11.3            4   \n",
       "7         6      6.9     22.4       0.0          4.4      10.6            0   \n",
       "8         5     18.7     29.4       0.0          7.8       8.7            5   \n",
       "9         7     15.6     28.1       2.4          3.6       4.0            6   \n",
       "\n",
       "   WindGustSpeed  WindDir9am  WindDir3pm  ...  Pressure9am  Pressure3pm  \\\n",
       "0           35.0           0           0  ...       1026.5       1021.5   \n",
       "1           78.0           1           0  ...       1026.8       1021.0   \n",
       "2           44.0           1           0  ...       1025.1       1021.9   \n",
       "3           43.0           2           1  ...       1012.3       1008.1   \n",
       "4           48.0           0           2  ...       1010.2       1008.7   \n",
       "5           39.0           3           3  ...       1015.1       1011.3   \n",
       "6           35.0           4           4  ...       1013.9       1009.5   \n",
       "7           28.0           1           0  ...       1014.2       1013.8   \n",
       "8           48.0           4           3  ...       1017.1       1013.5   \n",
       "9           46.0           5           5  ...       1005.9       1006.1   \n",
       "\n",
       "   Cloud9am  Cloud3pm  Temp9am  Temp3pm  RainToday  Year  Month  Day  \n",
       "0       1.0       0.0      9.8     20.4          0  2012      7   17  \n",
       "1       7.0       7.0     10.2     14.3          0  2015      7   21  \n",
       "2       8.0       5.0      9.3     15.9          0  2010      5    1  \n",
       "3       5.0       5.0     23.2     24.7          0  2013      1   17  \n",
       "4       6.0       5.0     13.3     18.1          0  2011     10    9  \n",
       "5       4.0       8.0     25.1     25.6          1  2014      2   13  \n",
       "6       4.0       1.0     29.9     32.3          0  2014     11    8  \n",
       "7       3.0       1.0     19.4     22.1          0  2009      8   26  \n",
       "8       7.0       7.0     20.9     28.5          0  2017      6   10  \n",
       "9       4.0       8.0     21.3     26.0          1  2009     11   27  \n",
       "\n",
       "[10 rows x 24 columns]"
      ]
     },
     "execution_count": 57,
     "metadata": {},
     "output_type": "execute_result"
    }
   ],
   "source": [
    "# Check the new dataframe\n",
    "X_train_new.head(10)"
   ]
  },
  {
   "cell_type": "markdown",
   "id": "7462ba67",
   "metadata": {},
   "source": [
    "## 2.1 Train the model"
   ]
  },
  {
   "cell_type": "code",
   "execution_count": 62,
   "id": "69c2f949",
   "metadata": {},
   "outputs": [
    {
     "data": {
      "text/plain": [
       "DecisionTreeClassifier(max_depth=30, random_state=5)"
      ]
     },
     "execution_count": 62,
     "metadata": {},
     "output_type": "execute_result"
    }
   ],
   "source": [
    "# Import essential models and functions from sklearn\n",
    "from sklearn.tree import DecisionTreeClassifier\n",
    "from sklearn.model_selection import train_test_split\n",
    "from sklearn.metrics import confusion_matrix\n",
    "\n",
    "dectree=DecisionTreeClassifier(random_state=5\n",
    "                                ,max_depth=30               #Randomly select a depth for decesion tree\n",
    "                                #,splitter='random'\n",
    "                                # ,min_samples_leaf=2\n",
    "                                #,min_samples_split=15 \n",
    "                                 )                          #Create the decision tree object\n",
    "dectree.fit(X_train_new,y_train)"
   ]
  },
  {
   "cell_type": "code",
   "execution_count": 63,
   "id": "4fb0f227",
   "metadata": {},
   "outputs": [
    {
     "name": "stdout",
     "output_type": "stream",
     "text": [
      "Goodness of Fit of Model \tTrain Dataset\n",
      "Classification Accuracy \t: 0.9995926422131296\n",
      "\n",
      "Goodness of Fit of Model \tTest Dataset\n",
      "Classification Accuracy \t: 0.7751466434933739\n",
      "\n"
     ]
    },
    {
     "data": {
      "text/plain": [
       "<AxesSubplot:>"
      ]
     },
     "execution_count": 63,
     "metadata": {},
     "output_type": "execute_result"
    },
    {
     "data": {
      "image/png": "[encoded data removed]",
      "text/plain": [
       "<Figure size 864x288 with 4 Axes>"
      ]
     },
     "metadata": {
      "needs_background": "light"
     },
     "output_type": "display_data"
    }
   ],
   "source": [
    "# Predict RainTomorrow values corresponding\n",
    "y_train_pred = dectree.predict(X_train_new)\n",
    "y_test_pred = dectree.predict(X_test_new)\n",
    "\n",
    "# Check the Goodness of Fit (on Train Data)\n",
    "print(\"Goodness of Fit of Model \\tTrain Dataset\")\n",
    "print(\"Classification Accuracy \\t:\", dectree.score(X_train_new, y_train))\n",
    "print()\n",
    "\n",
    "# Check the Goodness of Fit (on Test Data)\n",
    "print(\"Goodness of Fit of Model \\tTest Dataset\")\n",
    "print(\"Classification Accuracy \\t:\", dectree.score(X_test_new, y_test))\n",
    "print()\n",
    "\n",
    "# Plot the Confusion Matrix for Train and Test\n",
    "f, axes = plt.subplots(1, 2, figsize=(12, 4))\n",
    "\n",
    "sb.heatmap(confusion_matrix(y_train, y_train_pred),\n",
    "           annot = True, fmt=\".0f\", annot_kws={\"size\": 18}, ax = axes[0])\n",
    "sb.heatmap(confusion_matrix(y_test, y_test_pred),\n",
    "           annot = True, fmt=\".0f\", annot_kws={\"size\": 18}, ax = axes[1])"
   ]
  },
  {
   "cell_type": "markdown",
   "id": "1b20b706",
   "metadata": {},
   "source": [
    "<font color=blue>**Obviously there is an issue of overfitting!**</font>"
   ]
  },
  {
   "cell_type": "code",
   "execution_count": 74,
   "id": "db8a8c8c",
   "metadata": {},
   "outputs": [
    {
     "name": "stdout",
     "output_type": "stream",
     "text": [
      "Variable: Humidity3pm          Importance: 0.2725\n",
      "Variable: WindGustSpeed        Importance: 0.0654\n",
      "Variable: Pressure3pm          Importance: 0.0644\n",
      "Variable: Sunshine             Importance: 0.047\n",
      "Variable: Humidity9am          Importance: 0.0417\n",
      "Variable: MinTemp              Importance: 0.0403\n",
      "Variable: Pressure9am          Importance: 0.0391\n",
      "Variable: Day                  Importance: 0.038\n",
      "Variable: Temp3pm              Importance: 0.036\n",
      "Variable: Temp9am              Importance: 0.0359\n",
      "Variable: WindSpeed3pm         Importance: 0.0322\n",
      "Variable: Location             Importance: 0.0298\n",
      "Variable: WindSpeed9am         Importance: 0.0295\n",
      "Variable: MaxTemp              Importance: 0.029\n",
      "Variable: Rainfall             Importance: 0.026\n",
      "Variable: WindGustDir          Importance: 0.0247\n",
      "Variable: WindDir3pm           Importance: 0.0242\n",
      "Variable: Month                Importance: 0.0242\n",
      "Variable: WindDir9am           Importance: 0.0238\n",
      "Variable: Evaporation          Importance: 0.0235\n",
      "Variable: Year                 Importance: 0.0221\n",
      "Variable: Cloud3pm             Importance: 0.0165\n",
      "Variable: Cloud9am             Importance: 0.013\n",
      "Variable: RainToday            Importance: 0.0011\n"
     ]
    }
   ],
   "source": [
    "# Check featuer importances\n",
    "\n",
    "# Saving feature names for later use\n",
    "feature_list = list(X_train_new.columns)\n",
    "# Get numerical feature importances\n",
    "importances = list(dectree.feature_importances_)\n",
    "# List of tuples with variable and importance\n",
    "feature_importances = [(feature, round(importance, 4)) for feature, importance in zip(feature_list, importances)]\n",
    "# Sort the feature importances by most important first\n",
    "feature_importances = sorted(feature_importances, key = lambda x: x[1], reverse = True)\n",
    "# Print out the feature and importances \n",
    "[print('Variable: {:20} Importance: {}'.format(*pair)) for pair in feature_importances];"
   ]
  },
  {
   "cell_type": "code",
   "execution_count": 69,
   "id": "9ed5fbec",
   "metadata": {},
   "outputs": [
    {
     "data": {
      "text/plain": [
       "24"
      ]
     },
     "execution_count": 69,
     "metadata": {},
     "output_type": "execute_result"
    }
   ],
   "source": [
    "# Saving feature names for later use\n",
    "feature_list = list(X_train_new.columns)\n",
    "feature_list"
   ]
  },
  {
   "cell_type": "code",
   "execution_count": 70,
   "id": "5acb2dcd",
   "metadata": {},
   "outputs": [
    {
     "data": {
      "text/plain": [
       "1    0.272535\n",
       "dtype: float64"
      ]
     },
     "execution_count": 70,
     "metadata": {},
     "output_type": "execute_result"
    }
   ],
   "source": [
    "feature_importances.max(numeric_only=True)"
   ]
  },
  {
   "cell_type": "code",
   "execution_count": 73,
   "id": "46d1b9d3",
   "metadata": {},
   "outputs": [
    {
     "data": {
      "text/plain": [
       "RangeIndex(start=0, stop=24, step=1)"
      ]
     },
     "execution_count": 73,
     "metadata": {},
     "output_type": "execute_result"
    }
   ],
   "source": []
  },
  {
   "cell_type": "markdown",
   "id": "e232cf54",
   "metadata": {},
   "source": [
    "<font color=blue>***Humidity3pm is the most important feature!***</font>"
   ]
  },
  {
   "cell_type": "code",
   "execution_count": 266,
   "id": "46117e02",
   "metadata": {},
   "outputs": [
    {
     "name": "stdout",
     "output_type": "stream",
     "text": [
      "0.8430733579549569 7\n"
     ]
    },
    {
     "data": {
      "image/png": "[encoded data removed]",
      "text/plain": [
       "<Figure size 432x288 with 1 Axes>"
      ]
     },
     "metadata": {
      "needs_background": "light"
     },
     "output_type": "display_data"
    }
   ],
   "source": [
    "test = []\n",
    "for i in range(30):\n",
    "    dectree = DecisionTreeClassifier(max_depth=i+1\n",
    "                                    ,random_state=5\n",
    "                                    #,splitter=\"random\"\n",
    "                                    )\n",
    "    dectree.fit(X_train_new, y_train)\n",
    "    score = dectree.score(X_test_new, y_test)\n",
    "    test.append(score)\n",
    "\n",
    "print(max(test),(test.index(max(test))+1))\n",
    "plt.plot(range(1,31),test,color=\"red\",label=\"max_depth\")\n",
    "plt.legend()\n",
    "plt.show()"
   ]
  },
  {
   "cell_type": "markdown",
   "id": "e3a6a2f4",
   "metadata": {},
   "source": []
  },
  {
   "cell_type": "markdown",
   "id": "86299411",
   "metadata": {},
   "source": [
    "## 2.2 Hyperparameter Tuning in Decision Trees"
   ]
  },
  {
   "cell_type": "markdown",
   "id": "816ce837",
   "metadata": {},
   "source": [
    "### 2.2.1 Max_depth (cross_validation learning curve)"
   ]
  },
  {
   "cell_type": "markdown",
   "id": "7fa8e89c",
   "metadata": {},
   "source": [
    "<font color=blue>***In order to minimise the influence of the split of the train and test dataset, we use cross validation to observe the stability of the Decesion Tree model.***</font>"
   ]
  },
  {
   "cell_type": "code",
   "execution_count": 77,
   "id": "79859083",
   "metadata": {},
   "outputs": [],
   "source": [
    "# Stratified K-fold cross-validation\n",
    "from sklearn.model_selection import cross_val_score\n",
    "\n",
    "# Convert the dataframe to numpy arrays. cross_val_score only accepts array or list inputs. \n",
    "X_array=X_new.to_numpy()\n",
    "\n",
    "#labels = y_new['RainTomorrow'].unique().tolist()\n",
    "#y_new['RainTomorrow'] = pd.Categorical(y_new['RainTomorrow'].apply(lambda x: labels.index(x)))\n",
    "\n",
    "y_array=y_new.to_numpy()\n",
    "y_array = y_array.flatten()\n",
    "# Concvert y to 1D array"
   ]
  },
  {
   "cell_type": "code",
   "execution_count": 78,
   "id": "72ec4d11",
   "metadata": {
    "scrolled": true
   },
   "outputs": [
    {
     "data": {
      "text/plain": [
       "array([[0.000e+00, 1.340e+01, 2.290e+01, ..., 2.008e+03, 1.200e+01,\n",
       "        1.000e+00],\n",
       "       [0.000e+00, 7.400e+00, 2.510e+01, ..., 2.008e+03, 1.200e+01,\n",
       "        2.000e+00],\n",
       "       [0.000e+00, 1.290e+01, 2.570e+01, ..., 2.008e+03, 1.200e+01,\n",
       "        3.000e+00],\n",
       "       ...,\n",
       "       [4.800e+01, 3.600e+00, 2.530e+01, ..., 2.017e+03, 6.000e+00,\n",
       "        2.200e+01],\n",
       "       [4.800e+01, 5.400e+00, 2.690e+01, ..., 2.017e+03, 6.000e+00,\n",
       "        2.300e+01],\n",
       "       [4.800e+01, 7.800e+00, 2.700e+01, ..., 2.017e+03, 6.000e+00,\n",
       "        2.400e+01]])"
      ]
     },
     "execution_count": 78,
     "metadata": {},
     "output_type": "execute_result"
    }
   ],
   "source": [
    "# Check the input array\n",
    "X_array"
   ]
  },
  {
   "cell_type": "code",
   "execution_count": 278,
   "id": "cde5bd3c",
   "metadata": {},
   "outputs": [
    {
     "name": "stdout",
     "output_type": "stream",
     "text": [
      "Highet Classification Accuracy \t\t: 0.8370944248956148\n",
      "Corresponding Depth of Decesion Tree \t: 5\n"
     ]
    },
    {
     "data": {
      "image/png": "[encoded data removed]",
      "text/plain": [
       "<Figure size 1440x360 with 1 Axes>"
      ]
     },
     "metadata": {
      "needs_background": "light"
     },
     "output_type": "display_data"
    }
   ],
   "source": [
    "# Stratified K-fold cross-validation\n",
    "scorelist = []\n",
    "for i in range(0,30):\n",
    "    dectree = DecisionTreeClassifier(max_depth=i+1\n",
    "                                    ,random_state=5\n",
    "                                    ,criterion='entropy'\n",
    "                                    #,splitter=\"random\"\n",
    "                                    )\n",
    "\n",
    "    score = cross_val_score(dectree,X_array,y_array,cv=10).mean()                       #cv=10 cross validation 10 times\n",
    "    scorelist.append(score)\n",
    "\n",
    "\n",
    "    \n",
    "print(\"Highet Classification Accuracy \\t\\t:\",max(scorelist))\n",
    "print(\"Corresponding Depth of Decesion Tree \\t:\",(scorelist.index(max(scorelist))+1))\n",
    "plt.figure(figsize=[20,5])\n",
    "plt.plot(range(1,31),scorelist,label=\"max_depth\")\n",
    "plt.legend()\n",
    "plt.show()"
   ]
  },
  {
   "cell_type": "markdown",
   "id": "3f95dd90",
   "metadata": {},
   "source": [
    "<font color=blue>***max_depth=5***</font> explain why We will use max_depth=5 in the following models"
   ]
  },
  {
   "cell_type": "markdown",
   "id": "362ab617",
   "metadata": {},
   "source": [
    "### 2.2.2 min_samples_leaf (Grid Search)"
   ]
  },
  {
   "cell_type": "code",
   "execution_count": 75,
   "id": "82d4eb52",
   "metadata": {},
   "outputs": [],
   "source": [
    "from sklearn.model_selection import GridSearchCV\n",
    "from sklearn.model_selection import cross_val_score"
   ]
  },
  {
   "cell_type": "code",
   "execution_count": 134,
   "id": "3f95ac94",
   "metadata": {},
   "outputs": [
    {
     "data": {
      "text/plain": [
       "GridSearchCV(cv=10,\n",
       "             estimator=DecisionTreeClassifier(criterion='entropy', max_depth=5,\n",
       "                                              random_state=5),\n",
       "             param_grid={'min_samples_leaf': array([ 1,  6, 11, 16, 21, 26, 31, 36, 41, 46, 51, 56, 61, 66, 71, 76, 81,\n",
       "       86, 91, 96])})"
      ]
     },
     "execution_count": 134,
     "metadata": {},
     "output_type": "execute_result"
    }
   ],
   "source": [
    "param_grid1 = {'min_samples_leaf':np.arange(1,101,5)}             # min_samples_leaf(default=1)\n",
    "\n",
    "dectree = DecisionTreeClassifier(max_depth=5\n",
    "                                ,random_state=5\n",
    "                                ,criterion='entropy'\n",
    "                                #,splitter=\"random\"\n",
    "                                    )\n",
    "\n",
    "\n",
    "GS = GridSearchCV(dectree, param_grid1, cv=10)\n",
    "GS.fit(X_array,y_array)"
   ]
  },
  {
   "cell_type": "code",
   "execution_count": 135,
   "id": "df2dafd2",
   "metadata": {},
   "outputs": [
    {
     "data": {
      "text/plain": [
       "{'min_samples_leaf': 11}"
      ]
     },
     "execution_count": 135,
     "metadata": {},
     "output_type": "execute_result"
    }
   ],
   "source": [
    "GS.best_params_"
   ]
  },
  {
   "cell_type": "code",
   "execution_count": 136,
   "id": "04737eb1",
   "metadata": {},
   "outputs": [
    {
     "data": {
      "text/plain": [
       "0.8371016670740621"
      ]
     },
     "execution_count": 136,
     "metadata": {},
     "output_type": "execute_result"
    }
   ],
   "source": [
    "GS.best_score_"
   ]
  },
  {
   "cell_type": "markdown",
   "id": "234ba017",
   "metadata": {},
   "source": [
    "<font color=blue>***min_samples_leaf=11***</font>explain why We will use min_samples_leaf=11 in the following models."
   ]
  },
  {
   "cell_type": "markdown",
   "id": "830ffd6f",
   "metadata": {},
   "source": [
    "### 2.2.2 min_samples_split (Grid Search)"
   ]
  },
  {
   "cell_type": "code",
   "execution_count": 128,
   "id": "1dada036",
   "metadata": {},
   "outputs": [
    {
     "data": {
      "text/plain": [
       "GridSearchCV(cv=10,\n",
       "             estimator=DecisionTreeClassifier(criterion='entropy', max_depth=5,\n",
       "                                              min_samples_leaf=11,\n",
       "                                              random_state=5),\n",
       "             param_grid={'min_samples_split': array([ 1,  2,  3,  4,  5,  6,  7,  8,  9, 10, 11, 12, 13, 14, 15, 16, 17,\n",
       "       18, 19, 20])})"
      ]
     },
     "execution_count": 128,
     "metadata": {},
     "output_type": "execute_result"
    }
   ],
   "source": [
    "param_grid2 = {'min_samples_split':np.arange(1,21)}              # min_samples_split(default=2)\n",
    "dectree = DecisionTreeClassifier(max_depth=5\n",
    "                                ,min_samples_leaf=11\n",
    "                                ,random_state=5\n",
    "                                ,criterion='entropy'\n",
    "                                #,splitter=\"random\"\n",
    "                                    )\n",
    "\n",
    "\n",
    "GS = GridSearchCV(dectree, param_grid2, cv=10)\n",
    "GS.fit(X_array,y_array)"
   ]
  },
  {
   "cell_type": "code",
   "execution_count": 129,
   "id": "ae4128ea",
   "metadata": {},
   "outputs": [
    {
     "data": {
      "text/plain": [
       "{'min_samples_split': 2}"
      ]
     },
     "execution_count": 129,
     "metadata": {},
     "output_type": "execute_result"
    }
   ],
   "source": [
    "GS.best_params_"
   ]
  },
  {
   "cell_type": "code",
   "execution_count": 130,
   "id": "80cd3fc6",
   "metadata": {},
   "outputs": [
    {
     "data": {
      "text/plain": [
       "0.8371016670740621"
      ]
     },
     "execution_count": 130,
     "metadata": {},
     "output_type": "execute_result"
    }
   ],
   "source": [
    "GS.best_score_"
   ]
  },
  {
   "cell_type": "markdown",
   "id": "e434e685",
   "metadata": {},
   "source": [
    "### 2.2.2 max_features (Grid Search)"
   ]
  },
  {
   "cell_type": "code",
   "execution_count": 131,
   "id": "6482f865",
   "metadata": {},
   "outputs": [
    {
     "data": {
      "text/plain": [
       "GridSearchCV(cv=10,\n",
       "             estimator=DecisionTreeClassifier(criterion='entropy', max_depth=5,\n",
       "                                              min_samples_leaf=11,\n",
       "                                              random_state=5),\n",
       "             param_grid={'max_features': [None, 'log2', 'sqrt']})"
      ]
     },
     "execution_count": 131,
     "metadata": {},
     "output_type": "execute_result"
    }
   ],
   "source": [
    "# Set the range for max_features to apply Grid Search\n",
    "param_grid3 = {'max_features':[None, 'log2','sqrt']}        # max_features(default=None, max_features=n_features)\n",
    "                                                            # For this dataset, n_feature=24\n",
    "                                                            # If “sqrt”, then max_features=sqrt(n_features)\n",
    "                                                            # If “log2”, then max_features=log2(n_features)\n",
    "dectree = DecisionTreeClassifier(max_depth=5\n",
    "                                ,random_state=5\n",
    "                                ,min_samples_leaf=11\n",
    "                                ,criterion='entropy'\n",
    "                                #,splitter=\"random\"\n",
    "                                    )\n",
    "\n",
    "\n",
    "GS = GridSearchCV(dectree, param_grid3, cv=10)\n",
    "GS.fit(X_array,y_array)"
   ]
  },
  {
   "cell_type": "code",
   "execution_count": 132,
   "id": "eda9b473",
   "metadata": {},
   "outputs": [
    {
     "data": {
      "text/plain": [
       "{'max_features': None}"
      ]
     },
     "execution_count": 132,
     "metadata": {},
     "output_type": "execute_result"
    }
   ],
   "source": [
    "GS.best_params_"
   ]
  },
  {
   "cell_type": "code",
   "execution_count": 133,
   "id": "111ac74b",
   "metadata": {},
   "outputs": [
    {
     "data": {
      "text/plain": [
       "0.8371016670740621"
      ]
     },
     "execution_count": 133,
     "metadata": {},
     "output_type": "execute_result"
    }
   ],
   "source": [
    "GS.best_score_"
   ]
  },
  {
   "cell_type": "code",
   "execution_count": null,
   "id": "ffa58314",
   "metadata": {},
   "outputs": [],
   "source": []
  },
  {
   "cell_type": "code",
   "execution_count": null,
   "id": "e1a38fcb",
   "metadata": {},
   "outputs": [],
   "source": []
  },
  {
   "cell_type": "code",
   "execution_count": null,
   "id": "4ba0b1d0",
   "metadata": {},
   "outputs": [],
   "source": []
  },
  {
   "cell_type": "code",
   "execution_count": null,
   "id": "40c8cfa8",
   "metadata": {},
   "outputs": [],
   "source": []
  },
  {
   "cell_type": "code",
   "execution_count": null,
   "id": "5c8cc7fe",
   "metadata": {},
   "outputs": [],
   "source": []
  },
  {
   "cell_type": "markdown",
   "id": "b541e351",
   "metadata": {},
   "source": [
    "## 2.3 Conclusion for Decision tree"
   ]
  },
  {
   "cell_type": "code",
   "execution_count": 1,
   "id": "4b82284f",
   "metadata": {},
   "outputs": [
    {
     "name": "stdout",
     "output_type": "stream",
     "text": [
      "Event rate = 22.30783714496763 %\n"
     ]
    }
   ],
   "source": [
    "print('Event rate =',30804/138086*100,'%')"
   ]
  },
  {
   "cell_type": "markdown",
   "id": "6774a5fd",
   "metadata": {},
   "source": [
    ">Total Observations = 138086\n",
    "\n",
    ">No  = 107282\n",
    "\n",
    ">Yes = 30804\n",
    "\n",
    ">Event Rate = 22.308%"
   ]
  },
  {
   "cell_type": "markdown",
   "id": "ad2b7793",
   "metadata": {},
   "source": [
    "<font color=darkblue>Classifier algorithms like Decision Tree has a bias towards classes which have number of instances. They tend to only predict the majority class data. Thus, there is a high probability of misclassification of the minority class as compared to the majority class(as shown in the confusion matrix of the test data in the beginning). It is common to classify a dataset with classes ratio smaller than 1:4 as an imbalanced dataset. In our case, the ratio is about 0.287>1/4. Neverthless, we still decide to balance the dataset using class_weight."
   ]
  },
  {
   "cell_type": "code",
   "execution_count": null,
   "id": "0a282c93",
   "metadata": {},
   "outputs": [],
   "source": [
    "f, axes = plt.subplots(1, 4, figsize=(20, 10))\n",
    "balance_method=[None,'balanced',{'No': 1, 'Yes': 1},{'No': 30804, 'Yes': 107282}]\n",
    "i=0\n",
    "for method in balance_method:\n",
    "    dectree = DecisionTreeClassifier(max_depth=8                \n",
    "                                ,min_samples_leaf=6         \n",
    "                                ,random_state=5\n",
    "                                ,max_features=96\n",
    "                                ,criterion='entropy'\n",
    "                                #,splitter=\"random\"\n",
    "                                ,class_weight=method)\n",
    "    \n",
    "    dectree.fit(X_train,y_train)\n",
    "    print('balance method:\\t\\t\\t\\t',method)\n",
    "    print('Classification accuracy:\\t\\t',cross_val_score(dectree,X_train_array,y_train_array,cv=10).mean())\n",
    "    y_test_pred = dectree.predict(X_test)\n",
    "\n",
    "    sb.heatmap(confusion_matrix(y_test, y_test_pred),\n",
    "               annot = True, fmt=\".0f\", annot_kws={\"size\": 18}, ax = axes[i])\n",
    "    i=i+1"
   ]
  },
  {
   "cell_type": "markdown",
   "id": "250fcce2",
   "metadata": {},
   "source": [
    "# 你俩从这里写，后头那部分你们应该用了会卡死"
   ]
  },
  {
   "cell_type": "code",
   "execution_count": 58,
   "id": "a5ce41c0",
   "metadata": {},
   "outputs": [],
   "source": [
    "# Import essential models and functions from sklearn\n",
    "from sklearn.tree import DecisionTreeClassifier\n",
    "from sklearn.ensemble import RandomForestClassifier\n",
    "from sklearn.model_selection import GridSearchCV\n",
    "from sklearn.model_selection import cross_val_score"
   ]
  },
  {
   "cell_type": "code",
   "execution_count": 69,
   "id": "d4fba65c",
   "metadata": {},
   "outputs": [
    {
     "data": {
      "text/plain": [
       "RandomForestClassifier(n_estimators=186, oob_score=True, random_state=50)"
      ]
     },
     "execution_count": 69,
     "metadata": {},
     "output_type": "execute_result"
    }
   ],
   "source": [
    "rfc = RandomForestClassifier(random_state=50\n",
    "                            ,n_estimators=186\n",
    "                            #,criterion='entropy'\n",
    "                            ,oob_score=True\n",
    "                             )     \n",
    "rfc.fit(X_train_new,y_train) "
   ]
  },
  {
   "cell_type": "code",
   "execution_count": 70,
   "id": "37735c9d",
   "metadata": {},
   "outputs": [
    {
     "data": {
      "text/plain": [
       "0.8562027012347467"
      ]
     },
     "execution_count": 70,
     "metadata": {},
     "output_type": "execute_result"
    }
   ],
   "source": [
    "#rfc.score(X_test_new, y_test)\n",
    "rfc.oob_score_                       #out of bag data"
   ]
  },
  {
   "cell_type": "code",
   "execution_count": 80,
   "id": "677b2426",
   "metadata": {},
   "outputs": [
    {
     "name": "stdout",
     "output_type": "stream",
     "text": [
      "Variable: Humidity3pm          Importance: 0.1619\n",
      "Variable: Pressure3pm          Importance: 0.0575\n",
      "Variable: WindGustSpeed        Importance: 0.0539\n",
      "Variable: Sunshine             Importance: 0.0533\n",
      "Variable: Pressure9am          Importance: 0.0527\n",
      "Variable: Humidity9am          Importance: 0.0498\n",
      "Variable: Rainfall             Importance: 0.0459\n",
      "Variable: Temp3pm              Importance: 0.0451\n",
      "Variable: MinTemp              Importance: 0.0432\n",
      "Variable: MaxTemp              Importance: 0.0411\n",
      "Variable: Temp9am              Importance: 0.0405\n",
      "Variable: Cloud3pm             Importance: 0.0377\n",
      "Variable: Day                  Importance: 0.0325\n",
      "Variable: WindSpeed3pm         Importance: 0.0316\n",
      "Variable: Location             Importance: 0.0306\n",
      "Variable: WindSpeed9am         Importance: 0.0293\n",
      "Variable: WindDir3pm           Importance: 0.0271\n",
      "Variable: WindGustDir          Importance: 0.0263\n",
      "Variable: WindDir9am           Importance: 0.0259\n",
      "Variable: Month                Importance: 0.0236\n",
      "Variable: Year                 Importance: 0.0234\n",
      "Variable: Evaporation          Importance: 0.0232\n",
      "Variable: RainToday            Importance: 0.0231\n",
      "Variable: Cloud9am             Importance: 0.0212\n"
     ]
    }
   ],
   "source": [
    "# Check featuer importances\n",
    "\n",
    "# Saving feature names for later use\n",
    "feature_list = list(X_train_new.columns)\n",
    "# Get numerical feature importances\n",
    "importances = list(rfc.feature_importances_)\n",
    "# List of tuples with variable and importance\n",
    "feature_importances = [(feature, round(importance, 4)) for feature, importance in zip(feature_list, importances)]\n",
    "# Sort the feature importances by most important first\n",
    "feature_importances = sorted(feature_importances, key = lambda x: x[1], reverse = True)\n",
    "# Print out the feature and importances \n",
    "[print('Variable: {:20} Importance: {}'.format(*pair)) for pair in feature_importances];"
   ]
  },
  {
   "cell_type": "code",
   "execution_count": 62,
   "id": "adeb6d25",
   "metadata": {},
   "outputs": [
    {
     "data": {
      "text/html": [
       "<div>\n",
       "<style scoped>\n",
       "    .dataframe tbody tr th:only-of-type {\n",
       "        vertical-align: middle;\n",
       "    }\n",
       "\n",
       "    .dataframe tbody tr th {\n",
       "        vertical-align: top;\n",
       "    }\n",
       "\n",
       "    .dataframe thead th {\n",
       "        text-align: right;\n",
       "    }\n",
       "</style>\n",
       "<table border=\"1\" class=\"dataframe\">\n",
       "  <thead>\n",
       "    <tr style=\"text-align: right;\">\n",
       "      <th></th>\n",
       "      <th>Location</th>\n",
       "      <th>MinTemp</th>\n",
       "      <th>MaxTemp</th>\n",
       "      <th>Rainfall</th>\n",
       "      <th>Evaporation</th>\n",
       "      <th>Sunshine</th>\n",
       "      <th>WindGustDir</th>\n",
       "      <th>WindGustSpeed</th>\n",
       "      <th>WindDir9am</th>\n",
       "      <th>WindDir3pm</th>\n",
       "      <th>...</th>\n",
       "      <th>Pressure9am</th>\n",
       "      <th>Pressure3pm</th>\n",
       "      <th>Cloud9am</th>\n",
       "      <th>Cloud3pm</th>\n",
       "      <th>Temp9am</th>\n",
       "      <th>Temp3pm</th>\n",
       "      <th>RainToday</th>\n",
       "      <th>Year</th>\n",
       "      <th>Month</th>\n",
       "      <th>Day</th>\n",
       "    </tr>\n",
       "  </thead>\n",
       "  <tbody>\n",
       "    <tr>\n",
       "      <th>0</th>\n",
       "      <td>Sydney</td>\n",
       "      <td>8.1</td>\n",
       "      <td>21.0</td>\n",
       "      <td>0.0</td>\n",
       "      <td>3.6</td>\n",
       "      <td>9.7</td>\n",
       "      <td>N</td>\n",
       "      <td>35.0</td>\n",
       "      <td>WNW</td>\n",
       "      <td>N</td>\n",
       "      <td>...</td>\n",
       "      <td>1026.5</td>\n",
       "      <td>1021.5</td>\n",
       "      <td>1.0</td>\n",
       "      <td>0.0</td>\n",
       "      <td>9.8</td>\n",
       "      <td>20.4</td>\n",
       "      <td>No</td>\n",
       "      <td>2012</td>\n",
       "      <td>7</td>\n",
       "      <td>17</td>\n",
       "    </tr>\n",
       "    <tr>\n",
       "      <th>1</th>\n",
       "      <td>MelbourneAirport</td>\n",
       "      <td>4.9</td>\n",
       "      <td>15.5</td>\n",
       "      <td>0.0</td>\n",
       "      <td>4.2</td>\n",
       "      <td>6.4</td>\n",
       "      <td>N</td>\n",
       "      <td>78.0</td>\n",
       "      <td>N</td>\n",
       "      <td>N</td>\n",
       "      <td>...</td>\n",
       "      <td>1026.8</td>\n",
       "      <td>1021.0</td>\n",
       "      <td>7.0</td>\n",
       "      <td>7.0</td>\n",
       "      <td>10.2</td>\n",
       "      <td>14.3</td>\n",
       "      <td>No</td>\n",
       "      <td>2015</td>\n",
       "      <td>7</td>\n",
       "      <td>21</td>\n",
       "    </tr>\n",
       "    <tr>\n",
       "      <th>2</th>\n",
       "      <td>Ballarat</td>\n",
       "      <td>3.0</td>\n",
       "      <td>16.3</td>\n",
       "      <td>0.2</td>\n",
       "      <td>4.8</td>\n",
       "      <td>8.5</td>\n",
       "      <td>N</td>\n",
       "      <td>44.0</td>\n",
       "      <td>N</td>\n",
       "      <td>N</td>\n",
       "      <td>...</td>\n",
       "      <td>1025.1</td>\n",
       "      <td>1021.9</td>\n",
       "      <td>8.0</td>\n",
       "      <td>5.0</td>\n",
       "      <td>9.3</td>\n",
       "      <td>15.9</td>\n",
       "      <td>No</td>\n",
       "      <td>2010</td>\n",
       "      <td>5</td>\n",
       "      <td>1</td>\n",
       "    </tr>\n",
       "    <tr>\n",
       "      <th>3</th>\n",
       "      <td>NorahHead</td>\n",
       "      <td>21.6</td>\n",
       "      <td>28.8</td>\n",
       "      <td>0.0</td>\n",
       "      <td>4.8</td>\n",
       "      <td>8.5</td>\n",
       "      <td>NE</td>\n",
       "      <td>43.0</td>\n",
       "      <td>S</td>\n",
       "      <td>NE</td>\n",
       "      <td>...</td>\n",
       "      <td>1012.3</td>\n",
       "      <td>1008.1</td>\n",
       "      <td>5.0</td>\n",
       "      <td>5.0</td>\n",
       "      <td>23.2</td>\n",
       "      <td>24.7</td>\n",
       "      <td>No</td>\n",
       "      <td>2013</td>\n",
       "      <td>1</td>\n",
       "      <td>17</td>\n",
       "    </tr>\n",
       "    <tr>\n",
       "      <th>4</th>\n",
       "      <td>WaggaWagga</td>\n",
       "      <td>9.1</td>\n",
       "      <td>19.0</td>\n",
       "      <td>0.0</td>\n",
       "      <td>4.8</td>\n",
       "      <td>6.4</td>\n",
       "      <td>SW</td>\n",
       "      <td>48.0</td>\n",
       "      <td>WNW</td>\n",
       "      <td>W</td>\n",
       "      <td>...</td>\n",
       "      <td>1010.2</td>\n",
       "      <td>1008.7</td>\n",
       "      <td>6.0</td>\n",
       "      <td>5.0</td>\n",
       "      <td>13.3</td>\n",
       "      <td>18.1</td>\n",
       "      <td>No</td>\n",
       "      <td>2011</td>\n",
       "      <td>10</td>\n",
       "      <td>9</td>\n",
       "    </tr>\n",
       "    <tr>\n",
       "      <th>...</th>\n",
       "      <td>...</td>\n",
       "      <td>...</td>\n",
       "      <td>...</td>\n",
       "      <td>...</td>\n",
       "      <td>...</td>\n",
       "      <td>...</td>\n",
       "      <td>...</td>\n",
       "      <td>...</td>\n",
       "      <td>...</td>\n",
       "      <td>...</td>\n",
       "      <td>...</td>\n",
       "      <td>...</td>\n",
       "      <td>...</td>\n",
       "      <td>...</td>\n",
       "      <td>...</td>\n",
       "      <td>...</td>\n",
       "      <td>...</td>\n",
       "      <td>...</td>\n",
       "      <td>...</td>\n",
       "      <td>...</td>\n",
       "      <td>...</td>\n",
       "    </tr>\n",
       "    <tr>\n",
       "      <th>110463</th>\n",
       "      <td>Canberra</td>\n",
       "      <td>16.0</td>\n",
       "      <td>23.8</td>\n",
       "      <td>2.2</td>\n",
       "      <td>5.4</td>\n",
       "      <td>6.2</td>\n",
       "      <td>SSE</td>\n",
       "      <td>30.0</td>\n",
       "      <td>SE</td>\n",
       "      <td>ESE</td>\n",
       "      <td>...</td>\n",
       "      <td>1018.9</td>\n",
       "      <td>1017.1</td>\n",
       "      <td>8.0</td>\n",
       "      <td>7.0</td>\n",
       "      <td>16.5</td>\n",
       "      <td>22.9</td>\n",
       "      <td>Yes</td>\n",
       "      <td>2008</td>\n",
       "      <td>2</td>\n",
       "      <td>1</td>\n",
       "    </tr>\n",
       "    <tr>\n",
       "      <th>110464</th>\n",
       "      <td>Nuriootpa</td>\n",
       "      <td>6.8</td>\n",
       "      <td>14.3</td>\n",
       "      <td>0.4</td>\n",
       "      <td>4.4</td>\n",
       "      <td>1.7</td>\n",
       "      <td>WSW</td>\n",
       "      <td>33.0</td>\n",
       "      <td>WNW</td>\n",
       "      <td>WSW</td>\n",
       "      <td>...</td>\n",
       "      <td>1021.5</td>\n",
       "      <td>1020.4</td>\n",
       "      <td>8.0</td>\n",
       "      <td>8.0</td>\n",
       "      <td>8.8</td>\n",
       "      <td>12.4</td>\n",
       "      <td>No</td>\n",
       "      <td>2010</td>\n",
       "      <td>10</td>\n",
       "      <td>17</td>\n",
       "    </tr>\n",
       "    <tr>\n",
       "      <th>110465</th>\n",
       "      <td>MountGambier</td>\n",
       "      <td>0.9</td>\n",
       "      <td>11.3</td>\n",
       "      <td>0.0</td>\n",
       "      <td>1.4</td>\n",
       "      <td>1.5</td>\n",
       "      <td>NE</td>\n",
       "      <td>28.0</td>\n",
       "      <td>NE</td>\n",
       "      <td>ENE</td>\n",
       "      <td>...</td>\n",
       "      <td>1021.6</td>\n",
       "      <td>1017.2</td>\n",
       "      <td>7.0</td>\n",
       "      <td>7.0</td>\n",
       "      <td>4.4</td>\n",
       "      <td>10.4</td>\n",
       "      <td>No</td>\n",
       "      <td>2014</td>\n",
       "      <td>7</td>\n",
       "      <td>23</td>\n",
       "    </tr>\n",
       "    <tr>\n",
       "      <th>110466</th>\n",
       "      <td>SalmonGums</td>\n",
       "      <td>17.7</td>\n",
       "      <td>36.5</td>\n",
       "      <td>0.0</td>\n",
       "      <td>4.8</td>\n",
       "      <td>8.5</td>\n",
       "      <td>NNW</td>\n",
       "      <td>48.0</td>\n",
       "      <td>NNE</td>\n",
       "      <td>ENE</td>\n",
       "      <td>...</td>\n",
       "      <td>1017.6</td>\n",
       "      <td>1015.2</td>\n",
       "      <td>5.0</td>\n",
       "      <td>5.0</td>\n",
       "      <td>26.4</td>\n",
       "      <td>35.7</td>\n",
       "      <td>No</td>\n",
       "      <td>2012</td>\n",
       "      <td>1</td>\n",
       "      <td>21</td>\n",
       "    </tr>\n",
       "    <tr>\n",
       "      <th>110467</th>\n",
       "      <td>Canberra</td>\n",
       "      <td>5.8</td>\n",
       "      <td>26.9</td>\n",
       "      <td>0.0</td>\n",
       "      <td>4.8</td>\n",
       "      <td>8.5</td>\n",
       "      <td>NNW</td>\n",
       "      <td>35.0</td>\n",
       "      <td>NNW</td>\n",
       "      <td>NW</td>\n",
       "      <td>...</td>\n",
       "      <td>1017.6</td>\n",
       "      <td>1011.3</td>\n",
       "      <td>5.0</td>\n",
       "      <td>5.0</td>\n",
       "      <td>16.7</td>\n",
       "      <td>25.4</td>\n",
       "      <td>No</td>\n",
       "      <td>2013</td>\n",
       "      <td>4</td>\n",
       "      <td>14</td>\n",
       "    </tr>\n",
       "  </tbody>\n",
       "</table>\n",
       "<p>110468 rows × 24 columns</p>\n",
       "</div>"
      ],
      "text/plain": [
       "                Location  MinTemp  MaxTemp  Rainfall  Evaporation  Sunshine  \\\n",
       "0                 Sydney      8.1     21.0       0.0          3.6       9.7   \n",
       "1       MelbourneAirport      4.9     15.5       0.0          4.2       6.4   \n",
       "2               Ballarat      3.0     16.3       0.2          4.8       8.5   \n",
       "3              NorahHead     21.6     28.8       0.0          4.8       8.5   \n",
       "4             WaggaWagga      9.1     19.0       0.0          4.8       6.4   \n",
       "...                  ...      ...      ...       ...          ...       ...   \n",
       "110463          Canberra     16.0     23.8       2.2          5.4       6.2   \n",
       "110464         Nuriootpa      6.8     14.3       0.4          4.4       1.7   \n",
       "110465      MountGambier      0.9     11.3       0.0          1.4       1.5   \n",
       "110466        SalmonGums     17.7     36.5       0.0          4.8       8.5   \n",
       "110467          Canberra      5.8     26.9       0.0          4.8       8.5   \n",
       "\n",
       "       WindGustDir  WindGustSpeed WindDir9am WindDir3pm  ...  Pressure9am  \\\n",
       "0                N           35.0        WNW          N  ...       1026.5   \n",
       "1                N           78.0          N          N  ...       1026.8   \n",
       "2                N           44.0          N          N  ...       1025.1   \n",
       "3               NE           43.0          S         NE  ...       1012.3   \n",
       "4               SW           48.0        WNW          W  ...       1010.2   \n",
       "...            ...            ...        ...        ...  ...          ...   \n",
       "110463         SSE           30.0         SE        ESE  ...       1018.9   \n",
       "110464         WSW           33.0        WNW        WSW  ...       1021.5   \n",
       "110465          NE           28.0         NE        ENE  ...       1021.6   \n",
       "110466         NNW           48.0        NNE        ENE  ...       1017.6   \n",
       "110467         NNW           35.0        NNW         NW  ...       1017.6   \n",
       "\n",
       "        Pressure3pm  Cloud9am  Cloud3pm  Temp9am  Temp3pm  RainToday  Year  \\\n",
       "0            1021.5       1.0       0.0      9.8     20.4         No  2012   \n",
       "1            1021.0       7.0       7.0     10.2     14.3         No  2015   \n",
       "2            1021.9       8.0       5.0      9.3     15.9         No  2010   \n",
       "3            1008.1       5.0       5.0     23.2     24.7         No  2013   \n",
       "4            1008.7       6.0       5.0     13.3     18.1         No  2011   \n",
       "...             ...       ...       ...      ...      ...        ...   ...   \n",
       "110463       1017.1       8.0       7.0     16.5     22.9        Yes  2008   \n",
       "110464       1020.4       8.0       8.0      8.8     12.4         No  2010   \n",
       "110465       1017.2       7.0       7.0      4.4     10.4         No  2014   \n",
       "110466       1015.2       5.0       5.0     26.4     35.7         No  2012   \n",
       "110467       1011.3       5.0       5.0     16.7     25.4         No  2013   \n",
       "\n",
       "        Month  Day  \n",
       "0           7   17  \n",
       "1           7   21  \n",
       "2           5    1  \n",
       "3           1   17  \n",
       "4          10    9  \n",
       "...       ...  ...  \n",
       "110463      2    1  \n",
       "110464     10   17  \n",
       "110465      7   23  \n",
       "110466      1   21  \n",
       "110467      4   14  \n",
       "\n",
       "[110468 rows x 24 columns]"
      ]
     },
     "execution_count": 62,
     "metadata": {},
     "output_type": "execute_result"
    }
   ],
   "source": [
    "X_train"
   ]
  },
  {
   "cell_type": "code",
   "execution_count": null,
   "id": "971faf50",
   "metadata": {},
   "outputs": [],
   "source": []
  },
  {
   "cell_type": "code",
   "execution_count": 59,
   "id": "d056bd7b",
   "metadata": {},
   "outputs": [
    {
     "name": "stdout",
     "output_type": "stream",
     "text": [
      "Highet Classification Accuracy \t\t: 0.8569449807409393\n",
      "Corresponding Depth of the Tree \t: 201\n"
     ]
    },
    {
     "data": {
      "image/png": "[encoded data removed]",
      "text/plain": [
       "<Figure size 1440x360 with 1 Axes>"
      ]
     },
     "metadata": {
      "needs_background": "light"
     },
     "output_type": "display_data"
    }
   ],
   "source": [
    "scorelist1 = []\n",
    "for i in range(0,1000,200):\n",
    "    rfc = RandomForestClassifier(max_depth=i+1\n",
    "                                ,random_state=50\n",
    "                                ,n_estimators=186\n",
    "                                ,n_jobs=-1\n",
    "                                )\n",
    "\n",
    "    score = cross_val_score(rfc,X_train_new,y_train,cv=10).mean()                       #cv=10 cross validation 10 times\n",
    "    scorelist1.append(score)\n",
    "\n",
    "\n",
    "    \n",
    "print(\"Highet Classification Accuracy \\t\\t:\",max(scorelist1))\n",
    "print(\"Corresponding Depth of the Tree \\t:\",(scorelist1.index(max(scorelist1))*200+1))\n",
    "plt.figure(figsize=[20,5])\n",
    "plt.plot(range(1,1001,200),scorelist1,label=\"max_depth\")\n",
    "plt.legend()\n",
    "plt.show()"
   ]
  },
  {
   "cell_type": "code",
   "execution_count": null,
   "id": "435e53a2",
   "metadata": {},
   "outputs": [],
   "source": []
  },
  {
   "cell_type": "code",
   "execution_count": null,
   "id": "9dd210c8",
   "metadata": {},
   "outputs": [],
   "source": []
  },
  {
   "cell_type": "code",
   "execution_count": null,
   "id": "6bd9bb80",
   "metadata": {},
   "outputs": [],
   "source": []
  },
  {
   "cell_type": "code",
   "execution_count": null,
   "id": "2f413e28",
   "metadata": {},
   "outputs": [],
   "source": []
  },
  {
   "cell_type": "code",
   "execution_count": null,
   "id": "336c6ee0",
   "metadata": {},
   "outputs": [],
   "source": []
  },
  {
   "cell_type": "code",
   "execution_count": null,
   "id": "514a8870",
   "metadata": {},
   "outputs": [],
   "source": []
  },
  {
   "cell_type": "code",
   "execution_count": null,
   "id": "7f756358",
   "metadata": {},
   "outputs": [],
   "source": []
  },
  {
   "cell_type": "code",
   "execution_count": null,
   "id": "4912feb8",
   "metadata": {},
   "outputs": [],
   "source": []
  },
  {
   "cell_type": "code",
   "execution_count": null,
   "id": "09d72af8",
   "metadata": {},
   "outputs": [],
   "source": []
  },
  {
   "cell_type": "code",
   "execution_count": null,
   "id": "dc7882e1",
   "metadata": {},
   "outputs": [],
   "source": []
  },
  {
   "cell_type": "code",
   "execution_count": null,
   "id": "0af0b66f",
   "metadata": {},
   "outputs": [],
   "source": []
  },
  {
   "cell_type": "code",
   "execution_count": null,
   "id": "a64bbea4",
   "metadata": {},
   "outputs": [],
   "source": []
  },
  {
   "cell_type": "code",
   "execution_count": null,
   "id": "2e790807",
   "metadata": {},
   "outputs": [],
   "source": []
  },
  {
   "cell_type": "markdown",
   "id": "beb7a309",
   "metadata": {},
   "source": [
    "# 4. Logistic Regression"
   ]
  },
  {
   "cell_type": "markdown",
   "id": "ccb92e4d",
   "metadata": {},
   "source": [
    "## 4.1 One Hot Encoding of Categorical Variables"
   ]
  },
  {
   "cell_type": "code",
   "execution_count": null,
   "id": "12f32d9c",
   "metadata": {
    "scrolled": true
   },
   "outputs": [],
   "source": [
    "# RainToday\n",
    "pd.get_dummies(weather_df.RainToday).head()\n",
    "# This is just an illustration of the result of One Hot Encoding.\n"
   ]
  },
  {
   "cell_type": "code",
   "execution_count": null,
   "id": "8a3c7e85",
   "metadata": {
    "scrolled": true
   },
   "outputs": [],
   "source": [
    "from sklearn.preprocessing import OneHotEncoder\n",
    "\n",
    "encoder=OneHotEncoder(sparse=False)\n",
    "\n",
    "var_list = ['Location','WindGustDir','WindDir9am','WindDir3pm','RainToday']\n",
    "\n",
    "# One hot encode X_train\n",
    "for var in var_list:\n",
    "    X_train_encoded = pd.DataFrame(encoder.fit_transform(X_train[[var]]))\n",
    "    X_train_encoded.columns = encoder.get_feature_names([var])\n",
    "    X_train.drop([var] ,axis=1, inplace=True)\n",
    "    X_train=pd.concat([X_train_encoded, X_train], axis=1)\n",
    "    \n",
    "X_train"
   ]
  },
  {
   "cell_type": "code",
   "execution_count": null,
   "id": "29c3010c",
   "metadata": {},
   "outputs": [],
   "source": [
    "# One hot encode X_test\n",
    "for var in var_list:\n",
    "    X_test_encoded = pd.DataFrame(encoder.fit_transform(X_test[[var]]))\n",
    "    X_test_encoded.columns = encoder.get_feature_names([var])   \n",
    "    X_test.drop([var] ,axis=1, inplace=True)\n",
    "    X_test=pd.concat([X_test_encoded, X_test], axis=1)"
   ]
  },
  {
   "cell_type": "markdown",
   "id": "b660f4ce",
   "metadata": {},
   "source": [
    "<font color=darkblue>**Now we finished one hot encoding to the categorical variables**"
   ]
  }
 ],
 "metadata": {
  "kernelspec": {
   "display_name": "Python 3",
   "language": "python",
   "name": "python3"
  },
  "language_info": {
   "codemirror_mode": {
    "name": "ipython",
    "version": 3
   },
   "file_extension": ".py",
   "mimetype": "text/x-python",
   "name": "python",
   "nbconvert_exporter": "python",
   "pygments_lexer": "ipython3",
   "version": "3.8.8"
  }
 },
 "nbformat": 4,
 "nbformat_minor": 5
}
