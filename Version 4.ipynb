{
 "cells": [
  {
   "cell_type": "code",
   "execution_count": 1,
   "id": "2392ba95",
   "metadata": {},
   "outputs": [],
   "source": [
    "import numpy as np \n",
    "import pandas as pd \n",
    "import matplotlib.pyplot as plt \n",
    "import seaborn as sb\n",
    "%matplotlib inline\n",
    "\n",
    "import os\n",
    "for dirname, _, filenames in os.walk('/Users/qiqi/Desktop/EE0005AI/EE0005miniprj'):\n",
    "    for filename in filenames:\n",
    "        print(os.path.join(dirname, filename))"
   ]
  },
  {
   "cell_type": "code",
   "execution_count": 2,
   "id": "dbe7db3e",
   "metadata": {},
   "outputs": [],
   "source": [
    "import warnings\n",
    "warnings.filterwarnings('ignore')"
   ]
  },
  {
   "cell_type": "markdown",
   "id": "a1941688",
   "metadata": {},
   "source": [
    "# 1. Data Preparation"
   ]
  },
  {
   "cell_type": "markdown",
   "id": "8217a64f",
   "metadata": {},
   "source": [
    "## 1.1 Data Exploration"
   ]
  },
  {
   "cell_type": "code",
   "execution_count": 3,
   "id": "8da06aa5",
   "metadata": {},
   "outputs": [],
   "source": [
    "weather_df = pd.read_csv('weatherAUS.csv')"
   ]
  },
  {
   "cell_type": "code",
   "execution_count": 4,
   "id": "e620f98e",
   "metadata": {
    "scrolled": true
   },
   "outputs": [
    {
     "name": "stdout",
     "output_type": "stream",
     "text": [
      "<class 'pandas.core.frame.DataFrame'>\n",
      "RangeIndex: 145460 entries, 0 to 145459\n",
      "Data columns (total 23 columns):\n",
      " #   Column         Non-Null Count   Dtype  \n",
      "---  ------         --------------   -----  \n",
      " 0   Date           145460 non-null  object \n",
      " 1   Location       145460 non-null  object \n",
      " 2   MinTemp        143975 non-null  float64\n",
      " 3   MaxTemp        144199 non-null  float64\n",
      " 4   Rainfall       142199 non-null  float64\n",
      " 5   Evaporation    82670 non-null   float64\n",
      " 6   Sunshine       75625 non-null   float64\n",
      " 7   WindGustDir    135134 non-null  object \n",
      " 8   WindGustSpeed  135197 non-null  float64\n",
      " 9   WindDir9am     134894 non-null  object \n",
      " 10  WindDir3pm     141232 non-null  object \n",
      " 11  WindSpeed9am   143693 non-null  float64\n",
      " 12  WindSpeed3pm   142398 non-null  float64\n",
      " 13  Humidity9am    142806 non-null  float64\n",
      " 14  Humidity3pm    140953 non-null  float64\n",
      " 15  Pressure9am    130395 non-null  float64\n",
      " 16  Pressure3pm    130432 non-null  float64\n",
      " 17  Cloud9am       89572 non-null   float64\n",
      " 18  Cloud3pm       86102 non-null   float64\n",
      " 19  Temp9am        143693 non-null  float64\n",
      " 20  Temp3pm        141851 non-null  float64\n",
      " 21  RainToday      142199 non-null  object \n",
      " 22  RainTomorrow   142193 non-null  object \n",
      "dtypes: float64(16), object(7)\n",
      "memory usage: 25.5+ MB\n"
     ]
    }
   ],
   "source": [
    "weather_df.info()"
   ]
  },
  {
   "cell_type": "code",
   "execution_count": 5,
   "id": "3574384a",
   "metadata": {
    "scrolled": false
   },
   "outputs": [
    {
     "data": {
      "text/html": [
       "<div>\n",
       "<style scoped>\n",
       "    .dataframe tbody tr th:only-of-type {\n",
       "        vertical-align: middle;\n",
       "    }\n",
       "\n",
       "    .dataframe tbody tr th {\n",
       "        vertical-align: top;\n",
       "    }\n",
       "\n",
       "    .dataframe thead th {\n",
       "        text-align: right;\n",
       "    }\n",
       "</style>\n",
       "<table border=\"1\" class=\"dataframe\">\n",
       "  <thead>\n",
       "    <tr style=\"text-align: right;\">\n",
       "      <th></th>\n",
       "      <th>Date</th>\n",
       "      <th>Location</th>\n",
       "      <th>MinTemp</th>\n",
       "      <th>MaxTemp</th>\n",
       "      <th>Rainfall</th>\n",
       "      <th>Evaporation</th>\n",
       "      <th>Sunshine</th>\n",
       "      <th>WindGustDir</th>\n",
       "      <th>WindGustSpeed</th>\n",
       "      <th>WindDir9am</th>\n",
       "      <th>...</th>\n",
       "      <th>Humidity9am</th>\n",
       "      <th>Humidity3pm</th>\n",
       "      <th>Pressure9am</th>\n",
       "      <th>Pressure3pm</th>\n",
       "      <th>Cloud9am</th>\n",
       "      <th>Cloud3pm</th>\n",
       "      <th>Temp9am</th>\n",
       "      <th>Temp3pm</th>\n",
       "      <th>RainToday</th>\n",
       "      <th>RainTomorrow</th>\n",
       "    </tr>\n",
       "  </thead>\n",
       "  <tbody>\n",
       "    <tr>\n",
       "      <th>0</th>\n",
       "      <td>2008-12-01</td>\n",
       "      <td>Albury</td>\n",
       "      <td>13.4</td>\n",
       "      <td>22.9</td>\n",
       "      <td>0.6</td>\n",
       "      <td>NaN</td>\n",
       "      <td>NaN</td>\n",
       "      <td>W</td>\n",
       "      <td>44.0</td>\n",
       "      <td>W</td>\n",
       "      <td>...</td>\n",
       "      <td>71.0</td>\n",
       "      <td>22.0</td>\n",
       "      <td>1007.7</td>\n",
       "      <td>1007.1</td>\n",
       "      <td>8.0</td>\n",
       "      <td>NaN</td>\n",
       "      <td>16.9</td>\n",
       "      <td>21.8</td>\n",
       "      <td>No</td>\n",
       "      <td>No</td>\n",
       "    </tr>\n",
       "    <tr>\n",
       "      <th>1</th>\n",
       "      <td>2008-12-02</td>\n",
       "      <td>Albury</td>\n",
       "      <td>7.4</td>\n",
       "      <td>25.1</td>\n",
       "      <td>0.0</td>\n",
       "      <td>NaN</td>\n",
       "      <td>NaN</td>\n",
       "      <td>WNW</td>\n",
       "      <td>44.0</td>\n",
       "      <td>NNW</td>\n",
       "      <td>...</td>\n",
       "      <td>44.0</td>\n",
       "      <td>25.0</td>\n",
       "      <td>1010.6</td>\n",
       "      <td>1007.8</td>\n",
       "      <td>NaN</td>\n",
       "      <td>NaN</td>\n",
       "      <td>17.2</td>\n",
       "      <td>24.3</td>\n",
       "      <td>No</td>\n",
       "      <td>No</td>\n",
       "    </tr>\n",
       "    <tr>\n",
       "      <th>2</th>\n",
       "      <td>2008-12-03</td>\n",
       "      <td>Albury</td>\n",
       "      <td>12.9</td>\n",
       "      <td>25.7</td>\n",
       "      <td>0.0</td>\n",
       "      <td>NaN</td>\n",
       "      <td>NaN</td>\n",
       "      <td>WSW</td>\n",
       "      <td>46.0</td>\n",
       "      <td>W</td>\n",
       "      <td>...</td>\n",
       "      <td>38.0</td>\n",
       "      <td>30.0</td>\n",
       "      <td>1007.6</td>\n",
       "      <td>1008.7</td>\n",
       "      <td>NaN</td>\n",
       "      <td>2.0</td>\n",
       "      <td>21.0</td>\n",
       "      <td>23.2</td>\n",
       "      <td>No</td>\n",
       "      <td>No</td>\n",
       "    </tr>\n",
       "    <tr>\n",
       "      <th>3</th>\n",
       "      <td>2008-12-04</td>\n",
       "      <td>Albury</td>\n",
       "      <td>9.2</td>\n",
       "      <td>28.0</td>\n",
       "      <td>0.0</td>\n",
       "      <td>NaN</td>\n",
       "      <td>NaN</td>\n",
       "      <td>NE</td>\n",
       "      <td>24.0</td>\n",
       "      <td>SE</td>\n",
       "      <td>...</td>\n",
       "      <td>45.0</td>\n",
       "      <td>16.0</td>\n",
       "      <td>1017.6</td>\n",
       "      <td>1012.8</td>\n",
       "      <td>NaN</td>\n",
       "      <td>NaN</td>\n",
       "      <td>18.1</td>\n",
       "      <td>26.5</td>\n",
       "      <td>No</td>\n",
       "      <td>No</td>\n",
       "    </tr>\n",
       "    <tr>\n",
       "      <th>4</th>\n",
       "      <td>2008-12-05</td>\n",
       "      <td>Albury</td>\n",
       "      <td>17.5</td>\n",
       "      <td>32.3</td>\n",
       "      <td>1.0</td>\n",
       "      <td>NaN</td>\n",
       "      <td>NaN</td>\n",
       "      <td>W</td>\n",
       "      <td>41.0</td>\n",
       "      <td>ENE</td>\n",
       "      <td>...</td>\n",
       "      <td>82.0</td>\n",
       "      <td>33.0</td>\n",
       "      <td>1010.8</td>\n",
       "      <td>1006.0</td>\n",
       "      <td>7.0</td>\n",
       "      <td>8.0</td>\n",
       "      <td>17.8</td>\n",
       "      <td>29.7</td>\n",
       "      <td>No</td>\n",
       "      <td>No</td>\n",
       "    </tr>\n",
       "  </tbody>\n",
       "</table>\n",
       "<p>5 rows × 23 columns</p>\n",
       "</div>"
      ],
      "text/plain": [
       "         Date Location  MinTemp  MaxTemp  Rainfall  Evaporation  Sunshine  \\\n",
       "0  2008-12-01   Albury     13.4     22.9       0.6          NaN       NaN   \n",
       "1  2008-12-02   Albury      7.4     25.1       0.0          NaN       NaN   \n",
       "2  2008-12-03   Albury     12.9     25.7       0.0          NaN       NaN   \n",
       "3  2008-12-04   Albury      9.2     28.0       0.0          NaN       NaN   \n",
       "4  2008-12-05   Albury     17.5     32.3       1.0          NaN       NaN   \n",
       "\n",
       "  WindGustDir  WindGustSpeed WindDir9am  ... Humidity9am  Humidity3pm  \\\n",
       "0           W           44.0          W  ...        71.0         22.0   \n",
       "1         WNW           44.0        NNW  ...        44.0         25.0   \n",
       "2         WSW           46.0          W  ...        38.0         30.0   \n",
       "3          NE           24.0         SE  ...        45.0         16.0   \n",
       "4           W           41.0        ENE  ...        82.0         33.0   \n",
       "\n",
       "   Pressure9am  Pressure3pm  Cloud9am  Cloud3pm  Temp9am  Temp3pm  RainToday  \\\n",
       "0       1007.7       1007.1       8.0       NaN     16.9     21.8         No   \n",
       "1       1010.6       1007.8       NaN       NaN     17.2     24.3         No   \n",
       "2       1007.6       1008.7       NaN       2.0     21.0     23.2         No   \n",
       "3       1017.6       1012.8       NaN       NaN     18.1     26.5         No   \n",
       "4       1010.8       1006.0       7.0       8.0     17.8     29.7         No   \n",
       "\n",
       "   RainTomorrow  \n",
       "0            No  \n",
       "1            No  \n",
       "2            No  \n",
       "3            No  \n",
       "4            No  \n",
       "\n",
       "[5 rows x 23 columns]"
      ]
     },
     "execution_count": 5,
     "metadata": {},
     "output_type": "execute_result"
    }
   ],
   "source": [
    "weather_df.head()"
   ]
  },
  {
   "cell_type": "markdown",
   "id": "ce7a89b9",
   "metadata": {},
   "source": [
    "\n",
    "## 1.2 Check the target variable (RainTomorrow)"
   ]
  },
  {
   "cell_type": "code",
   "execution_count": 6,
   "id": "d23589e1",
   "metadata": {
    "scrolled": true
   },
   "outputs": [
    {
     "data": {
      "text/plain": [
       "array(['No', 'Yes', nan], dtype=object)"
      ]
     },
     "execution_count": 6,
     "metadata": {},
     "output_type": "execute_result"
    }
   ],
   "source": [
    "# Check unique observations in the target col.\n",
    "weather_df['RainTomorrow'].unique()"
   ]
  },
  {
   "cell_type": "markdown",
   "id": "55d0fd85",
   "metadata": {},
   "source": [
    "<font color=darkblue>**This means that the target variable contains missing values.**</font>"
   ]
  },
  {
   "cell_type": "code",
   "execution_count": 7,
   "id": "6d0b385d",
   "metadata": {
    "scrolled": true
   },
   "outputs": [
    {
     "data": {
      "text/plain": [
       "3267"
      ]
     },
     "execution_count": 7,
     "metadata": {},
     "output_type": "execute_result"
    }
   ],
   "source": [
    "# Number of the missing values.\n",
    "weather_df['RainTomorrow'].isnull().sum()"
   ]
  },
  {
   "cell_type": "code",
   "execution_count": 8,
   "id": "4f230d2c",
   "metadata": {},
   "outputs": [],
   "source": [
    "# 加一个柱状图！！！！！！！！！"
   ]
  },
  {
   "cell_type": "code",
   "execution_count": 9,
   "id": "f2901c66",
   "metadata": {
    "scrolled": true
   },
   "outputs": [
    {
     "data": {
      "text/plain": [
       "2.245978275814657"
      ]
     },
     "execution_count": 9,
     "metadata": {},
     "output_type": "execute_result"
    }
   ],
   "source": [
    "# Check the percentage of missing values.\n",
    "weather_df['RainTomorrow'].isnull().mean()*100"
   ]
  },
  {
   "cell_type": "markdown",
   "id": "7bf277cb",
   "metadata": {},
   "source": [
    "<font color=darkblue>**Since it is a relatively small amount of missing value compared to the whole dataset, and it is unreasonable to fill in random values, we choose to delete rows of these missing values from the dataset.**"
   ]
  },
  {
   "cell_type": "code",
   "execution_count": 10,
   "id": "4324379d",
   "metadata": {},
   "outputs": [],
   "source": [
    "weather_df.dropna(subset=['RainTomorrow'], inplace=True)"
   ]
  },
  {
   "cell_type": "code",
   "execution_count": 11,
   "id": "117a15c1",
   "metadata": {},
   "outputs": [
    {
     "data": {
      "text/plain": [
       "0.0"
      ]
     },
     "execution_count": 11,
     "metadata": {},
     "output_type": "execute_result"
    }
   ],
   "source": [
    "# Check the percentage of missing value again.\n",
    "weather_df['RainTomorrow'].isnull().mean()*100"
   ]
  },
  {
   "cell_type": "code",
   "execution_count": 12,
   "id": "088b4ad5",
   "metadata": {},
   "outputs": [],
   "source": [
    "weather_df.reset_index(drop=True, inplace=True) # Reindex"
   ]
  },
  {
   "cell_type": "markdown",
   "id": "c397782d",
   "metadata": {},
   "source": [
    "## 1.3 Seperating Numeric and Categorical Variables"
   ]
  },
  {
   "cell_type": "code",
   "execution_count": 13,
   "id": "3878af84",
   "metadata": {
    "scrolled": true
   },
   "outputs": [],
   "source": [
    "# Select numeric variables\n",
    "numeric = []\n",
    "for cols in weather_df.columns:\n",
    "    if weather_df[cols].dtype == 'float64':\n",
    "        numeric.append(cols)"
   ]
  },
  {
   "cell_type": "code",
   "execution_count": 14,
   "id": "6334f2d0",
   "metadata": {},
   "outputs": [
    {
     "data": {
      "text/html": [
       "<div>\n",
       "<style scoped>\n",
       "    .dataframe tbody tr th:only-of-type {\n",
       "        vertical-align: middle;\n",
       "    }\n",
       "\n",
       "    .dataframe tbody tr th {\n",
       "        vertical-align: top;\n",
       "    }\n",
       "\n",
       "    .dataframe thead th {\n",
       "        text-align: right;\n",
       "    }\n",
       "</style>\n",
       "<table border=\"1\" class=\"dataframe\">\n",
       "  <thead>\n",
       "    <tr style=\"text-align: right;\">\n",
       "      <th></th>\n",
       "      <th>MinTemp</th>\n",
       "      <th>MaxTemp</th>\n",
       "      <th>Rainfall</th>\n",
       "      <th>Evaporation</th>\n",
       "      <th>Sunshine</th>\n",
       "      <th>WindGustSpeed</th>\n",
       "      <th>WindSpeed9am</th>\n",
       "      <th>WindSpeed3pm</th>\n",
       "      <th>Humidity9am</th>\n",
       "      <th>Humidity3pm</th>\n",
       "      <th>Pressure9am</th>\n",
       "      <th>Pressure3pm</th>\n",
       "      <th>Cloud9am</th>\n",
       "      <th>Cloud3pm</th>\n",
       "      <th>Temp9am</th>\n",
       "      <th>Temp3pm</th>\n",
       "    </tr>\n",
       "  </thead>\n",
       "  <tbody>\n",
       "    <tr>\n",
       "      <th>0</th>\n",
       "      <td>13.4</td>\n",
       "      <td>22.9</td>\n",
       "      <td>0.6</td>\n",
       "      <td>NaN</td>\n",
       "      <td>NaN</td>\n",
       "      <td>44.0</td>\n",
       "      <td>20.0</td>\n",
       "      <td>24.0</td>\n",
       "      <td>71.0</td>\n",
       "      <td>22.0</td>\n",
       "      <td>1007.7</td>\n",
       "      <td>1007.1</td>\n",
       "      <td>8.0</td>\n",
       "      <td>NaN</td>\n",
       "      <td>16.9</td>\n",
       "      <td>21.8</td>\n",
       "    </tr>\n",
       "    <tr>\n",
       "      <th>1</th>\n",
       "      <td>7.4</td>\n",
       "      <td>25.1</td>\n",
       "      <td>0.0</td>\n",
       "      <td>NaN</td>\n",
       "      <td>NaN</td>\n",
       "      <td>44.0</td>\n",
       "      <td>4.0</td>\n",
       "      <td>22.0</td>\n",
       "      <td>44.0</td>\n",
       "      <td>25.0</td>\n",
       "      <td>1010.6</td>\n",
       "      <td>1007.8</td>\n",
       "      <td>NaN</td>\n",
       "      <td>NaN</td>\n",
       "      <td>17.2</td>\n",
       "      <td>24.3</td>\n",
       "    </tr>\n",
       "    <tr>\n",
       "      <th>2</th>\n",
       "      <td>12.9</td>\n",
       "      <td>25.7</td>\n",
       "      <td>0.0</td>\n",
       "      <td>NaN</td>\n",
       "      <td>NaN</td>\n",
       "      <td>46.0</td>\n",
       "      <td>19.0</td>\n",
       "      <td>26.0</td>\n",
       "      <td>38.0</td>\n",
       "      <td>30.0</td>\n",
       "      <td>1007.6</td>\n",
       "      <td>1008.7</td>\n",
       "      <td>NaN</td>\n",
       "      <td>2.0</td>\n",
       "      <td>21.0</td>\n",
       "      <td>23.2</td>\n",
       "    </tr>\n",
       "    <tr>\n",
       "      <th>3</th>\n",
       "      <td>9.2</td>\n",
       "      <td>28.0</td>\n",
       "      <td>0.0</td>\n",
       "      <td>NaN</td>\n",
       "      <td>NaN</td>\n",
       "      <td>24.0</td>\n",
       "      <td>11.0</td>\n",
       "      <td>9.0</td>\n",
       "      <td>45.0</td>\n",
       "      <td>16.0</td>\n",
       "      <td>1017.6</td>\n",
       "      <td>1012.8</td>\n",
       "      <td>NaN</td>\n",
       "      <td>NaN</td>\n",
       "      <td>18.1</td>\n",
       "      <td>26.5</td>\n",
       "    </tr>\n",
       "    <tr>\n",
       "      <th>4</th>\n",
       "      <td>17.5</td>\n",
       "      <td>32.3</td>\n",
       "      <td>1.0</td>\n",
       "      <td>NaN</td>\n",
       "      <td>NaN</td>\n",
       "      <td>41.0</td>\n",
       "      <td>7.0</td>\n",
       "      <td>20.0</td>\n",
       "      <td>82.0</td>\n",
       "      <td>33.0</td>\n",
       "      <td>1010.8</td>\n",
       "      <td>1006.0</td>\n",
       "      <td>7.0</td>\n",
       "      <td>8.0</td>\n",
       "      <td>17.8</td>\n",
       "      <td>29.7</td>\n",
       "    </tr>\n",
       "  </tbody>\n",
       "</table>\n",
       "</div>"
      ],
      "text/plain": [
       "   MinTemp  MaxTemp  Rainfall  Evaporation  Sunshine  WindGustSpeed  \\\n",
       "0     13.4     22.9       0.6          NaN       NaN           44.0   \n",
       "1      7.4     25.1       0.0          NaN       NaN           44.0   \n",
       "2     12.9     25.7       0.0          NaN       NaN           46.0   \n",
       "3      9.2     28.0       0.0          NaN       NaN           24.0   \n",
       "4     17.5     32.3       1.0          NaN       NaN           41.0   \n",
       "\n",
       "   WindSpeed9am  WindSpeed3pm  Humidity9am  Humidity3pm  Pressure9am  \\\n",
       "0          20.0          24.0         71.0         22.0       1007.7   \n",
       "1           4.0          22.0         44.0         25.0       1010.6   \n",
       "2          19.0          26.0         38.0         30.0       1007.6   \n",
       "3          11.0           9.0         45.0         16.0       1017.6   \n",
       "4           7.0          20.0         82.0         33.0       1010.8   \n",
       "\n",
       "   Pressure3pm  Cloud9am  Cloud3pm  Temp9am  Temp3pm  \n",
       "0       1007.1       8.0       NaN     16.9     21.8  \n",
       "1       1007.8       NaN       NaN     17.2     24.3  \n",
       "2       1008.7       NaN       2.0     21.0     23.2  \n",
       "3       1012.8       NaN       NaN     18.1     26.5  \n",
       "4       1006.0       7.0       8.0     17.8     29.7  "
      ]
     },
     "execution_count": 14,
     "metadata": {},
     "output_type": "execute_result"
    }
   ],
   "source": [
    "# Viewing numberic variables\n",
    "weather_df[numeric].head()"
   ]
  },
  {
   "cell_type": "code",
   "execution_count": 15,
   "id": "ec03bfd7",
   "metadata": {},
   "outputs": [],
   "source": [
    "# Select Categorical variables\n",
    "categorical = []\n",
    "for cols in weather_df.columns:\n",
    "    if weather_df[cols].dtype == 'object':\n",
    "        categorical.append(cols)"
   ]
  },
  {
   "cell_type": "code",
   "execution_count": 16,
   "id": "502fcfa2",
   "metadata": {},
   "outputs": [
    {
     "data": {
      "text/html": [
       "<div>\n",
       "<style scoped>\n",
       "    .dataframe tbody tr th:only-of-type {\n",
       "        vertical-align: middle;\n",
       "    }\n",
       "\n",
       "    .dataframe tbody tr th {\n",
       "        vertical-align: top;\n",
       "    }\n",
       "\n",
       "    .dataframe thead th {\n",
       "        text-align: right;\n",
       "    }\n",
       "</style>\n",
       "<table border=\"1\" class=\"dataframe\">\n",
       "  <thead>\n",
       "    <tr style=\"text-align: right;\">\n",
       "      <th></th>\n",
       "      <th>Date</th>\n",
       "      <th>Location</th>\n",
       "      <th>WindGustDir</th>\n",
       "      <th>WindDir9am</th>\n",
       "      <th>WindDir3pm</th>\n",
       "      <th>RainToday</th>\n",
       "      <th>RainTomorrow</th>\n",
       "    </tr>\n",
       "  </thead>\n",
       "  <tbody>\n",
       "    <tr>\n",
       "      <th>0</th>\n",
       "      <td>2008-12-01</td>\n",
       "      <td>Albury</td>\n",
       "      <td>W</td>\n",
       "      <td>W</td>\n",
       "      <td>WNW</td>\n",
       "      <td>No</td>\n",
       "      <td>No</td>\n",
       "    </tr>\n",
       "    <tr>\n",
       "      <th>1</th>\n",
       "      <td>2008-12-02</td>\n",
       "      <td>Albury</td>\n",
       "      <td>WNW</td>\n",
       "      <td>NNW</td>\n",
       "      <td>WSW</td>\n",
       "      <td>No</td>\n",
       "      <td>No</td>\n",
       "    </tr>\n",
       "    <tr>\n",
       "      <th>2</th>\n",
       "      <td>2008-12-03</td>\n",
       "      <td>Albury</td>\n",
       "      <td>WSW</td>\n",
       "      <td>W</td>\n",
       "      <td>WSW</td>\n",
       "      <td>No</td>\n",
       "      <td>No</td>\n",
       "    </tr>\n",
       "    <tr>\n",
       "      <th>3</th>\n",
       "      <td>2008-12-04</td>\n",
       "      <td>Albury</td>\n",
       "      <td>NE</td>\n",
       "      <td>SE</td>\n",
       "      <td>E</td>\n",
       "      <td>No</td>\n",
       "      <td>No</td>\n",
       "    </tr>\n",
       "    <tr>\n",
       "      <th>4</th>\n",
       "      <td>2008-12-05</td>\n",
       "      <td>Albury</td>\n",
       "      <td>W</td>\n",
       "      <td>ENE</td>\n",
       "      <td>NW</td>\n",
       "      <td>No</td>\n",
       "      <td>No</td>\n",
       "    </tr>\n",
       "  </tbody>\n",
       "</table>\n",
       "</div>"
      ],
      "text/plain": [
       "         Date Location WindGustDir WindDir9am WindDir3pm RainToday  \\\n",
       "0  2008-12-01   Albury           W          W        WNW        No   \n",
       "1  2008-12-02   Albury         WNW        NNW        WSW        No   \n",
       "2  2008-12-03   Albury         WSW          W        WSW        No   \n",
       "3  2008-12-04   Albury          NE         SE          E        No   \n",
       "4  2008-12-05   Albury           W        ENE         NW        No   \n",
       "\n",
       "  RainTomorrow  \n",
       "0           No  \n",
       "1           No  \n",
       "2           No  \n",
       "3           No  \n",
       "4           No  "
      ]
     },
     "execution_count": 16,
     "metadata": {},
     "output_type": "execute_result"
    }
   ],
   "source": [
    "weather_df[categorical].head()"
   ]
  },
  {
   "cell_type": "markdown",
   "id": "6ef5fdb3",
   "metadata": {},
   "source": [
    "## 1.4 Handle Categorical Data"
   ]
  },
  {
   "cell_type": "code",
   "execution_count": 17,
   "id": "aad263fc",
   "metadata": {
    "scrolled": true
   },
   "outputs": [
    {
     "data": {
      "text/plain": [
       "Date                0\n",
       "Location            0\n",
       "WindGustDir      9330\n",
       "WindDir9am      10013\n",
       "WindDir3pm       3778\n",
       "RainToday        1406\n",
       "RainTomorrow        0\n",
       "dtype: int64"
      ]
     },
     "execution_count": 17,
     "metadata": {},
     "output_type": "execute_result"
    }
   ],
   "source": [
    "# Counting missing values of each var.\n",
    "weather_df[categorical].isnull().sum()  "
   ]
  },
  {
   "cell_type": "markdown",
   "id": "d21330d3",
   "metadata": {},
   "source": [
    "### 1.4.1 Separate 'Date' into Year, Month, Day"
   ]
  },
  {
   "cell_type": "code",
   "execution_count": 18,
   "id": "fd3656eb",
   "metadata": {
    "scrolled": true
   },
   "outputs": [],
   "source": [
    "# Convert the Date variable from string to date format.\n",
    "weather_df['Date']=pd.to_datetime(weather_df['Date'])"
   ]
  },
  {
   "cell_type": "code",
   "execution_count": 19,
   "id": "0463159c",
   "metadata": {},
   "outputs": [],
   "source": [
    "# Creating Year, Month and Day cols in weather_df\n",
    "weather_df['Year']=weather_df['Date'].dt.year\n",
    "weather_df['Month']=weather_df['Date'].dt.month\n",
    "weather_df['Day']=weather_df['Date'].dt.day"
   ]
  },
  {
   "cell_type": "code",
   "execution_count": 20,
   "id": "01086f6e",
   "metadata": {},
   "outputs": [],
   "source": [
    "# Drop the original Date variable\n",
    "weather_df.drop(columns='Date', inplace=True)"
   ]
  },
  {
   "cell_type": "code",
   "execution_count": 21,
   "id": "38ad32a8",
   "metadata": {
    "scrolled": false
   },
   "outputs": [
    {
     "data": {
      "text/html": [
       "<div>\n",
       "<style scoped>\n",
       "    .dataframe tbody tr th:only-of-type {\n",
       "        vertical-align: middle;\n",
       "    }\n",
       "\n",
       "    .dataframe tbody tr th {\n",
       "        vertical-align: top;\n",
       "    }\n",
       "\n",
       "    .dataframe thead th {\n",
       "        text-align: right;\n",
       "    }\n",
       "</style>\n",
       "<table border=\"1\" class=\"dataframe\">\n",
       "  <thead>\n",
       "    <tr style=\"text-align: right;\">\n",
       "      <th></th>\n",
       "      <th>Location</th>\n",
       "      <th>MinTemp</th>\n",
       "      <th>MaxTemp</th>\n",
       "      <th>Rainfall</th>\n",
       "      <th>Evaporation</th>\n",
       "      <th>Sunshine</th>\n",
       "      <th>WindGustDir</th>\n",
       "      <th>WindGustSpeed</th>\n",
       "      <th>WindDir9am</th>\n",
       "      <th>WindDir3pm</th>\n",
       "      <th>...</th>\n",
       "      <th>Pressure3pm</th>\n",
       "      <th>Cloud9am</th>\n",
       "      <th>Cloud3pm</th>\n",
       "      <th>Temp9am</th>\n",
       "      <th>Temp3pm</th>\n",
       "      <th>RainToday</th>\n",
       "      <th>RainTomorrow</th>\n",
       "      <th>Year</th>\n",
       "      <th>Month</th>\n",
       "      <th>Day</th>\n",
       "    </tr>\n",
       "  </thead>\n",
       "  <tbody>\n",
       "    <tr>\n",
       "      <th>0</th>\n",
       "      <td>Albury</td>\n",
       "      <td>13.4</td>\n",
       "      <td>22.9</td>\n",
       "      <td>0.6</td>\n",
       "      <td>NaN</td>\n",
       "      <td>NaN</td>\n",
       "      <td>W</td>\n",
       "      <td>44.0</td>\n",
       "      <td>W</td>\n",
       "      <td>WNW</td>\n",
       "      <td>...</td>\n",
       "      <td>1007.1</td>\n",
       "      <td>8.0</td>\n",
       "      <td>NaN</td>\n",
       "      <td>16.9</td>\n",
       "      <td>21.8</td>\n",
       "      <td>No</td>\n",
       "      <td>No</td>\n",
       "      <td>2008</td>\n",
       "      <td>12</td>\n",
       "      <td>1</td>\n",
       "    </tr>\n",
       "    <tr>\n",
       "      <th>1</th>\n",
       "      <td>Albury</td>\n",
       "      <td>7.4</td>\n",
       "      <td>25.1</td>\n",
       "      <td>0.0</td>\n",
       "      <td>NaN</td>\n",
       "      <td>NaN</td>\n",
       "      <td>WNW</td>\n",
       "      <td>44.0</td>\n",
       "      <td>NNW</td>\n",
       "      <td>WSW</td>\n",
       "      <td>...</td>\n",
       "      <td>1007.8</td>\n",
       "      <td>NaN</td>\n",
       "      <td>NaN</td>\n",
       "      <td>17.2</td>\n",
       "      <td>24.3</td>\n",
       "      <td>No</td>\n",
       "      <td>No</td>\n",
       "      <td>2008</td>\n",
       "      <td>12</td>\n",
       "      <td>2</td>\n",
       "    </tr>\n",
       "    <tr>\n",
       "      <th>2</th>\n",
       "      <td>Albury</td>\n",
       "      <td>12.9</td>\n",
       "      <td>25.7</td>\n",
       "      <td>0.0</td>\n",
       "      <td>NaN</td>\n",
       "      <td>NaN</td>\n",
       "      <td>WSW</td>\n",
       "      <td>46.0</td>\n",
       "      <td>W</td>\n",
       "      <td>WSW</td>\n",
       "      <td>...</td>\n",
       "      <td>1008.7</td>\n",
       "      <td>NaN</td>\n",
       "      <td>2.0</td>\n",
       "      <td>21.0</td>\n",
       "      <td>23.2</td>\n",
       "      <td>No</td>\n",
       "      <td>No</td>\n",
       "      <td>2008</td>\n",
       "      <td>12</td>\n",
       "      <td>3</td>\n",
       "    </tr>\n",
       "    <tr>\n",
       "      <th>3</th>\n",
       "      <td>Albury</td>\n",
       "      <td>9.2</td>\n",
       "      <td>28.0</td>\n",
       "      <td>0.0</td>\n",
       "      <td>NaN</td>\n",
       "      <td>NaN</td>\n",
       "      <td>NE</td>\n",
       "      <td>24.0</td>\n",
       "      <td>SE</td>\n",
       "      <td>E</td>\n",
       "      <td>...</td>\n",
       "      <td>1012.8</td>\n",
       "      <td>NaN</td>\n",
       "      <td>NaN</td>\n",
       "      <td>18.1</td>\n",
       "      <td>26.5</td>\n",
       "      <td>No</td>\n",
       "      <td>No</td>\n",
       "      <td>2008</td>\n",
       "      <td>12</td>\n",
       "      <td>4</td>\n",
       "    </tr>\n",
       "    <tr>\n",
       "      <th>4</th>\n",
       "      <td>Albury</td>\n",
       "      <td>17.5</td>\n",
       "      <td>32.3</td>\n",
       "      <td>1.0</td>\n",
       "      <td>NaN</td>\n",
       "      <td>NaN</td>\n",
       "      <td>W</td>\n",
       "      <td>41.0</td>\n",
       "      <td>ENE</td>\n",
       "      <td>NW</td>\n",
       "      <td>...</td>\n",
       "      <td>1006.0</td>\n",
       "      <td>7.0</td>\n",
       "      <td>8.0</td>\n",
       "      <td>17.8</td>\n",
       "      <td>29.7</td>\n",
       "      <td>No</td>\n",
       "      <td>No</td>\n",
       "      <td>2008</td>\n",
       "      <td>12</td>\n",
       "      <td>5</td>\n",
       "    </tr>\n",
       "  </tbody>\n",
       "</table>\n",
       "<p>5 rows × 25 columns</p>\n",
       "</div>"
      ],
      "text/plain": [
       "  Location  MinTemp  MaxTemp  Rainfall  Evaporation  Sunshine WindGustDir  \\\n",
       "0   Albury     13.4     22.9       0.6          NaN       NaN           W   \n",
       "1   Albury      7.4     25.1       0.0          NaN       NaN         WNW   \n",
       "2   Albury     12.9     25.7       0.0          NaN       NaN         WSW   \n",
       "3   Albury      9.2     28.0       0.0          NaN       NaN          NE   \n",
       "4   Albury     17.5     32.3       1.0          NaN       NaN           W   \n",
       "\n",
       "   WindGustSpeed WindDir9am WindDir3pm  ...  Pressure3pm  Cloud9am  Cloud3pm  \\\n",
       "0           44.0          W        WNW  ...       1007.1       8.0       NaN   \n",
       "1           44.0        NNW        WSW  ...       1007.8       NaN       NaN   \n",
       "2           46.0          W        WSW  ...       1008.7       NaN       2.0   \n",
       "3           24.0         SE          E  ...       1012.8       NaN       NaN   \n",
       "4           41.0        ENE         NW  ...       1006.0       7.0       8.0   \n",
       "\n",
       "   Temp9am  Temp3pm  RainToday  RainTomorrow  Year  Month  Day  \n",
       "0     16.9     21.8         No            No  2008     12    1  \n",
       "1     17.2     24.3         No            No  2008     12    2  \n",
       "2     21.0     23.2         No            No  2008     12    3  \n",
       "3     18.1     26.5         No            No  2008     12    4  \n",
       "4     17.8     29.7         No            No  2008     12    5  \n",
       "\n",
       "[5 rows x 25 columns]"
      ]
     },
     "execution_count": 21,
     "metadata": {},
     "output_type": "execute_result"
    }
   ],
   "source": [
    "weather_df.head()"
   ]
  },
  {
   "cell_type": "markdown",
   "id": "c74bc55b",
   "metadata": {},
   "source": [
    "### 1.4.2 Imputation of missing values in categorical data (Wind Direction & Rain Today)"
   ]
  },
  {
   "cell_type": "markdown",
   "id": "4e5c2a43",
   "metadata": {},
   "source": [
    "#### Wind Direction"
   ]
  },
  {
   "cell_type": "code",
   "execution_count": 22,
   "id": "a757ae00",
   "metadata": {},
   "outputs": [
    {
     "data": {
      "text/html": [
       "<div>\n",
       "<style scoped>\n",
       "    .dataframe tbody tr th:only-of-type {\n",
       "        vertical-align: middle;\n",
       "    }\n",
       "\n",
       "    .dataframe tbody tr th {\n",
       "        vertical-align: top;\n",
       "    }\n",
       "\n",
       "    .dataframe thead th {\n",
       "        text-align: right;\n",
       "    }\n",
       "</style>\n",
       "<table border=\"1\" class=\"dataframe\">\n",
       "  <thead>\n",
       "    <tr style=\"text-align: right;\">\n",
       "      <th></th>\n",
       "      <th>WindGustDir</th>\n",
       "      <th>WindDir9am</th>\n",
       "      <th>WindDir3pm</th>\n",
       "    </tr>\n",
       "  </thead>\n",
       "  <tbody>\n",
       "    <tr>\n",
       "      <th>0</th>\n",
       "      <td>False</td>\n",
       "      <td>False</td>\n",
       "      <td>False</td>\n",
       "    </tr>\n",
       "    <tr>\n",
       "      <th>1</th>\n",
       "      <td>False</td>\n",
       "      <td>False</td>\n",
       "      <td>False</td>\n",
       "    </tr>\n",
       "    <tr>\n",
       "      <th>2</th>\n",
       "      <td>False</td>\n",
       "      <td>False</td>\n",
       "      <td>False</td>\n",
       "    </tr>\n",
       "    <tr>\n",
       "      <th>3</th>\n",
       "      <td>False</td>\n",
       "      <td>False</td>\n",
       "      <td>False</td>\n",
       "    </tr>\n",
       "    <tr>\n",
       "      <th>4</th>\n",
       "      <td>False</td>\n",
       "      <td>False</td>\n",
       "      <td>False</td>\n",
       "    </tr>\n",
       "    <tr>\n",
       "      <th>...</th>\n",
       "      <td>...</td>\n",
       "      <td>...</td>\n",
       "      <td>...</td>\n",
       "    </tr>\n",
       "    <tr>\n",
       "      <th>142188</th>\n",
       "      <td>False</td>\n",
       "      <td>False</td>\n",
       "      <td>False</td>\n",
       "    </tr>\n",
       "    <tr>\n",
       "      <th>142189</th>\n",
       "      <td>False</td>\n",
       "      <td>False</td>\n",
       "      <td>False</td>\n",
       "    </tr>\n",
       "    <tr>\n",
       "      <th>142190</th>\n",
       "      <td>False</td>\n",
       "      <td>False</td>\n",
       "      <td>False</td>\n",
       "    </tr>\n",
       "    <tr>\n",
       "      <th>142191</th>\n",
       "      <td>False</td>\n",
       "      <td>False</td>\n",
       "      <td>False</td>\n",
       "    </tr>\n",
       "    <tr>\n",
       "      <th>142192</th>\n",
       "      <td>False</td>\n",
       "      <td>False</td>\n",
       "      <td>False</td>\n",
       "    </tr>\n",
       "  </tbody>\n",
       "</table>\n",
       "<p>142193 rows × 3 columns</p>\n",
       "</div>"
      ],
      "text/plain": [
       "        WindGustDir  WindDir9am  WindDir3pm\n",
       "0             False       False       False\n",
       "1             False       False       False\n",
       "2             False       False       False\n",
       "3             False       False       False\n",
       "4             False       False       False\n",
       "...             ...         ...         ...\n",
       "142188        False       False       False\n",
       "142189        False       False       False\n",
       "142190        False       False       False\n",
       "142191        False       False       False\n",
       "142192        False       False       False\n",
       "\n",
       "[142193 rows x 3 columns]"
      ]
     },
     "execution_count": 22,
     "metadata": {},
     "output_type": "execute_result"
    }
   ],
   "source": [
    "# Extract the three cols of Wind Direction. Then convert them to Boolean Truth Table.\n",
    "Wind_truthTable = pd.concat([pd.DataFrame(weather_df['WindGustDir'].isnull()), \n",
    "           pd.DataFrame(weather_df['WindDir9am'].isnull()), \n",
    "           pd.DataFrame(weather_df['WindDir3pm'].isnull())], axis=1)\n",
    "Wind_truthTable"
   ]
  },
  {
   "cell_type": "code",
   "execution_count": 23,
   "id": "3af3d488",
   "metadata": {},
   "outputs": [],
   "source": [
    "# Finding out the rows with more than 1 WindDir loss. (By Boolean Algebra.)\n",
    "Over_one_missing = Wind_truthTable[(Wind_truthTable['WindGustDir']==True)*(Wind_truthTable['WindDir3pm']==True) +\n",
    "                      (Wind_truthTable['WindDir3pm']==True)*(Wind_truthTable['WindDir9am']==True) +\n",
    "                      (Wind_truthTable['WindGustDir']==True)*(Wind_truthTable['WindDir9am']==True)]"
   ]
  },
  {
   "cell_type": "code",
   "execution_count": 24,
   "id": "ae3d51fa",
   "metadata": {
    "scrolled": false
   },
   "outputs": [
    {
     "data": {
      "text/plain": [
       "(4107, 3)"
      ]
     },
     "execution_count": 24,
     "metadata": {},
     "output_type": "execute_result"
    }
   ],
   "source": [
    "\n",
    "Over_one_missing.shape"
   ]
  },
  {
   "cell_type": "code",
   "execution_count": 25,
   "id": "43aa8fc6",
   "metadata": {
    "scrolled": false
   },
   "outputs": [
    {
     "data": {
      "text/html": [
       "<div>\n",
       "<style scoped>\n",
       "    .dataframe tbody tr th:only-of-type {\n",
       "        vertical-align: middle;\n",
       "    }\n",
       "\n",
       "    .dataframe tbody tr th {\n",
       "        vertical-align: top;\n",
       "    }\n",
       "\n",
       "    .dataframe thead th {\n",
       "        text-align: right;\n",
       "    }\n",
       "</style>\n",
       "<table border=\"1\" class=\"dataframe\">\n",
       "  <thead>\n",
       "    <tr style=\"text-align: right;\">\n",
       "      <th></th>\n",
       "      <th>WindGustDir</th>\n",
       "      <th>WindDir9am</th>\n",
       "      <th>WindDir3pm</th>\n",
       "    </tr>\n",
       "  </thead>\n",
       "  <tbody>\n",
       "    <tr>\n",
       "      <th>63</th>\n",
       "      <td>True</td>\n",
       "      <td>False</td>\n",
       "      <td>True</td>\n",
       "    </tr>\n",
       "    <tr>\n",
       "      <th>64</th>\n",
       "      <td>True</td>\n",
       "      <td>True</td>\n",
       "      <td>True</td>\n",
       "    </tr>\n",
       "    <tr>\n",
       "      <th>181</th>\n",
       "      <td>False</td>\n",
       "      <td>True</td>\n",
       "      <td>True</td>\n",
       "    </tr>\n",
       "    <tr>\n",
       "      <th>289</th>\n",
       "      <td>False</td>\n",
       "      <td>True</td>\n",
       "      <td>True</td>\n",
       "    </tr>\n",
       "    <tr>\n",
       "      <th>515</th>\n",
       "      <td>False</td>\n",
       "      <td>True</td>\n",
       "      <td>True</td>\n",
       "    </tr>\n",
       "    <tr>\n",
       "      <th>...</th>\n",
       "      <td>...</td>\n",
       "      <td>...</td>\n",
       "      <td>...</td>\n",
       "    </tr>\n",
       "    <tr>\n",
       "      <th>141823</th>\n",
       "      <td>True</td>\n",
       "      <td>True</td>\n",
       "      <td>True</td>\n",
       "    </tr>\n",
       "    <tr>\n",
       "      <th>141824</th>\n",
       "      <td>True</td>\n",
       "      <td>True</td>\n",
       "      <td>True</td>\n",
       "    </tr>\n",
       "    <tr>\n",
       "      <th>141825</th>\n",
       "      <td>True</td>\n",
       "      <td>True</td>\n",
       "      <td>True</td>\n",
       "    </tr>\n",
       "    <tr>\n",
       "      <th>141826</th>\n",
       "      <td>True</td>\n",
       "      <td>True</td>\n",
       "      <td>True</td>\n",
       "    </tr>\n",
       "    <tr>\n",
       "      <th>141827</th>\n",
       "      <td>True</td>\n",
       "      <td>True</td>\n",
       "      <td>True</td>\n",
       "    </tr>\n",
       "  </tbody>\n",
       "</table>\n",
       "<p>4107 rows × 3 columns</p>\n",
       "</div>"
      ],
      "text/plain": [
       "        WindGustDir  WindDir9am  WindDir3pm\n",
       "63             True       False        True\n",
       "64             True        True        True\n",
       "181           False        True        True\n",
       "289           False        True        True\n",
       "515           False        True        True\n",
       "...             ...         ...         ...\n",
       "141823         True        True        True\n",
       "141824         True        True        True\n",
       "141825         True        True        True\n",
       "141826         True        True        True\n",
       "141827         True        True        True\n",
       "\n",
       "[4107 rows x 3 columns]"
      ]
     },
     "execution_count": 25,
     "metadata": {},
     "output_type": "execute_result"
    }
   ],
   "source": [
    "Over_one_missing # True means that the correspond entry is missing. "
   ]
  },
  {
   "cell_type": "markdown",
   "id": "5ab6343a",
   "metadata": {},
   "source": [
    "<font color=darkblue>**We find that the number of rows missing two or three Wind Direction observations in the overall dataset in about 4,000, which is small compared to the entire datatset. Thus, we choose to delete these rows.**"
   ]
  },
  {
   "cell_type": "code",
   "execution_count": 26,
   "id": "4f3760ff",
   "metadata": {
    "scrolled": false
   },
   "outputs": [],
   "source": [
    "# Deleting rows with 2 or 3 missing wind data.\n",
    "weather_df.drop(Over_one_missing.index, inplace=True) "
   ]
  },
  {
   "cell_type": "code",
   "execution_count": 27,
   "id": "0bdc73f5",
   "metadata": {},
   "outputs": [],
   "source": [
    "weather_df.reset_index(drop=True, inplace=True) # Reindex"
   ]
  },
  {
   "cell_type": "markdown",
   "id": "3db7166d",
   "metadata": {},
   "source": [
    "<font color=darkblue>**Now we have a clearer dataset with maximum one missing Wind data. We will process to determine how we should deal with these missing values.**"
   ]
  },
  {
   "cell_type": "code",
   "execution_count": 28,
   "id": "2d9bc06c",
   "metadata": {
    "scrolled": true
   },
   "outputs": [
    {
     "data": {
      "text/plain": [
       "W      9762\n",
       "SE     9300\n",
       "E      9058\n",
       "N      9014\n",
       "SSE    8974\n",
       "S      8933\n",
       "WSW    8878\n",
       "SW     8776\n",
       "SSW    8595\n",
       "WNW    8044\n",
       "NW     7991\n",
       "ENE    7973\n",
       "ESE    7288\n",
       "NE     7039\n",
       "NNW    6544\n",
       "NNE    6412\n",
       "Name: WindGustDir, dtype: int64"
      ]
     },
     "execution_count": 28,
     "metadata": {},
     "output_type": "execute_result"
    }
   ],
   "source": [
    "# Check countings of different observations in WindGustDir\n",
    "weather_df.WindGustDir.value_counts() "
   ]
  },
  {
   "cell_type": "code",
   "execution_count": 29,
   "id": "ae1c26c1",
   "metadata": {
    "scrolled": false
   },
   "outputs": [
    {
     "data": {
      "text/plain": [
       "N      11306\n",
       "SE      8989\n",
       "E       8965\n",
       "SSE     8941\n",
       "S       8421\n",
       "NW      8248\n",
       "W       8182\n",
       "SW      8101\n",
       "NNE     7926\n",
       "NNW     7803\n",
       "ENE     7704\n",
       "ESE     7531\n",
       "NE      7390\n",
       "SSW     7372\n",
       "WNW     7163\n",
       "WSW     6801\n",
       "Name: WindDir9am, dtype: int64"
      ]
     },
     "execution_count": 29,
     "metadata": {},
     "output_type": "execute_result"
    }
   ],
   "source": [
    "# Check countings of different observations in WindDir9am\n",
    "weather_df.WindDir9am.value_counts() "
   ]
  },
  {
   "cell_type": "code",
   "execution_count": 30,
   "id": "9a0b0a52",
   "metadata": {
    "scrolled": false
   },
   "outputs": [
    {
     "data": {
      "text/plain": [
       "SE     10227\n",
       "W       9882\n",
       "S       9573\n",
       "WSW     9309\n",
       "SW      9127\n",
       "SSE     9123\n",
       "WNW     8638\n",
       "N       8638\n",
       "NW      8350\n",
       "ESE     8346\n",
       "E       8310\n",
       "NE      8056\n",
       "SSW     7992\n",
       "NNW     7711\n",
       "ENE     7705\n",
       "NNE     6429\n",
       "Name: WindDir3pm, dtype: int64"
      ]
     },
     "execution_count": 30,
     "metadata": {},
     "output_type": "execute_result"
    }
   ],
   "source": [
    "# Check countings of different observations in WindDir3pm\n",
    "weather_df.WindDir3pm.value_counts() "
   ]
  },
  {
   "cell_type": "code",
   "execution_count": 31,
   "id": "45958cf3",
   "metadata": {},
   "outputs": [
    {
     "data": {
      "text/plain": [
       "28053"
      ]
     },
     "execution_count": 31,
     "metadata": {},
     "output_type": "execute_result"
    }
   ],
   "source": [
    "(weather_df['WindGustDir'] == weather_df['WindDir9am']).sum()"
   ]
  },
  {
   "cell_type": "code",
   "execution_count": 32,
   "id": "16390f04",
   "metadata": {
    "scrolled": true
   },
   "outputs": [
    {
     "data": {
      "text/plain": [
       "41536"
      ]
     },
     "execution_count": 32,
     "metadata": {},
     "output_type": "execute_result"
    }
   ],
   "source": [
    "(weather_df['WindGustDir'] == weather_df['WindDir3pm']).sum()"
   ]
  },
  {
   "cell_type": "code",
   "execution_count": 33,
   "id": "07f68d56",
   "metadata": {
    "scrolled": true
   },
   "outputs": [
    {
     "data": {
      "text/plain": [
       "23235"
      ]
     },
     "execution_count": 33,
     "metadata": {},
     "output_type": "execute_result"
    }
   ],
   "source": [
    "(weather_df['WindDir9am'] == weather_df['WindDir3pm']).sum()"
   ]
  },
  {
   "cell_type": "markdown",
   "id": "e4100f19",
   "metadata": {},
   "source": [
    "<font color=darkblue>Since there are over 10,000 data missing, we cannot simply delete all of them. One of the common but easy method to deal with missing categorical variables is just filling them with the most frequently appeared observation. However, we find that the counting of different observartions are really close to each other, thus, we decided to use a more reasonable way to fill them, i.e., filling the missing wind direction by observations nearby. This filling mechanism also has reasonable meaning in practice, which is based on wind observations from each day.\n",
    "\n",
    "Based on statistics, we decided to:\n",
    "1. fill WindGustDir by WindDir3pm, and vice versa;\n",
    "2. fill WindDir9am by WindGustDir."
   ]
  },
  {
   "cell_type": "code",
   "execution_count": 34,
   "id": "36e49db8",
   "metadata": {},
   "outputs": [],
   "source": [
    "# fill na as dicussed above\n",
    "weather_df.WindGustDir=weather_df.WindGustDir.fillna(weather_df.WindDir3pm)\n",
    "weather_df.WindDir3pm=weather_df.WindDir3pm.fillna(weather_df.WindGustDir)\n",
    "weather_df.WindDir9am=weather_df.WindDir9am.fillna(weather_df.WindGustDir)"
   ]
  },
  {
   "cell_type": "code",
   "execution_count": 35,
   "id": "7be6f32e",
   "metadata": {
    "scrolled": false
   },
   "outputs": [
    {
     "data": {
      "text/plain": [
       "WindGustDir    0\n",
       "WindDir9am     0\n",
       "WindDir3pm     0\n",
       "dtype: int64"
      ]
     },
     "execution_count": 35,
     "metadata": {},
     "output_type": "execute_result"
    }
   ],
   "source": [
    "# Check number of missing values again\n",
    "weather_df[['WindGustDir', 'WindDir9am', 'WindDir3pm']].isnull().sum()"
   ]
  },
  {
   "cell_type": "markdown",
   "id": "63067361",
   "metadata": {},
   "source": [
    "<font color=darkblue>**Now we have a dataset with no missing Wind data.**"
   ]
  },
  {
   "cell_type": "markdown",
   "id": "c16afe2c",
   "metadata": {},
   "source": [
    "#### Rain Today"
   ]
  },
  {
   "cell_type": "code",
   "execution_count": 36,
   "id": "4dde2dc8",
   "metadata": {},
   "outputs": [
    {
     "data": {
      "text/plain": [
       "1282"
      ]
     },
     "execution_count": 36,
     "metadata": {},
     "output_type": "execute_result"
    }
   ],
   "source": [
    "# Check number of missing values\n",
    "weather_df['RainToday'].isnull().sum()"
   ]
  },
  {
   "cell_type": "code",
   "execution_count": 37,
   "id": "daac88fc",
   "metadata": {},
   "outputs": [
    {
     "data": {
      "text/plain": [
       "No     106350\n",
       "Yes     30454\n",
       "Name: RainToday, dtype: int64"
      ]
     },
     "execution_count": 37,
     "metadata": {},
     "output_type": "execute_result"
    }
   ],
   "source": [
    "# Show distribution of observations\n",
    "weather_df['RainToday'].value_counts()"
   ]
  },
  {
   "cell_type": "markdown",
   "id": "f07af429",
   "metadata": {},
   "source": [
    "Here, since number of 'No' observations overweigh 'Yes', we choose to fill the missing values with the most frequent observation, which is 'No'."
   ]
  },
  {
   "cell_type": "code",
   "execution_count": 38,
   "id": "111dc59a",
   "metadata": {},
   "outputs": [],
   "source": [
    "# Fill missing values with the most frequent observation, i.e. 'No'\n",
    "weather_df['RainToday'].fillna(weather_df['RainToday'].mode()[0], inplace=True)"
   ]
  },
  {
   "cell_type": "code",
   "execution_count": 39,
   "id": "d2ee1d23",
   "metadata": {
    "scrolled": true
   },
   "outputs": [
    {
     "data": {
      "text/plain": [
       "0"
      ]
     },
     "execution_count": 39,
     "metadata": {},
     "output_type": "execute_result"
    }
   ],
   "source": [
    "# Check missing values again\n",
    "weather_df['RainToday'].isnull().sum()"
   ]
  },
  {
   "cell_type": "markdown",
   "id": "7edb8ebc",
   "metadata": {},
   "source": [
    "## 1.5 Handle Numberic Data"
   ]
  },
  {
   "cell_type": "code",
   "execution_count": 40,
   "id": "a793e31d",
   "metadata": {},
   "outputs": [
    {
     "data": {
      "text/plain": [
       "MinTemp            267\n",
       "MaxTemp            127\n",
       "Rainfall          1282\n",
       "Evaporation      57888\n",
       "Sunshine         64367\n",
       "WindGustSpeed     5492\n",
       "WindSpeed9am       278\n",
       "WindSpeed3pm       203\n",
       "Humidity9am       1356\n",
       "Humidity3pm       1841\n",
       "Pressure9am      11356\n",
       "Pressure3pm      11299\n",
       "Cloud9am         52433\n",
       "Cloud3pm         54508\n",
       "Temp9am            551\n",
       "Temp3pm           1011\n",
       "dtype: int64"
      ]
     },
     "execution_count": 40,
     "metadata": {},
     "output_type": "execute_result"
    }
   ],
   "source": [
    "# check missing values of each numeric var\n",
    "weather_df[numeric].isnull().sum()"
   ]
  },
  {
   "cell_type": "code",
   "execution_count": 41,
   "id": "ac414af7",
   "metadata": {},
   "outputs": [
    {
     "data": {
      "text/html": [
       "<div>\n",
       "<style scoped>\n",
       "    .dataframe tbody tr th:only-of-type {\n",
       "        vertical-align: middle;\n",
       "    }\n",
       "\n",
       "    .dataframe tbody tr th {\n",
       "        vertical-align: top;\n",
       "    }\n",
       "\n",
       "    .dataframe thead th {\n",
       "        text-align: right;\n",
       "    }\n",
       "</style>\n",
       "<table border=\"1\" class=\"dataframe\">\n",
       "  <thead>\n",
       "    <tr style=\"text-align: right;\">\n",
       "      <th></th>\n",
       "      <th>MinTemp</th>\n",
       "      <th>MaxTemp</th>\n",
       "      <th>Rainfall</th>\n",
       "      <th>Evaporation</th>\n",
       "      <th>Sunshine</th>\n",
       "      <th>WindGustSpeed</th>\n",
       "      <th>WindSpeed9am</th>\n",
       "      <th>WindSpeed3pm</th>\n",
       "      <th>Humidity9am</th>\n",
       "      <th>Humidity3pm</th>\n",
       "      <th>Pressure9am</th>\n",
       "      <th>Pressure3pm</th>\n",
       "      <th>Cloud9am</th>\n",
       "      <th>Cloud3pm</th>\n",
       "      <th>Temp9am</th>\n",
       "      <th>Temp3pm</th>\n",
       "    </tr>\n",
       "  </thead>\n",
       "  <tbody>\n",
       "    <tr>\n",
       "      <th>count</th>\n",
       "      <td>137819.0</td>\n",
       "      <td>137959.0</td>\n",
       "      <td>136804.0</td>\n",
       "      <td>80198.0</td>\n",
       "      <td>73719.0</td>\n",
       "      <td>132594.0</td>\n",
       "      <td>137808.0</td>\n",
       "      <td>137883.0</td>\n",
       "      <td>136730.0</td>\n",
       "      <td>136245.0</td>\n",
       "      <td>126730.0</td>\n",
       "      <td>126787.0</td>\n",
       "      <td>85653.0</td>\n",
       "      <td>83578.0</td>\n",
       "      <td>137535.0</td>\n",
       "      <td>137075.0</td>\n",
       "    </tr>\n",
       "    <tr>\n",
       "      <th>mean</th>\n",
       "      <td>12.0</td>\n",
       "      <td>23.0</td>\n",
       "      <td>2.0</td>\n",
       "      <td>5.0</td>\n",
       "      <td>8.0</td>\n",
       "      <td>40.0</td>\n",
       "      <td>14.0</td>\n",
       "      <td>19.0</td>\n",
       "      <td>69.0</td>\n",
       "      <td>51.0</td>\n",
       "      <td>1018.0</td>\n",
       "      <td>1015.0</td>\n",
       "      <td>4.0</td>\n",
       "      <td>5.0</td>\n",
       "      <td>17.0</td>\n",
       "      <td>22.0</td>\n",
       "    </tr>\n",
       "    <tr>\n",
       "      <th>std</th>\n",
       "      <td>6.0</td>\n",
       "      <td>7.0</td>\n",
       "      <td>8.0</td>\n",
       "      <td>4.0</td>\n",
       "      <td>4.0</td>\n",
       "      <td>14.0</td>\n",
       "      <td>9.0</td>\n",
       "      <td>9.0</td>\n",
       "      <td>19.0</td>\n",
       "      <td>21.0</td>\n",
       "      <td>7.0</td>\n",
       "      <td>7.0</td>\n",
       "      <td>3.0</td>\n",
       "      <td>3.0</td>\n",
       "      <td>7.0</td>\n",
       "      <td>7.0</td>\n",
       "    </tr>\n",
       "    <tr>\n",
       "      <th>min</th>\n",
       "      <td>-8.0</td>\n",
       "      <td>-5.0</td>\n",
       "      <td>0.0</td>\n",
       "      <td>0.0</td>\n",
       "      <td>0.0</td>\n",
       "      <td>6.0</td>\n",
       "      <td>0.0</td>\n",
       "      <td>0.0</td>\n",
       "      <td>0.0</td>\n",
       "      <td>0.0</td>\n",
       "      <td>980.0</td>\n",
       "      <td>977.0</td>\n",
       "      <td>0.0</td>\n",
       "      <td>0.0</td>\n",
       "      <td>-7.0</td>\n",
       "      <td>-5.0</td>\n",
       "    </tr>\n",
       "    <tr>\n",
       "      <th>25%</th>\n",
       "      <td>8.0</td>\n",
       "      <td>18.0</td>\n",
       "      <td>0.0</td>\n",
       "      <td>3.0</td>\n",
       "      <td>5.0</td>\n",
       "      <td>31.0</td>\n",
       "      <td>7.0</td>\n",
       "      <td>13.0</td>\n",
       "      <td>57.0</td>\n",
       "      <td>36.0</td>\n",
       "      <td>1013.0</td>\n",
       "      <td>1010.0</td>\n",
       "      <td>1.0</td>\n",
       "      <td>2.0</td>\n",
       "      <td>12.0</td>\n",
       "      <td>17.0</td>\n",
       "    </tr>\n",
       "    <tr>\n",
       "      <th>50%</th>\n",
       "      <td>12.0</td>\n",
       "      <td>23.0</td>\n",
       "      <td>0.0</td>\n",
       "      <td>5.0</td>\n",
       "      <td>8.0</td>\n",
       "      <td>39.0</td>\n",
       "      <td>13.0</td>\n",
       "      <td>19.0</td>\n",
       "      <td>70.0</td>\n",
       "      <td>52.0</td>\n",
       "      <td>1018.0</td>\n",
       "      <td>1015.0</td>\n",
       "      <td>5.0</td>\n",
       "      <td>5.0</td>\n",
       "      <td>17.0</td>\n",
       "      <td>21.0</td>\n",
       "    </tr>\n",
       "    <tr>\n",
       "      <th>75%</th>\n",
       "      <td>17.0</td>\n",
       "      <td>28.0</td>\n",
       "      <td>1.0</td>\n",
       "      <td>7.0</td>\n",
       "      <td>11.0</td>\n",
       "      <td>48.0</td>\n",
       "      <td>19.0</td>\n",
       "      <td>24.0</td>\n",
       "      <td>83.0</td>\n",
       "      <td>65.0</td>\n",
       "      <td>1022.0</td>\n",
       "      <td>1020.0</td>\n",
       "      <td>7.0</td>\n",
       "      <td>7.0</td>\n",
       "      <td>22.0</td>\n",
       "      <td>26.0</td>\n",
       "    </tr>\n",
       "    <tr>\n",
       "      <th>max</th>\n",
       "      <td>34.0</td>\n",
       "      <td>48.0</td>\n",
       "      <td>371.0</td>\n",
       "      <td>86.0</td>\n",
       "      <td>14.0</td>\n",
       "      <td>135.0</td>\n",
       "      <td>87.0</td>\n",
       "      <td>87.0</td>\n",
       "      <td>100.0</td>\n",
       "      <td>100.0</td>\n",
       "      <td>1041.0</td>\n",
       "      <td>1040.0</td>\n",
       "      <td>9.0</td>\n",
       "      <td>9.0</td>\n",
       "      <td>40.0</td>\n",
       "      <td>47.0</td>\n",
       "    </tr>\n",
       "  </tbody>\n",
       "</table>\n",
       "</div>"
      ],
      "text/plain": [
       "        MinTemp   MaxTemp  Rainfall  Evaporation  Sunshine  WindGustSpeed  \\\n",
       "count  137819.0  137959.0  136804.0      80198.0   73719.0       132594.0   \n",
       "mean       12.0      23.0       2.0          5.0       8.0           40.0   \n",
       "std         6.0       7.0       8.0          4.0       4.0           14.0   \n",
       "min        -8.0      -5.0       0.0          0.0       0.0            6.0   \n",
       "25%         8.0      18.0       0.0          3.0       5.0           31.0   \n",
       "50%        12.0      23.0       0.0          5.0       8.0           39.0   \n",
       "75%        17.0      28.0       1.0          7.0      11.0           48.0   \n",
       "max        34.0      48.0     371.0         86.0      14.0          135.0   \n",
       "\n",
       "       WindSpeed9am  WindSpeed3pm  Humidity9am  Humidity3pm  Pressure9am  \\\n",
       "count      137808.0      137883.0     136730.0     136245.0     126730.0   \n",
       "mean           14.0          19.0         69.0         51.0       1018.0   \n",
       "std             9.0           9.0         19.0         21.0          7.0   \n",
       "min             0.0           0.0          0.0          0.0        980.0   \n",
       "25%             7.0          13.0         57.0         36.0       1013.0   \n",
       "50%            13.0          19.0         70.0         52.0       1018.0   \n",
       "75%            19.0          24.0         83.0         65.0       1022.0   \n",
       "max            87.0          87.0        100.0        100.0       1041.0   \n",
       "\n",
       "       Pressure3pm  Cloud9am  Cloud3pm   Temp9am   Temp3pm  \n",
       "count     126787.0   85653.0   83578.0  137535.0  137075.0  \n",
       "mean        1015.0       4.0       5.0      17.0      22.0  \n",
       "std            7.0       3.0       3.0       7.0       7.0  \n",
       "min          977.0       0.0       0.0      -7.0      -5.0  \n",
       "25%         1010.0       1.0       2.0      12.0      17.0  \n",
       "50%         1015.0       5.0       5.0      17.0      21.0  \n",
       "75%         1020.0       7.0       7.0      22.0      26.0  \n",
       "max         1040.0       9.0       9.0      40.0      47.0  "
      ]
     },
     "execution_count": 41,
     "metadata": {},
     "output_type": "execute_result"
    }
   ],
   "source": [
    "# check the distribution of each numeric var\n",
    "round(weather_df[numeric].describe())"
   ]
  },
  {
   "cell_type": "code",
   "execution_count": 42,
   "id": "4de2ab34",
   "metadata": {},
   "outputs": [],
   "source": [
    "# 画个长长的box plot"
   ]
  },
  {
   "cell_type": "markdown",
   "id": "7108ef99",
   "metadata": {},
   "source": [
    "### 1.5.1 Imputation of Missing Numerical Values"
   ]
  },
  {
   "cell_type": "code",
   "execution_count": 43,
   "id": "fc930524",
   "metadata": {},
   "outputs": [],
   "source": [
    "# median imputation\n",
    "for col in numeric:\n",
    "    weather_df[col].fillna(weather_df[col].median(), inplace=True)"
   ]
  },
  {
   "cell_type": "code",
   "execution_count": 44,
   "id": "04c807b6",
   "metadata": {},
   "outputs": [
    {
     "data": {
      "text/plain": [
       "MinTemp          0\n",
       "MaxTemp          0\n",
       "Rainfall         0\n",
       "Evaporation      0\n",
       "Sunshine         0\n",
       "WindGustSpeed    0\n",
       "WindSpeed9am     0\n",
       "WindSpeed3pm     0\n",
       "Humidity9am      0\n",
       "Humidity3pm      0\n",
       "Pressure9am      0\n",
       "Pressure3pm      0\n",
       "Cloud9am         0\n",
       "Cloud3pm         0\n",
       "Temp9am          0\n",
       "Temp3pm          0\n",
       "dtype: int64"
      ]
     },
     "execution_count": 44,
     "metadata": {},
     "output_type": "execute_result"
    }
   ],
   "source": [
    "# check missing value after imputation\n",
    "weather_df[numeric].isnull().sum()"
   ]
  },
  {
   "cell_type": "markdown",
   "id": "58361ee2",
   "metadata": {},
   "source": [
    "### 1.5.2 Process Outliers of Numerical Values"
   ]
  },
  {
   "cell_type": "code",
   "execution_count": 45,
   "id": "5916dc0d",
   "metadata": {},
   "outputs": [],
   "source": [
    "# 画五个的分布图"
   ]
  },
  {
   "cell_type": "code",
   "execution_count": 46,
   "id": "103fc321",
   "metadata": {},
   "outputs": [
    {
     "name": "stdout",
     "output_type": "stream",
     "text": [
      "Rainfall outliers are values < -1.7999999999999998 or > 2.4\n",
      "Evaporation outliers are values < -0.20000000000000107 or > 9.600000000000001\n",
      "WindGustSpeed outliers are values < -14.0 or > 91.0\n",
      "WindSpeed9am outliers are values < -29.0 or > 55.0\n",
      "WindSpeed3pm outliers are values < -20.0 or > 57.0\n"
     ]
    }
   ],
   "source": [
    "# find outlier boundaries\n",
    "colms=['Rainfall', 'Evaporation', 'WindGustSpeed', 'WindSpeed9am', 'WindSpeed3pm']\n",
    "for col in colms:\n",
    "    IQR = weather_df[col].quantile(0.75) - weather_df[col].quantile(0.25)\n",
    "    Lower = weather_df[col].quantile(0.25) - (IQR * 3)\n",
    "    Upper = weather_df[col].quantile(0.75) + (IQR * 3)\n",
    "    print(col+' outliers are values < {lowerboundary} or > {upperboundary}'.\n",
    "          format(lowerboundary=Lower, upperboundary=Upper))"
   ]
  },
  {
   "cell_type": "code",
   "execution_count": 47,
   "id": "93422783",
   "metadata": {},
   "outputs": [],
   "source": [
    "# replace outliers with boundary values\n",
    "weather_df['Rainfall']=np.where(weather_df['Rainfall']>2.4, 2.4, weather_df['Rainfall'])\n",
    "weather_df['Evaporation']=np.where(weather_df['Evaporation']>9.6, 9.6, weather_df['Evaporation'])\n",
    "weather_df['WindGustSpeed']=np.where(weather_df['WindGustSpeed']>91, 91, weather_df['WindGustSpeed'])\n",
    "weather_df['WindSpeed9am']=np.where(weather_df['WindSpeed9am']>55, 55, weather_df['WindSpeed9am'])\n",
    "weather_df['WindSpeed3pm']=np.where(weather_df['WindSpeed3pm']>57, 57, weather_df['WindSpeed3pm'])"
   ]
  },
  {
   "cell_type": "code",
   "execution_count": 48,
   "id": "8166bbd3",
   "metadata": {},
   "outputs": [
    {
     "data": {
      "text/plain": [
       "Rainfall          2.4\n",
       "Evaporation       9.6\n",
       "WindGustSpeed    91.0\n",
       "WindSpeed9am     55.0\n",
       "WindSpeed3pm     57.0\n",
       "dtype: float64"
      ]
     },
     "execution_count": 48,
     "metadata": {},
     "output_type": "execute_result"
    }
   ],
   "source": [
    "# check values after replacement\n",
    "weather_df[colms].max()"
   ]
  },
  {
   "cell_type": "markdown",
   "id": "4434a6e1",
   "metadata": {},
   "source": [
    "## 1.6 Declare Predictors and Target"
   ]
  },
  {
   "cell_type": "code",
   "execution_count": 49,
   "id": "66a98d19",
   "metadata": {},
   "outputs": [],
   "source": [
    "X=weather_df.drop(columns=['RainTomorrow'])\n",
    "y=weather_df['RainTomorrow']\n",
    "y=pd.DataFrame(y)"
   ]
  },
  {
   "cell_type": "markdown",
   "id": "edfa5ad4",
   "metadata": {},
   "source": [
    "## 1.7 Split Train and Test set"
   ]
  },
  {
   "cell_type": "code",
   "execution_count": 50,
   "id": "1b029da4",
   "metadata": {},
   "outputs": [
    {
     "data": {
      "text/html": [
       "<div>\n",
       "<style scoped>\n",
       "    .dataframe tbody tr th:only-of-type {\n",
       "        vertical-align: middle;\n",
       "    }\n",
       "\n",
       "    .dataframe tbody tr th {\n",
       "        vertical-align: top;\n",
       "    }\n",
       "\n",
       "    .dataframe thead th {\n",
       "        text-align: right;\n",
       "    }\n",
       "</style>\n",
       "<table border=\"1\" class=\"dataframe\">\n",
       "  <thead>\n",
       "    <tr style=\"text-align: right;\">\n",
       "      <th></th>\n",
       "      <th>Location</th>\n",
       "      <th>MinTemp</th>\n",
       "      <th>MaxTemp</th>\n",
       "      <th>Rainfall</th>\n",
       "      <th>Evaporation</th>\n",
       "      <th>Sunshine</th>\n",
       "      <th>WindGustDir</th>\n",
       "      <th>WindGustSpeed</th>\n",
       "      <th>WindDir9am</th>\n",
       "      <th>WindDir3pm</th>\n",
       "      <th>...</th>\n",
       "      <th>Pressure9am</th>\n",
       "      <th>Pressure3pm</th>\n",
       "      <th>Cloud9am</th>\n",
       "      <th>Cloud3pm</th>\n",
       "      <th>Temp9am</th>\n",
       "      <th>Temp3pm</th>\n",
       "      <th>RainToday</th>\n",
       "      <th>Year</th>\n",
       "      <th>Month</th>\n",
       "      <th>Day</th>\n",
       "    </tr>\n",
       "  </thead>\n",
       "  <tbody>\n",
       "    <tr>\n",
       "      <th>0</th>\n",
       "      <td>Albury</td>\n",
       "      <td>13.4</td>\n",
       "      <td>22.9</td>\n",
       "      <td>0.6</td>\n",
       "      <td>4.8</td>\n",
       "      <td>8.5</td>\n",
       "      <td>W</td>\n",
       "      <td>44.0</td>\n",
       "      <td>W</td>\n",
       "      <td>WNW</td>\n",
       "      <td>...</td>\n",
       "      <td>1007.7</td>\n",
       "      <td>1007.1</td>\n",
       "      <td>8.0</td>\n",
       "      <td>5.0</td>\n",
       "      <td>16.9</td>\n",
       "      <td>21.8</td>\n",
       "      <td>No</td>\n",
       "      <td>2008</td>\n",
       "      <td>12</td>\n",
       "      <td>1</td>\n",
       "    </tr>\n",
       "    <tr>\n",
       "      <th>1</th>\n",
       "      <td>Albury</td>\n",
       "      <td>7.4</td>\n",
       "      <td>25.1</td>\n",
       "      <td>0.0</td>\n",
       "      <td>4.8</td>\n",
       "      <td>8.5</td>\n",
       "      <td>WNW</td>\n",
       "      <td>44.0</td>\n",
       "      <td>NNW</td>\n",
       "      <td>WSW</td>\n",
       "      <td>...</td>\n",
       "      <td>1010.6</td>\n",
       "      <td>1007.8</td>\n",
       "      <td>5.0</td>\n",
       "      <td>5.0</td>\n",
       "      <td>17.2</td>\n",
       "      <td>24.3</td>\n",
       "      <td>No</td>\n",
       "      <td>2008</td>\n",
       "      <td>12</td>\n",
       "      <td>2</td>\n",
       "    </tr>\n",
       "    <tr>\n",
       "      <th>2</th>\n",
       "      <td>Albury</td>\n",
       "      <td>12.9</td>\n",
       "      <td>25.7</td>\n",
       "      <td>0.0</td>\n",
       "      <td>4.8</td>\n",
       "      <td>8.5</td>\n",
       "      <td>WSW</td>\n",
       "      <td>46.0</td>\n",
       "      <td>W</td>\n",
       "      <td>WSW</td>\n",
       "      <td>...</td>\n",
       "      <td>1007.6</td>\n",
       "      <td>1008.7</td>\n",
       "      <td>5.0</td>\n",
       "      <td>2.0</td>\n",
       "      <td>21.0</td>\n",
       "      <td>23.2</td>\n",
       "      <td>No</td>\n",
       "      <td>2008</td>\n",
       "      <td>12</td>\n",
       "      <td>3</td>\n",
       "    </tr>\n",
       "    <tr>\n",
       "      <th>3</th>\n",
       "      <td>Albury</td>\n",
       "      <td>9.2</td>\n",
       "      <td>28.0</td>\n",
       "      <td>0.0</td>\n",
       "      <td>4.8</td>\n",
       "      <td>8.5</td>\n",
       "      <td>NE</td>\n",
       "      <td>24.0</td>\n",
       "      <td>SE</td>\n",
       "      <td>E</td>\n",
       "      <td>...</td>\n",
       "      <td>1017.6</td>\n",
       "      <td>1012.8</td>\n",
       "      <td>5.0</td>\n",
       "      <td>5.0</td>\n",
       "      <td>18.1</td>\n",
       "      <td>26.5</td>\n",
       "      <td>No</td>\n",
       "      <td>2008</td>\n",
       "      <td>12</td>\n",
       "      <td>4</td>\n",
       "    </tr>\n",
       "    <tr>\n",
       "      <th>4</th>\n",
       "      <td>Albury</td>\n",
       "      <td>17.5</td>\n",
       "      <td>32.3</td>\n",
       "      <td>1.0</td>\n",
       "      <td>4.8</td>\n",
       "      <td>8.5</td>\n",
       "      <td>W</td>\n",
       "      <td>41.0</td>\n",
       "      <td>ENE</td>\n",
       "      <td>NW</td>\n",
       "      <td>...</td>\n",
       "      <td>1010.8</td>\n",
       "      <td>1006.0</td>\n",
       "      <td>7.0</td>\n",
       "      <td>8.0</td>\n",
       "      <td>17.8</td>\n",
       "      <td>29.7</td>\n",
       "      <td>No</td>\n",
       "      <td>2008</td>\n",
       "      <td>12</td>\n",
       "      <td>5</td>\n",
       "    </tr>\n",
       "    <tr>\n",
       "      <th>...</th>\n",
       "      <td>...</td>\n",
       "      <td>...</td>\n",
       "      <td>...</td>\n",
       "      <td>...</td>\n",
       "      <td>...</td>\n",
       "      <td>...</td>\n",
       "      <td>...</td>\n",
       "      <td>...</td>\n",
       "      <td>...</td>\n",
       "      <td>...</td>\n",
       "      <td>...</td>\n",
       "      <td>...</td>\n",
       "      <td>...</td>\n",
       "      <td>...</td>\n",
       "      <td>...</td>\n",
       "      <td>...</td>\n",
       "      <td>...</td>\n",
       "      <td>...</td>\n",
       "      <td>...</td>\n",
       "      <td>...</td>\n",
       "      <td>...</td>\n",
       "    </tr>\n",
       "    <tr>\n",
       "      <th>138081</th>\n",
       "      <td>Uluru</td>\n",
       "      <td>3.5</td>\n",
       "      <td>21.8</td>\n",
       "      <td>0.0</td>\n",
       "      <td>4.8</td>\n",
       "      <td>8.5</td>\n",
       "      <td>E</td>\n",
       "      <td>31.0</td>\n",
       "      <td>ESE</td>\n",
       "      <td>E</td>\n",
       "      <td>...</td>\n",
       "      <td>1024.7</td>\n",
       "      <td>1021.2</td>\n",
       "      <td>5.0</td>\n",
       "      <td>5.0</td>\n",
       "      <td>9.4</td>\n",
       "      <td>20.9</td>\n",
       "      <td>No</td>\n",
       "      <td>2017</td>\n",
       "      <td>6</td>\n",
       "      <td>20</td>\n",
       "    </tr>\n",
       "    <tr>\n",
       "      <th>138082</th>\n",
       "      <td>Uluru</td>\n",
       "      <td>2.8</td>\n",
       "      <td>23.4</td>\n",
       "      <td>0.0</td>\n",
       "      <td>4.8</td>\n",
       "      <td>8.5</td>\n",
       "      <td>E</td>\n",
       "      <td>31.0</td>\n",
       "      <td>SE</td>\n",
       "      <td>ENE</td>\n",
       "      <td>...</td>\n",
       "      <td>1024.6</td>\n",
       "      <td>1020.3</td>\n",
       "      <td>5.0</td>\n",
       "      <td>5.0</td>\n",
       "      <td>10.1</td>\n",
       "      <td>22.4</td>\n",
       "      <td>No</td>\n",
       "      <td>2017</td>\n",
       "      <td>6</td>\n",
       "      <td>21</td>\n",
       "    </tr>\n",
       "    <tr>\n",
       "      <th>138083</th>\n",
       "      <td>Uluru</td>\n",
       "      <td>3.6</td>\n",
       "      <td>25.3</td>\n",
       "      <td>0.0</td>\n",
       "      <td>4.8</td>\n",
       "      <td>8.5</td>\n",
       "      <td>NNW</td>\n",
       "      <td>22.0</td>\n",
       "      <td>SE</td>\n",
       "      <td>N</td>\n",
       "      <td>...</td>\n",
       "      <td>1023.5</td>\n",
       "      <td>1019.1</td>\n",
       "      <td>5.0</td>\n",
       "      <td>5.0</td>\n",
       "      <td>10.9</td>\n",
       "      <td>24.5</td>\n",
       "      <td>No</td>\n",
       "      <td>2017</td>\n",
       "      <td>6</td>\n",
       "      <td>22</td>\n",
       "    </tr>\n",
       "    <tr>\n",
       "      <th>138084</th>\n",
       "      <td>Uluru</td>\n",
       "      <td>5.4</td>\n",
       "      <td>26.9</td>\n",
       "      <td>0.0</td>\n",
       "      <td>4.8</td>\n",
       "      <td>8.5</td>\n",
       "      <td>N</td>\n",
       "      <td>37.0</td>\n",
       "      <td>SE</td>\n",
       "      <td>WNW</td>\n",
       "      <td>...</td>\n",
       "      <td>1021.0</td>\n",
       "      <td>1016.8</td>\n",
       "      <td>5.0</td>\n",
       "      <td>5.0</td>\n",
       "      <td>12.5</td>\n",
       "      <td>26.1</td>\n",
       "      <td>No</td>\n",
       "      <td>2017</td>\n",
       "      <td>6</td>\n",
       "      <td>23</td>\n",
       "    </tr>\n",
       "    <tr>\n",
       "      <th>138085</th>\n",
       "      <td>Uluru</td>\n",
       "      <td>7.8</td>\n",
       "      <td>27.0</td>\n",
       "      <td>0.0</td>\n",
       "      <td>4.8</td>\n",
       "      <td>8.5</td>\n",
       "      <td>SE</td>\n",
       "      <td>28.0</td>\n",
       "      <td>SSE</td>\n",
       "      <td>N</td>\n",
       "      <td>...</td>\n",
       "      <td>1019.4</td>\n",
       "      <td>1016.5</td>\n",
       "      <td>3.0</td>\n",
       "      <td>2.0</td>\n",
       "      <td>15.1</td>\n",
       "      <td>26.0</td>\n",
       "      <td>No</td>\n",
       "      <td>2017</td>\n",
       "      <td>6</td>\n",
       "      <td>24</td>\n",
       "    </tr>\n",
       "  </tbody>\n",
       "</table>\n",
       "<p>138086 rows × 24 columns</p>\n",
       "</div>"
      ],
      "text/plain": [
       "       Location  MinTemp  MaxTemp  Rainfall  Evaporation  Sunshine  \\\n",
       "0        Albury     13.4     22.9       0.6          4.8       8.5   \n",
       "1        Albury      7.4     25.1       0.0          4.8       8.5   \n",
       "2        Albury     12.9     25.7       0.0          4.8       8.5   \n",
       "3        Albury      9.2     28.0       0.0          4.8       8.5   \n",
       "4        Albury     17.5     32.3       1.0          4.8       8.5   \n",
       "...         ...      ...      ...       ...          ...       ...   \n",
       "138081    Uluru      3.5     21.8       0.0          4.8       8.5   \n",
       "138082    Uluru      2.8     23.4       0.0          4.8       8.5   \n",
       "138083    Uluru      3.6     25.3       0.0          4.8       8.5   \n",
       "138084    Uluru      5.4     26.9       0.0          4.8       8.5   \n",
       "138085    Uluru      7.8     27.0       0.0          4.8       8.5   \n",
       "\n",
       "       WindGustDir  WindGustSpeed WindDir9am WindDir3pm  ...  Pressure9am  \\\n",
       "0                W           44.0          W        WNW  ...       1007.7   \n",
       "1              WNW           44.0        NNW        WSW  ...       1010.6   \n",
       "2              WSW           46.0          W        WSW  ...       1007.6   \n",
       "3               NE           24.0         SE          E  ...       1017.6   \n",
       "4                W           41.0        ENE         NW  ...       1010.8   \n",
       "...            ...            ...        ...        ...  ...          ...   \n",
       "138081           E           31.0        ESE          E  ...       1024.7   \n",
       "138082           E           31.0         SE        ENE  ...       1024.6   \n",
       "138083         NNW           22.0         SE          N  ...       1023.5   \n",
       "138084           N           37.0         SE        WNW  ...       1021.0   \n",
       "138085          SE           28.0        SSE          N  ...       1019.4   \n",
       "\n",
       "        Pressure3pm  Cloud9am  Cloud3pm  Temp9am  Temp3pm  RainToday  Year  \\\n",
       "0            1007.1       8.0       5.0     16.9     21.8         No  2008   \n",
       "1            1007.8       5.0       5.0     17.2     24.3         No  2008   \n",
       "2            1008.7       5.0       2.0     21.0     23.2         No  2008   \n",
       "3            1012.8       5.0       5.0     18.1     26.5         No  2008   \n",
       "4            1006.0       7.0       8.0     17.8     29.7         No  2008   \n",
       "...             ...       ...       ...      ...      ...        ...   ...   \n",
       "138081       1021.2       5.0       5.0      9.4     20.9         No  2017   \n",
       "138082       1020.3       5.0       5.0     10.1     22.4         No  2017   \n",
       "138083       1019.1       5.0       5.0     10.9     24.5         No  2017   \n",
       "138084       1016.8       5.0       5.0     12.5     26.1         No  2017   \n",
       "138085       1016.5       3.0       2.0     15.1     26.0         No  2017   \n",
       "\n",
       "        Month  Day  \n",
       "0          12    1  \n",
       "1          12    2  \n",
       "2          12    3  \n",
       "3          12    4  \n",
       "4          12    5  \n",
       "...       ...  ...  \n",
       "138081      6   20  \n",
       "138082      6   21  \n",
       "138083      6   22  \n",
       "138084      6   23  \n",
       "138085      6   24  \n",
       "\n",
       "[138086 rows x 24 columns]"
      ]
     },
     "execution_count": 50,
     "metadata": {},
     "output_type": "execute_result"
    }
   ],
   "source": [
    "X"
   ]
  },
  {
   "cell_type": "code",
   "execution_count": 51,
   "id": "092cd4f4",
   "metadata": {},
   "outputs": [
    {
     "data": {
      "text/plain": [
       "RainTomorrow\n",
       "No              107282\n",
       "Yes              30804\n",
       "dtype: int64"
      ]
     },
     "execution_count": 51,
     "metadata": {},
     "output_type": "execute_result"
    }
   ],
   "source": [
    "y.value_counts()"
   ]
  },
  {
   "cell_type": "code",
   "execution_count": 52,
   "id": "723d16f4",
   "metadata": {},
   "outputs": [],
   "source": [
    "from sklearn.model_selection import train_test_split\n",
    "X_train,X_test,y_train,y_test=train_test_split(X,y,test_size=0.2,random_state=0)"
   ]
  },
  {
   "cell_type": "code",
   "execution_count": 53,
   "id": "26eee7be",
   "metadata": {},
   "outputs": [
    {
     "data": {
      "text/html": [
       "<div>\n",
       "<style scoped>\n",
       "    .dataframe tbody tr th:only-of-type {\n",
       "        vertical-align: middle;\n",
       "    }\n",
       "\n",
       "    .dataframe tbody tr th {\n",
       "        vertical-align: top;\n",
       "    }\n",
       "\n",
       "    .dataframe thead th {\n",
       "        text-align: right;\n",
       "    }\n",
       "</style>\n",
       "<table border=\"1\" class=\"dataframe\">\n",
       "  <thead>\n",
       "    <tr style=\"text-align: right;\">\n",
       "      <th></th>\n",
       "      <th>Location</th>\n",
       "      <th>MinTemp</th>\n",
       "      <th>MaxTemp</th>\n",
       "      <th>Rainfall</th>\n",
       "      <th>Evaporation</th>\n",
       "      <th>Sunshine</th>\n",
       "      <th>WindGustDir</th>\n",
       "      <th>WindGustSpeed</th>\n",
       "      <th>WindDir9am</th>\n",
       "      <th>WindDir3pm</th>\n",
       "      <th>...</th>\n",
       "      <th>Pressure9am</th>\n",
       "      <th>Pressure3pm</th>\n",
       "      <th>Cloud9am</th>\n",
       "      <th>Cloud3pm</th>\n",
       "      <th>Temp9am</th>\n",
       "      <th>Temp3pm</th>\n",
       "      <th>RainToday</th>\n",
       "      <th>Year</th>\n",
       "      <th>Month</th>\n",
       "      <th>Day</th>\n",
       "    </tr>\n",
       "  </thead>\n",
       "  <tbody>\n",
       "    <tr>\n",
       "      <th>28679</th>\n",
       "      <td>Sydney</td>\n",
       "      <td>8.1</td>\n",
       "      <td>21.0</td>\n",
       "      <td>0.0</td>\n",
       "      <td>3.6</td>\n",
       "      <td>9.7</td>\n",
       "      <td>N</td>\n",
       "      <td>35.0</td>\n",
       "      <td>WNW</td>\n",
       "      <td>N</td>\n",
       "      <td>...</td>\n",
       "      <td>1026.5</td>\n",
       "      <td>1021.5</td>\n",
       "      <td>1.0</td>\n",
       "      <td>0.0</td>\n",
       "      <td>9.8</td>\n",
       "      <td>20.4</td>\n",
       "      <td>No</td>\n",
       "      <td>2012</td>\n",
       "      <td>7</td>\n",
       "      <td>17</td>\n",
       "    </tr>\n",
       "    <tr>\n",
       "      <th>62152</th>\n",
       "      <td>MelbourneAirport</td>\n",
       "      <td>4.9</td>\n",
       "      <td>15.5</td>\n",
       "      <td>0.0</td>\n",
       "      <td>4.2</td>\n",
       "      <td>6.4</td>\n",
       "      <td>N</td>\n",
       "      <td>78.0</td>\n",
       "      <td>N</td>\n",
       "      <td>N</td>\n",
       "      <td>...</td>\n",
       "      <td>1026.8</td>\n",
       "      <td>1021.0</td>\n",
       "      <td>7.0</td>\n",
       "      <td>7.0</td>\n",
       "      <td>10.2</td>\n",
       "      <td>14.3</td>\n",
       "      <td>No</td>\n",
       "      <td>2015</td>\n",
       "      <td>7</td>\n",
       "      <td>21</td>\n",
       "    </tr>\n",
       "    <tr>\n",
       "      <th>51331</th>\n",
       "      <td>Ballarat</td>\n",
       "      <td>3.0</td>\n",
       "      <td>16.3</td>\n",
       "      <td>0.2</td>\n",
       "      <td>4.8</td>\n",
       "      <td>8.5</td>\n",
       "      <td>N</td>\n",
       "      <td>44.0</td>\n",
       "      <td>N</td>\n",
       "      <td>N</td>\n",
       "      <td>...</td>\n",
       "      <td>1025.1</td>\n",
       "      <td>1021.9</td>\n",
       "      <td>8.0</td>\n",
       "      <td>5.0</td>\n",
       "      <td>9.3</td>\n",
       "      <td>15.9</td>\n",
       "      <td>No</td>\n",
       "      <td>2010</td>\n",
       "      <td>5</td>\n",
       "      <td>1</td>\n",
       "    </tr>\n",
       "    <tr>\n",
       "      <th>16793</th>\n",
       "      <td>NorahHead</td>\n",
       "      <td>21.6</td>\n",
       "      <td>28.8</td>\n",
       "      <td>0.0</td>\n",
       "      <td>4.8</td>\n",
       "      <td>8.5</td>\n",
       "      <td>NE</td>\n",
       "      <td>43.0</td>\n",
       "      <td>S</td>\n",
       "      <td>NE</td>\n",
       "      <td>...</td>\n",
       "      <td>1012.3</td>\n",
       "      <td>1008.1</td>\n",
       "      <td>5.0</td>\n",
       "      <td>5.0</td>\n",
       "      <td>23.2</td>\n",
       "      <td>24.7</td>\n",
       "      <td>No</td>\n",
       "      <td>2013</td>\n",
       "      <td>1</td>\n",
       "      <td>17</td>\n",
       "    </tr>\n",
       "    <tr>\n",
       "      <th>34394</th>\n",
       "      <td>WaggaWagga</td>\n",
       "      <td>9.1</td>\n",
       "      <td>19.0</td>\n",
       "      <td>0.0</td>\n",
       "      <td>4.8</td>\n",
       "      <td>6.4</td>\n",
       "      <td>SW</td>\n",
       "      <td>48.0</td>\n",
       "      <td>WNW</td>\n",
       "      <td>W</td>\n",
       "      <td>...</td>\n",
       "      <td>1010.2</td>\n",
       "      <td>1008.7</td>\n",
       "      <td>6.0</td>\n",
       "      <td>5.0</td>\n",
       "      <td>13.3</td>\n",
       "      <td>18.1</td>\n",
       "      <td>No</td>\n",
       "      <td>2011</td>\n",
       "      <td>10</td>\n",
       "      <td>9</td>\n",
       "    </tr>\n",
       "    <tr>\n",
       "      <th>...</th>\n",
       "      <td>...</td>\n",
       "      <td>...</td>\n",
       "      <td>...</td>\n",
       "      <td>...</td>\n",
       "      <td>...</td>\n",
       "      <td>...</td>\n",
       "      <td>...</td>\n",
       "      <td>...</td>\n",
       "      <td>...</td>\n",
       "      <td>...</td>\n",
       "      <td>...</td>\n",
       "      <td>...</td>\n",
       "      <td>...</td>\n",
       "      <td>...</td>\n",
       "      <td>...</td>\n",
       "      <td>...</td>\n",
       "      <td>...</td>\n",
       "      <td>...</td>\n",
       "      <td>...</td>\n",
       "      <td>...</td>\n",
       "      <td>...</td>\n",
       "    </tr>\n",
       "    <tr>\n",
       "      <th>41993</th>\n",
       "      <td>Canberra</td>\n",
       "      <td>16.0</td>\n",
       "      <td>23.8</td>\n",
       "      <td>2.2</td>\n",
       "      <td>5.4</td>\n",
       "      <td>6.2</td>\n",
       "      <td>SSE</td>\n",
       "      <td>30.0</td>\n",
       "      <td>SE</td>\n",
       "      <td>ESE</td>\n",
       "      <td>...</td>\n",
       "      <td>1018.9</td>\n",
       "      <td>1017.1</td>\n",
       "      <td>8.0</td>\n",
       "      <td>7.0</td>\n",
       "      <td>16.5</td>\n",
       "      <td>22.9</td>\n",
       "      <td>Yes</td>\n",
       "      <td>2008</td>\n",
       "      <td>2</td>\n",
       "      <td>1</td>\n",
       "    </tr>\n",
       "    <tr>\n",
       "      <th>97639</th>\n",
       "      <td>Nuriootpa</td>\n",
       "      <td>6.8</td>\n",
       "      <td>14.3</td>\n",
       "      <td>0.4</td>\n",
       "      <td>4.4</td>\n",
       "      <td>1.7</td>\n",
       "      <td>WSW</td>\n",
       "      <td>33.0</td>\n",
       "      <td>WNW</td>\n",
       "      <td>WSW</td>\n",
       "      <td>...</td>\n",
       "      <td>1021.5</td>\n",
       "      <td>1020.4</td>\n",
       "      <td>8.0</td>\n",
       "      <td>8.0</td>\n",
       "      <td>8.8</td>\n",
       "      <td>12.4</td>\n",
       "      <td>No</td>\n",
       "      <td>2010</td>\n",
       "      <td>10</td>\n",
       "      <td>17</td>\n",
       "    </tr>\n",
       "    <tr>\n",
       "      <th>95939</th>\n",
       "      <td>MountGambier</td>\n",
       "      <td>0.9</td>\n",
       "      <td>11.3</td>\n",
       "      <td>0.0</td>\n",
       "      <td>1.4</td>\n",
       "      <td>1.5</td>\n",
       "      <td>NE</td>\n",
       "      <td>28.0</td>\n",
       "      <td>NE</td>\n",
       "      <td>ENE</td>\n",
       "      <td>...</td>\n",
       "      <td>1021.6</td>\n",
       "      <td>1017.2</td>\n",
       "      <td>7.0</td>\n",
       "      <td>7.0</td>\n",
       "      <td>4.4</td>\n",
       "      <td>10.4</td>\n",
       "      <td>No</td>\n",
       "      <td>2014</td>\n",
       "      <td>7</td>\n",
       "      <td>23</td>\n",
       "    </tr>\n",
       "    <tr>\n",
       "      <th>117952</th>\n",
       "      <td>SalmonGums</td>\n",
       "      <td>17.7</td>\n",
       "      <td>36.5</td>\n",
       "      <td>0.0</td>\n",
       "      <td>4.8</td>\n",
       "      <td>8.5</td>\n",
       "      <td>NNW</td>\n",
       "      <td>48.0</td>\n",
       "      <td>NNE</td>\n",
       "      <td>ENE</td>\n",
       "      <td>...</td>\n",
       "      <td>1017.6</td>\n",
       "      <td>1015.2</td>\n",
       "      <td>5.0</td>\n",
       "      <td>5.0</td>\n",
       "      <td>26.4</td>\n",
       "      <td>35.7</td>\n",
       "      <td>No</td>\n",
       "      <td>2012</td>\n",
       "      <td>1</td>\n",
       "      <td>21</td>\n",
       "    </tr>\n",
       "    <tr>\n",
       "      <th>43567</th>\n",
       "      <td>Canberra</td>\n",
       "      <td>5.8</td>\n",
       "      <td>26.9</td>\n",
       "      <td>0.0</td>\n",
       "      <td>4.8</td>\n",
       "      <td>8.5</td>\n",
       "      <td>NNW</td>\n",
       "      <td>35.0</td>\n",
       "      <td>NNW</td>\n",
       "      <td>NW</td>\n",
       "      <td>...</td>\n",
       "      <td>1017.6</td>\n",
       "      <td>1011.3</td>\n",
       "      <td>5.0</td>\n",
       "      <td>5.0</td>\n",
       "      <td>16.7</td>\n",
       "      <td>25.4</td>\n",
       "      <td>No</td>\n",
       "      <td>2013</td>\n",
       "      <td>4</td>\n",
       "      <td>14</td>\n",
       "    </tr>\n",
       "  </tbody>\n",
       "</table>\n",
       "<p>110468 rows × 24 columns</p>\n",
       "</div>"
      ],
      "text/plain": [
       "                Location  MinTemp  MaxTemp  Rainfall  Evaporation  Sunshine  \\\n",
       "28679             Sydney      8.1     21.0       0.0          3.6       9.7   \n",
       "62152   MelbourneAirport      4.9     15.5       0.0          4.2       6.4   \n",
       "51331           Ballarat      3.0     16.3       0.2          4.8       8.5   \n",
       "16793          NorahHead     21.6     28.8       0.0          4.8       8.5   \n",
       "34394         WaggaWagga      9.1     19.0       0.0          4.8       6.4   \n",
       "...                  ...      ...      ...       ...          ...       ...   \n",
       "41993           Canberra     16.0     23.8       2.2          5.4       6.2   \n",
       "97639          Nuriootpa      6.8     14.3       0.4          4.4       1.7   \n",
       "95939       MountGambier      0.9     11.3       0.0          1.4       1.5   \n",
       "117952        SalmonGums     17.7     36.5       0.0          4.8       8.5   \n",
       "43567           Canberra      5.8     26.9       0.0          4.8       8.5   \n",
       "\n",
       "       WindGustDir  WindGustSpeed WindDir9am WindDir3pm  ...  Pressure9am  \\\n",
       "28679            N           35.0        WNW          N  ...       1026.5   \n",
       "62152            N           78.0          N          N  ...       1026.8   \n",
       "51331            N           44.0          N          N  ...       1025.1   \n",
       "16793           NE           43.0          S         NE  ...       1012.3   \n",
       "34394           SW           48.0        WNW          W  ...       1010.2   \n",
       "...            ...            ...        ...        ...  ...          ...   \n",
       "41993          SSE           30.0         SE        ESE  ...       1018.9   \n",
       "97639          WSW           33.0        WNW        WSW  ...       1021.5   \n",
       "95939           NE           28.0         NE        ENE  ...       1021.6   \n",
       "117952         NNW           48.0        NNE        ENE  ...       1017.6   \n",
       "43567          NNW           35.0        NNW         NW  ...       1017.6   \n",
       "\n",
       "        Pressure3pm  Cloud9am  Cloud3pm  Temp9am  Temp3pm  RainToday  Year  \\\n",
       "28679        1021.5       1.0       0.0      9.8     20.4         No  2012   \n",
       "62152        1021.0       7.0       7.0     10.2     14.3         No  2015   \n",
       "51331        1021.9       8.0       5.0      9.3     15.9         No  2010   \n",
       "16793        1008.1       5.0       5.0     23.2     24.7         No  2013   \n",
       "34394        1008.7       6.0       5.0     13.3     18.1         No  2011   \n",
       "...             ...       ...       ...      ...      ...        ...   ...   \n",
       "41993        1017.1       8.0       7.0     16.5     22.9        Yes  2008   \n",
       "97639        1020.4       8.0       8.0      8.8     12.4         No  2010   \n",
       "95939        1017.2       7.0       7.0      4.4     10.4         No  2014   \n",
       "117952       1015.2       5.0       5.0     26.4     35.7         No  2012   \n",
       "43567        1011.3       5.0       5.0     16.7     25.4         No  2013   \n",
       "\n",
       "        Month  Day  \n",
       "28679       7   17  \n",
       "62152       7   21  \n",
       "51331       5    1  \n",
       "16793       1   17  \n",
       "34394      10    9  \n",
       "...       ...  ...  \n",
       "41993       2    1  \n",
       "97639      10   17  \n",
       "95939       7   23  \n",
       "117952      1   21  \n",
       "43567       4   14  \n",
       "\n",
       "[110468 rows x 24 columns]"
      ]
     },
     "execution_count": 53,
     "metadata": {},
     "output_type": "execute_result"
    }
   ],
   "source": [
    "X_train"
   ]
  },
  {
   "cell_type": "code",
   "execution_count": 54,
   "id": "960d3f67",
   "metadata": {},
   "outputs": [],
   "source": [
    "#reindex train and test sets\n",
    "X_train.reset_index(drop=True,inplace=True)\n",
    "X_test.reset_index(drop=True,inplace=True)\n",
    "y_train.reset_index(drop=True,inplace=True)\n",
    "y_test.reset_index(drop=True,inplace=True)"
   ]
  },
  {
   "cell_type": "markdown",
   "id": "bdb5eae0",
   "metadata": {},
   "source": [
    "## 4.1 One Hot Encoding of Categorical Variables"
   ]
  },
  {
   "cell_type": "code",
   "execution_count": 55,
   "id": "7953e393",
   "metadata": {},
   "outputs": [
    {
     "data": {
      "text/html": [
       "<div>\n",
       "<style scoped>\n",
       "    .dataframe tbody tr th:only-of-type {\n",
       "        vertical-align: middle;\n",
       "    }\n",
       "\n",
       "    .dataframe tbody tr th {\n",
       "        vertical-align: top;\n",
       "    }\n",
       "\n",
       "    .dataframe thead th {\n",
       "        text-align: right;\n",
       "    }\n",
       "</style>\n",
       "<table border=\"1\" class=\"dataframe\">\n",
       "  <thead>\n",
       "    <tr style=\"text-align: right;\">\n",
       "      <th></th>\n",
       "      <th>No</th>\n",
       "      <th>Yes</th>\n",
       "    </tr>\n",
       "  </thead>\n",
       "  <tbody>\n",
       "    <tr>\n",
       "      <th>0</th>\n",
       "      <td>1</td>\n",
       "      <td>0</td>\n",
       "    </tr>\n",
       "    <tr>\n",
       "      <th>1</th>\n",
       "      <td>1</td>\n",
       "      <td>0</td>\n",
       "    </tr>\n",
       "    <tr>\n",
       "      <th>2</th>\n",
       "      <td>1</td>\n",
       "      <td>0</td>\n",
       "    </tr>\n",
       "    <tr>\n",
       "      <th>3</th>\n",
       "      <td>1</td>\n",
       "      <td>0</td>\n",
       "    </tr>\n",
       "    <tr>\n",
       "      <th>4</th>\n",
       "      <td>1</td>\n",
       "      <td>0</td>\n",
       "    </tr>\n",
       "  </tbody>\n",
       "</table>\n",
       "</div>"
      ],
      "text/plain": [
       "   No  Yes\n",
       "0   1    0\n",
       "1   1    0\n",
       "2   1    0\n",
       "3   1    0\n",
       "4   1    0"
      ]
     },
     "execution_count": 55,
     "metadata": {},
     "output_type": "execute_result"
    }
   ],
   "source": [
    "# RainToday\n",
    "pd.get_dummies(weather_df.RainToday).head()\n",
    "# This is just an illustration of the result of One Hot Encoding."
   ]
  },
  {
   "cell_type": "code",
   "execution_count": 56,
   "id": "30d8f2fc",
   "metadata": {},
   "outputs": [
    {
     "data": {
      "text/html": [
       "<div>\n",
       "<style scoped>\n",
       "    .dataframe tbody tr th:only-of-type {\n",
       "        vertical-align: middle;\n",
       "    }\n",
       "\n",
       "    .dataframe tbody tr th {\n",
       "        vertical-align: top;\n",
       "    }\n",
       "\n",
       "    .dataframe thead th {\n",
       "        text-align: right;\n",
       "    }\n",
       "</style>\n",
       "<table border=\"1\" class=\"dataframe\">\n",
       "  <thead>\n",
       "    <tr style=\"text-align: right;\">\n",
       "      <th></th>\n",
       "      <th>RainToday_No</th>\n",
       "      <th>RainToday_Yes</th>\n",
       "      <th>WindDir3pm_E</th>\n",
       "      <th>WindDir3pm_ENE</th>\n",
       "      <th>WindDir3pm_ESE</th>\n",
       "      <th>WindDir3pm_N</th>\n",
       "      <th>WindDir3pm_NE</th>\n",
       "      <th>WindDir3pm_NNE</th>\n",
       "      <th>WindDir3pm_NNW</th>\n",
       "      <th>WindDir3pm_NW</th>\n",
       "      <th>...</th>\n",
       "      <th>Humidity3pm</th>\n",
       "      <th>Pressure9am</th>\n",
       "      <th>Pressure3pm</th>\n",
       "      <th>Cloud9am</th>\n",
       "      <th>Cloud3pm</th>\n",
       "      <th>Temp9am</th>\n",
       "      <th>Temp3pm</th>\n",
       "      <th>Year</th>\n",
       "      <th>Month</th>\n",
       "      <th>Day</th>\n",
       "    </tr>\n",
       "  </thead>\n",
       "  <tbody>\n",
       "    <tr>\n",
       "      <th>0</th>\n",
       "      <td>1.0</td>\n",
       "      <td>0.0</td>\n",
       "      <td>0.0</td>\n",
       "      <td>0.0</td>\n",
       "      <td>0.0</td>\n",
       "      <td>1.0</td>\n",
       "      <td>0.0</td>\n",
       "      <td>0.0</td>\n",
       "      <td>0.0</td>\n",
       "      <td>0.0</td>\n",
       "      <td>...</td>\n",
       "      <td>34.0</td>\n",
       "      <td>1026.5</td>\n",
       "      <td>1021.5</td>\n",
       "      <td>1.0</td>\n",
       "      <td>0.0</td>\n",
       "      <td>9.8</td>\n",
       "      <td>20.4</td>\n",
       "      <td>2012</td>\n",
       "      <td>7</td>\n",
       "      <td>17</td>\n",
       "    </tr>\n",
       "    <tr>\n",
       "      <th>1</th>\n",
       "      <td>1.0</td>\n",
       "      <td>0.0</td>\n",
       "      <td>0.0</td>\n",
       "      <td>0.0</td>\n",
       "      <td>0.0</td>\n",
       "      <td>1.0</td>\n",
       "      <td>0.0</td>\n",
       "      <td>0.0</td>\n",
       "      <td>0.0</td>\n",
       "      <td>0.0</td>\n",
       "      <td>...</td>\n",
       "      <td>54.0</td>\n",
       "      <td>1026.8</td>\n",
       "      <td>1021.0</td>\n",
       "      <td>7.0</td>\n",
       "      <td>7.0</td>\n",
       "      <td>10.2</td>\n",
       "      <td>14.3</td>\n",
       "      <td>2015</td>\n",
       "      <td>7</td>\n",
       "      <td>21</td>\n",
       "    </tr>\n",
       "    <tr>\n",
       "      <th>2</th>\n",
       "      <td>1.0</td>\n",
       "      <td>0.0</td>\n",
       "      <td>0.0</td>\n",
       "      <td>0.0</td>\n",
       "      <td>0.0</td>\n",
       "      <td>1.0</td>\n",
       "      <td>0.0</td>\n",
       "      <td>0.0</td>\n",
       "      <td>0.0</td>\n",
       "      <td>0.0</td>\n",
       "      <td>...</td>\n",
       "      <td>66.0</td>\n",
       "      <td>1025.1</td>\n",
       "      <td>1021.9</td>\n",
       "      <td>8.0</td>\n",
       "      <td>5.0</td>\n",
       "      <td>9.3</td>\n",
       "      <td>15.9</td>\n",
       "      <td>2010</td>\n",
       "      <td>5</td>\n",
       "      <td>1</td>\n",
       "    </tr>\n",
       "    <tr>\n",
       "      <th>3</th>\n",
       "      <td>1.0</td>\n",
       "      <td>0.0</td>\n",
       "      <td>0.0</td>\n",
       "      <td>0.0</td>\n",
       "      <td>0.0</td>\n",
       "      <td>0.0</td>\n",
       "      <td>1.0</td>\n",
       "      <td>0.0</td>\n",
       "      <td>0.0</td>\n",
       "      <td>0.0</td>\n",
       "      <td>...</td>\n",
       "      <td>77.0</td>\n",
       "      <td>1012.3</td>\n",
       "      <td>1008.1</td>\n",
       "      <td>5.0</td>\n",
       "      <td>5.0</td>\n",
       "      <td>23.2</td>\n",
       "      <td>24.7</td>\n",
       "      <td>2013</td>\n",
       "      <td>1</td>\n",
       "      <td>17</td>\n",
       "    </tr>\n",
       "    <tr>\n",
       "      <th>4</th>\n",
       "      <td>1.0</td>\n",
       "      <td>0.0</td>\n",
       "      <td>0.0</td>\n",
       "      <td>0.0</td>\n",
       "      <td>0.0</td>\n",
       "      <td>0.0</td>\n",
       "      <td>0.0</td>\n",
       "      <td>0.0</td>\n",
       "      <td>0.0</td>\n",
       "      <td>0.0</td>\n",
       "      <td>...</td>\n",
       "      <td>51.0</td>\n",
       "      <td>1010.2</td>\n",
       "      <td>1008.7</td>\n",
       "      <td>6.0</td>\n",
       "      <td>5.0</td>\n",
       "      <td>13.3</td>\n",
       "      <td>18.1</td>\n",
       "      <td>2011</td>\n",
       "      <td>10</td>\n",
       "      <td>9</td>\n",
       "    </tr>\n",
       "    <tr>\n",
       "      <th>...</th>\n",
       "      <td>...</td>\n",
       "      <td>...</td>\n",
       "      <td>...</td>\n",
       "      <td>...</td>\n",
       "      <td>...</td>\n",
       "      <td>...</td>\n",
       "      <td>...</td>\n",
       "      <td>...</td>\n",
       "      <td>...</td>\n",
       "      <td>...</td>\n",
       "      <td>...</td>\n",
       "      <td>...</td>\n",
       "      <td>...</td>\n",
       "      <td>...</td>\n",
       "      <td>...</td>\n",
       "      <td>...</td>\n",
       "      <td>...</td>\n",
       "      <td>...</td>\n",
       "      <td>...</td>\n",
       "      <td>...</td>\n",
       "      <td>...</td>\n",
       "    </tr>\n",
       "    <tr>\n",
       "      <th>110463</th>\n",
       "      <td>0.0</td>\n",
       "      <td>1.0</td>\n",
       "      <td>0.0</td>\n",
       "      <td>0.0</td>\n",
       "      <td>1.0</td>\n",
       "      <td>0.0</td>\n",
       "      <td>0.0</td>\n",
       "      <td>0.0</td>\n",
       "      <td>0.0</td>\n",
       "      <td>0.0</td>\n",
       "      <td>...</td>\n",
       "      <td>49.0</td>\n",
       "      <td>1018.9</td>\n",
       "      <td>1017.1</td>\n",
       "      <td>8.0</td>\n",
       "      <td>7.0</td>\n",
       "      <td>16.5</td>\n",
       "      <td>22.9</td>\n",
       "      <td>2008</td>\n",
       "      <td>2</td>\n",
       "      <td>1</td>\n",
       "    </tr>\n",
       "    <tr>\n",
       "      <th>110464</th>\n",
       "      <td>1.0</td>\n",
       "      <td>0.0</td>\n",
       "      <td>0.0</td>\n",
       "      <td>0.0</td>\n",
       "      <td>0.0</td>\n",
       "      <td>0.0</td>\n",
       "      <td>0.0</td>\n",
       "      <td>0.0</td>\n",
       "      <td>0.0</td>\n",
       "      <td>0.0</td>\n",
       "      <td>...</td>\n",
       "      <td>72.0</td>\n",
       "      <td>1021.5</td>\n",
       "      <td>1020.4</td>\n",
       "      <td>8.0</td>\n",
       "      <td>8.0</td>\n",
       "      <td>8.8</td>\n",
       "      <td>12.4</td>\n",
       "      <td>2010</td>\n",
       "      <td>10</td>\n",
       "      <td>17</td>\n",
       "    </tr>\n",
       "    <tr>\n",
       "      <th>110465</th>\n",
       "      <td>1.0</td>\n",
       "      <td>0.0</td>\n",
       "      <td>0.0</td>\n",
       "      <td>1.0</td>\n",
       "      <td>0.0</td>\n",
       "      <td>0.0</td>\n",
       "      <td>0.0</td>\n",
       "      <td>0.0</td>\n",
       "      <td>0.0</td>\n",
       "      <td>0.0</td>\n",
       "      <td>...</td>\n",
       "      <td>69.0</td>\n",
       "      <td>1021.6</td>\n",
       "      <td>1017.2</td>\n",
       "      <td>7.0</td>\n",
       "      <td>7.0</td>\n",
       "      <td>4.4</td>\n",
       "      <td>10.4</td>\n",
       "      <td>2014</td>\n",
       "      <td>7</td>\n",
       "      <td>23</td>\n",
       "    </tr>\n",
       "    <tr>\n",
       "      <th>110466</th>\n",
       "      <td>1.0</td>\n",
       "      <td>0.0</td>\n",
       "      <td>0.0</td>\n",
       "      <td>1.0</td>\n",
       "      <td>0.0</td>\n",
       "      <td>0.0</td>\n",
       "      <td>0.0</td>\n",
       "      <td>0.0</td>\n",
       "      <td>0.0</td>\n",
       "      <td>0.0</td>\n",
       "      <td>...</td>\n",
       "      <td>17.0</td>\n",
       "      <td>1017.6</td>\n",
       "      <td>1015.2</td>\n",
       "      <td>5.0</td>\n",
       "      <td>5.0</td>\n",
       "      <td>26.4</td>\n",
       "      <td>35.7</td>\n",
       "      <td>2012</td>\n",
       "      <td>1</td>\n",
       "      <td>21</td>\n",
       "    </tr>\n",
       "    <tr>\n",
       "      <th>110467</th>\n",
       "      <td>1.0</td>\n",
       "      <td>0.0</td>\n",
       "      <td>0.0</td>\n",
       "      <td>0.0</td>\n",
       "      <td>0.0</td>\n",
       "      <td>0.0</td>\n",
       "      <td>0.0</td>\n",
       "      <td>0.0</td>\n",
       "      <td>0.0</td>\n",
       "      <td>1.0</td>\n",
       "      <td>...</td>\n",
       "      <td>23.0</td>\n",
       "      <td>1017.6</td>\n",
       "      <td>1011.3</td>\n",
       "      <td>5.0</td>\n",
       "      <td>5.0</td>\n",
       "      <td>16.7</td>\n",
       "      <td>25.4</td>\n",
       "      <td>2013</td>\n",
       "      <td>4</td>\n",
       "      <td>14</td>\n",
       "    </tr>\n",
       "  </tbody>\n",
       "</table>\n",
       "<p>110468 rows × 118 columns</p>\n",
       "</div>"
      ],
      "text/plain": [
       "        RainToday_No  RainToday_Yes  WindDir3pm_E  WindDir3pm_ENE  \\\n",
       "0                1.0            0.0           0.0             0.0   \n",
       "1                1.0            0.0           0.0             0.0   \n",
       "2                1.0            0.0           0.0             0.0   \n",
       "3                1.0            0.0           0.0             0.0   \n",
       "4                1.0            0.0           0.0             0.0   \n",
       "...              ...            ...           ...             ...   \n",
       "110463           0.0            1.0           0.0             0.0   \n",
       "110464           1.0            0.0           0.0             0.0   \n",
       "110465           1.0            0.0           0.0             1.0   \n",
       "110466           1.0            0.0           0.0             1.0   \n",
       "110467           1.0            0.0           0.0             0.0   \n",
       "\n",
       "        WindDir3pm_ESE  WindDir3pm_N  WindDir3pm_NE  WindDir3pm_NNE  \\\n",
       "0                  0.0           1.0            0.0             0.0   \n",
       "1                  0.0           1.0            0.0             0.0   \n",
       "2                  0.0           1.0            0.0             0.0   \n",
       "3                  0.0           0.0            1.0             0.0   \n",
       "4                  0.0           0.0            0.0             0.0   \n",
       "...                ...           ...            ...             ...   \n",
       "110463             1.0           0.0            0.0             0.0   \n",
       "110464             0.0           0.0            0.0             0.0   \n",
       "110465             0.0           0.0            0.0             0.0   \n",
       "110466             0.0           0.0            0.0             0.0   \n",
       "110467             0.0           0.0            0.0             0.0   \n",
       "\n",
       "        WindDir3pm_NNW  WindDir3pm_NW  ...  Humidity3pm  Pressure9am  \\\n",
       "0                  0.0            0.0  ...         34.0       1026.5   \n",
       "1                  0.0            0.0  ...         54.0       1026.8   \n",
       "2                  0.0            0.0  ...         66.0       1025.1   \n",
       "3                  0.0            0.0  ...         77.0       1012.3   \n",
       "4                  0.0            0.0  ...         51.0       1010.2   \n",
       "...                ...            ...  ...          ...          ...   \n",
       "110463             0.0            0.0  ...         49.0       1018.9   \n",
       "110464             0.0            0.0  ...         72.0       1021.5   \n",
       "110465             0.0            0.0  ...         69.0       1021.6   \n",
       "110466             0.0            0.0  ...         17.0       1017.6   \n",
       "110467             0.0            1.0  ...         23.0       1017.6   \n",
       "\n",
       "        Pressure3pm  Cloud9am  Cloud3pm  Temp9am  Temp3pm  Year  Month  Day  \n",
       "0            1021.5       1.0       0.0      9.8     20.4  2012      7   17  \n",
       "1            1021.0       7.0       7.0     10.2     14.3  2015      7   21  \n",
       "2            1021.9       8.0       5.0      9.3     15.9  2010      5    1  \n",
       "3            1008.1       5.0       5.0     23.2     24.7  2013      1   17  \n",
       "4            1008.7       6.0       5.0     13.3     18.1  2011     10    9  \n",
       "...             ...       ...       ...      ...      ...   ...    ...  ...  \n",
       "110463       1017.1       8.0       7.0     16.5     22.9  2008      2    1  \n",
       "110464       1020.4       8.0       8.0      8.8     12.4  2010     10   17  \n",
       "110465       1017.2       7.0       7.0      4.4     10.4  2014      7   23  \n",
       "110466       1015.2       5.0       5.0     26.4     35.7  2012      1   21  \n",
       "110467       1011.3       5.0       5.0     16.7     25.4  2013      4   14  \n",
       "\n",
       "[110468 rows x 118 columns]"
      ]
     },
     "execution_count": 56,
     "metadata": {},
     "output_type": "execute_result"
    }
   ],
   "source": [
    "from sklearn.preprocessing import OneHotEncoder\n",
    "\n",
    "encoder=OneHotEncoder(sparse=False)\n",
    "\n",
    "var_list = ['Location','WindGustDir','WindDir9am','WindDir3pm','RainToday']\n",
    "\n",
    "# One hot encode X_train\n",
    "for var in var_list:\n",
    "    X_train_encoded = pd.DataFrame(encoder.fit_transform(X_train[[var]]))\n",
    "    X_train_encoded.columns = encoder.get_feature_names([var])\n",
    "    X_train.drop([var] ,axis=1, inplace=True)\n",
    "    X_train=pd.concat([X_train_encoded, X_train], axis=1)\n",
    "    \n",
    "X_train"
   ]
  },
  {
   "cell_type": "code",
   "execution_count": 57,
   "id": "9968b927",
   "metadata": {},
   "outputs": [],
   "source": [
    "# One hot encode X_test\n",
    "for var in var_list:\n",
    "    X_test_encoded = pd.DataFrame(encoder.fit_transform(X_test[[var]]))\n",
    "    X_test_encoded.columns = encoder.get_feature_names([var])   \n",
    "    X_test.drop([var] ,axis=1, inplace=True)\n",
    "    X_test=pd.concat([X_test_encoded, X_test], axis=1)"
   ]
  },
  {
   "cell_type": "code",
   "execution_count": 58,
   "id": "771a2c0e",
   "metadata": {},
   "outputs": [
    {
     "data": {
      "text/html": [
       "<div>\n",
       "<style scoped>\n",
       "    .dataframe tbody tr th:only-of-type {\n",
       "        vertical-align: middle;\n",
       "    }\n",
       "\n",
       "    .dataframe tbody tr th {\n",
       "        vertical-align: top;\n",
       "    }\n",
       "\n",
       "    .dataframe thead th {\n",
       "        text-align: right;\n",
       "    }\n",
       "</style>\n",
       "<table border=\"1\" class=\"dataframe\">\n",
       "  <thead>\n",
       "    <tr style=\"text-align: right;\">\n",
       "      <th></th>\n",
       "      <th>RainToday_No</th>\n",
       "      <th>RainToday_Yes</th>\n",
       "      <th>WindDir3pm_E</th>\n",
       "      <th>WindDir3pm_ENE</th>\n",
       "      <th>WindDir3pm_ESE</th>\n",
       "      <th>WindDir3pm_N</th>\n",
       "      <th>WindDir3pm_NE</th>\n",
       "      <th>WindDir3pm_NNE</th>\n",
       "      <th>WindDir3pm_NNW</th>\n",
       "      <th>WindDir3pm_NW</th>\n",
       "      <th>...</th>\n",
       "      <th>Humidity3pm</th>\n",
       "      <th>Pressure9am</th>\n",
       "      <th>Pressure3pm</th>\n",
       "      <th>Cloud9am</th>\n",
       "      <th>Cloud3pm</th>\n",
       "      <th>Temp9am</th>\n",
       "      <th>Temp3pm</th>\n",
       "      <th>Year</th>\n",
       "      <th>Month</th>\n",
       "      <th>Day</th>\n",
       "    </tr>\n",
       "  </thead>\n",
       "  <tbody>\n",
       "    <tr>\n",
       "      <th>0</th>\n",
       "      <td>1.0</td>\n",
       "      <td>0.0</td>\n",
       "      <td>0.0</td>\n",
       "      <td>0.0</td>\n",
       "      <td>0.0</td>\n",
       "      <td>0.0</td>\n",
       "      <td>0.0</td>\n",
       "      <td>0.0</td>\n",
       "      <td>0.0</td>\n",
       "      <td>0.0</td>\n",
       "      <td>...</td>\n",
       "      <td>42.0</td>\n",
       "      <td>1024.7</td>\n",
       "      <td>1020.8</td>\n",
       "      <td>0.0</td>\n",
       "      <td>0.0</td>\n",
       "      <td>16.0</td>\n",
       "      <td>23.5</td>\n",
       "      <td>2016</td>\n",
       "      <td>5</td>\n",
       "      <td>11</td>\n",
       "    </tr>\n",
       "    <tr>\n",
       "      <th>1</th>\n",
       "      <td>1.0</td>\n",
       "      <td>0.0</td>\n",
       "      <td>0.0</td>\n",
       "      <td>0.0</td>\n",
       "      <td>0.0</td>\n",
       "      <td>0.0</td>\n",
       "      <td>0.0</td>\n",
       "      <td>0.0</td>\n",
       "      <td>0.0</td>\n",
       "      <td>0.0</td>\n",
       "      <td>...</td>\n",
       "      <td>20.0</td>\n",
       "      <td>1010.5</td>\n",
       "      <td>1010.9</td>\n",
       "      <td>1.0</td>\n",
       "      <td>7.0</td>\n",
       "      <td>27.3</td>\n",
       "      <td>28.7</td>\n",
       "      <td>2015</td>\n",
       "      <td>12</td>\n",
       "      <td>11</td>\n",
       "    </tr>\n",
       "    <tr>\n",
       "      <th>2</th>\n",
       "      <td>1.0</td>\n",
       "      <td>0.0</td>\n",
       "      <td>0.0</td>\n",
       "      <td>0.0</td>\n",
       "      <td>0.0</td>\n",
       "      <td>0.0</td>\n",
       "      <td>0.0</td>\n",
       "      <td>0.0</td>\n",
       "      <td>0.0</td>\n",
       "      <td>0.0</td>\n",
       "      <td>...</td>\n",
       "      <td>69.0</td>\n",
       "      <td>1023.9</td>\n",
       "      <td>1022.9</td>\n",
       "      <td>5.0</td>\n",
       "      <td>5.0</td>\n",
       "      <td>13.6</td>\n",
       "      <td>17.9</td>\n",
       "      <td>2014</td>\n",
       "      <td>4</td>\n",
       "      <td>2</td>\n",
       "    </tr>\n",
       "    <tr>\n",
       "      <th>3</th>\n",
       "      <td>1.0</td>\n",
       "      <td>0.0</td>\n",
       "      <td>0.0</td>\n",
       "      <td>0.0</td>\n",
       "      <td>0.0</td>\n",
       "      <td>0.0</td>\n",
       "      <td>0.0</td>\n",
       "      <td>0.0</td>\n",
       "      <td>0.0</td>\n",
       "      <td>0.0</td>\n",
       "      <td>...</td>\n",
       "      <td>34.0</td>\n",
       "      <td>1026.3</td>\n",
       "      <td>1022.0</td>\n",
       "      <td>5.0</td>\n",
       "      <td>5.0</td>\n",
       "      <td>15.2</td>\n",
       "      <td>22.4</td>\n",
       "      <td>2014</td>\n",
       "      <td>1</td>\n",
       "      <td>7</td>\n",
       "    </tr>\n",
       "    <tr>\n",
       "      <th>4</th>\n",
       "      <td>1.0</td>\n",
       "      <td>0.0</td>\n",
       "      <td>0.0</td>\n",
       "      <td>0.0</td>\n",
       "      <td>0.0</td>\n",
       "      <td>0.0</td>\n",
       "      <td>0.0</td>\n",
       "      <td>0.0</td>\n",
       "      <td>0.0</td>\n",
       "      <td>0.0</td>\n",
       "      <td>...</td>\n",
       "      <td>38.0</td>\n",
       "      <td>1017.1</td>\n",
       "      <td>1015.4</td>\n",
       "      <td>1.0</td>\n",
       "      <td>4.0</td>\n",
       "      <td>18.8</td>\n",
       "      <td>22.9</td>\n",
       "      <td>2014</td>\n",
       "      <td>10</td>\n",
       "      <td>31</td>\n",
       "    </tr>\n",
       "    <tr>\n",
       "      <th>...</th>\n",
       "      <td>...</td>\n",
       "      <td>...</td>\n",
       "      <td>...</td>\n",
       "      <td>...</td>\n",
       "      <td>...</td>\n",
       "      <td>...</td>\n",
       "      <td>...</td>\n",
       "      <td>...</td>\n",
       "      <td>...</td>\n",
       "      <td>...</td>\n",
       "      <td>...</td>\n",
       "      <td>...</td>\n",
       "      <td>...</td>\n",
       "      <td>...</td>\n",
       "      <td>...</td>\n",
       "      <td>...</td>\n",
       "      <td>...</td>\n",
       "      <td>...</td>\n",
       "      <td>...</td>\n",
       "      <td>...</td>\n",
       "      <td>...</td>\n",
       "    </tr>\n",
       "    <tr>\n",
       "      <th>27613</th>\n",
       "      <td>1.0</td>\n",
       "      <td>0.0</td>\n",
       "      <td>0.0</td>\n",
       "      <td>0.0</td>\n",
       "      <td>1.0</td>\n",
       "      <td>0.0</td>\n",
       "      <td>0.0</td>\n",
       "      <td>0.0</td>\n",
       "      <td>0.0</td>\n",
       "      <td>0.0</td>\n",
       "      <td>...</td>\n",
       "      <td>20.0</td>\n",
       "      <td>1010.9</td>\n",
       "      <td>1007.4</td>\n",
       "      <td>5.0</td>\n",
       "      <td>5.0</td>\n",
       "      <td>26.9</td>\n",
       "      <td>34.2</td>\n",
       "      <td>2017</td>\n",
       "      <td>2</td>\n",
       "      <td>13</td>\n",
       "    </tr>\n",
       "    <tr>\n",
       "      <th>27614</th>\n",
       "      <td>1.0</td>\n",
       "      <td>0.0</td>\n",
       "      <td>0.0</td>\n",
       "      <td>0.0</td>\n",
       "      <td>0.0</td>\n",
       "      <td>0.0</td>\n",
       "      <td>0.0</td>\n",
       "      <td>0.0</td>\n",
       "      <td>0.0</td>\n",
       "      <td>0.0</td>\n",
       "      <td>...</td>\n",
       "      <td>75.0</td>\n",
       "      <td>1017.9</td>\n",
       "      <td>1014.9</td>\n",
       "      <td>3.0</td>\n",
       "      <td>7.0</td>\n",
       "      <td>24.4</td>\n",
       "      <td>24.8</td>\n",
       "      <td>2014</td>\n",
       "      <td>5</td>\n",
       "      <td>27</td>\n",
       "    </tr>\n",
       "    <tr>\n",
       "      <th>27615</th>\n",
       "      <td>1.0</td>\n",
       "      <td>0.0</td>\n",
       "      <td>0.0</td>\n",
       "      <td>0.0</td>\n",
       "      <td>0.0</td>\n",
       "      <td>0.0</td>\n",
       "      <td>0.0</td>\n",
       "      <td>1.0</td>\n",
       "      <td>0.0</td>\n",
       "      <td>0.0</td>\n",
       "      <td>...</td>\n",
       "      <td>51.0</td>\n",
       "      <td>1018.3</td>\n",
       "      <td>1010.3</td>\n",
       "      <td>5.0</td>\n",
       "      <td>5.0</td>\n",
       "      <td>13.8</td>\n",
       "      <td>21.4</td>\n",
       "      <td>2014</td>\n",
       "      <td>5</td>\n",
       "      <td>27</td>\n",
       "    </tr>\n",
       "    <tr>\n",
       "      <th>27616</th>\n",
       "      <td>0.0</td>\n",
       "      <td>1.0</td>\n",
       "      <td>0.0</td>\n",
       "      <td>0.0</td>\n",
       "      <td>1.0</td>\n",
       "      <td>0.0</td>\n",
       "      <td>0.0</td>\n",
       "      <td>0.0</td>\n",
       "      <td>0.0</td>\n",
       "      <td>0.0</td>\n",
       "      <td>...</td>\n",
       "      <td>60.0</td>\n",
       "      <td>1019.2</td>\n",
       "      <td>1018.0</td>\n",
       "      <td>7.0</td>\n",
       "      <td>7.0</td>\n",
       "      <td>22.8</td>\n",
       "      <td>22.9</td>\n",
       "      <td>2015</td>\n",
       "      <td>12</td>\n",
       "      <td>24</td>\n",
       "    </tr>\n",
       "    <tr>\n",
       "      <th>27617</th>\n",
       "      <td>1.0</td>\n",
       "      <td>0.0</td>\n",
       "      <td>0.0</td>\n",
       "      <td>0.0</td>\n",
       "      <td>0.0</td>\n",
       "      <td>0.0</td>\n",
       "      <td>0.0</td>\n",
       "      <td>0.0</td>\n",
       "      <td>0.0</td>\n",
       "      <td>0.0</td>\n",
       "      <td>...</td>\n",
       "      <td>35.0</td>\n",
       "      <td>1017.6</td>\n",
       "      <td>1015.2</td>\n",
       "      <td>5.0</td>\n",
       "      <td>5.0</td>\n",
       "      <td>20.1</td>\n",
       "      <td>24.1</td>\n",
       "      <td>2010</td>\n",
       "      <td>4</td>\n",
       "      <td>16</td>\n",
       "    </tr>\n",
       "  </tbody>\n",
       "</table>\n",
       "<p>27618 rows × 118 columns</p>\n",
       "</div>"
      ],
      "text/plain": [
       "       RainToday_No  RainToday_Yes  WindDir3pm_E  WindDir3pm_ENE  \\\n",
       "0               1.0            0.0           0.0             0.0   \n",
       "1               1.0            0.0           0.0             0.0   \n",
       "2               1.0            0.0           0.0             0.0   \n",
       "3               1.0            0.0           0.0             0.0   \n",
       "4               1.0            0.0           0.0             0.0   \n",
       "...             ...            ...           ...             ...   \n",
       "27613           1.0            0.0           0.0             0.0   \n",
       "27614           1.0            0.0           0.0             0.0   \n",
       "27615           1.0            0.0           0.0             0.0   \n",
       "27616           0.0            1.0           0.0             0.0   \n",
       "27617           1.0            0.0           0.0             0.0   \n",
       "\n",
       "       WindDir3pm_ESE  WindDir3pm_N  WindDir3pm_NE  WindDir3pm_NNE  \\\n",
       "0                 0.0           0.0            0.0             0.0   \n",
       "1                 0.0           0.0            0.0             0.0   \n",
       "2                 0.0           0.0            0.0             0.0   \n",
       "3                 0.0           0.0            0.0             0.0   \n",
       "4                 0.0           0.0            0.0             0.0   \n",
       "...               ...           ...            ...             ...   \n",
       "27613             1.0           0.0            0.0             0.0   \n",
       "27614             0.0           0.0            0.0             0.0   \n",
       "27615             0.0           0.0            0.0             1.0   \n",
       "27616             1.0           0.0            0.0             0.0   \n",
       "27617             0.0           0.0            0.0             0.0   \n",
       "\n",
       "       WindDir3pm_NNW  WindDir3pm_NW  ...  Humidity3pm  Pressure9am  \\\n",
       "0                 0.0            0.0  ...         42.0       1024.7   \n",
       "1                 0.0            0.0  ...         20.0       1010.5   \n",
       "2                 0.0            0.0  ...         69.0       1023.9   \n",
       "3                 0.0            0.0  ...         34.0       1026.3   \n",
       "4                 0.0            0.0  ...         38.0       1017.1   \n",
       "...               ...            ...  ...          ...          ...   \n",
       "27613             0.0            0.0  ...         20.0       1010.9   \n",
       "27614             0.0            0.0  ...         75.0       1017.9   \n",
       "27615             0.0            0.0  ...         51.0       1018.3   \n",
       "27616             0.0            0.0  ...         60.0       1019.2   \n",
       "27617             0.0            0.0  ...         35.0       1017.6   \n",
       "\n",
       "       Pressure3pm  Cloud9am  Cloud3pm  Temp9am  Temp3pm  Year  Month  Day  \n",
       "0           1020.8       0.0       0.0     16.0     23.5  2016      5   11  \n",
       "1           1010.9       1.0       7.0     27.3     28.7  2015     12   11  \n",
       "2           1022.9       5.0       5.0     13.6     17.9  2014      4    2  \n",
       "3           1022.0       5.0       5.0     15.2     22.4  2014      1    7  \n",
       "4           1015.4       1.0       4.0     18.8     22.9  2014     10   31  \n",
       "...            ...       ...       ...      ...      ...   ...    ...  ...  \n",
       "27613       1007.4       5.0       5.0     26.9     34.2  2017      2   13  \n",
       "27614       1014.9       3.0       7.0     24.4     24.8  2014      5   27  \n",
       "27615       1010.3       5.0       5.0     13.8     21.4  2014      5   27  \n",
       "27616       1018.0       7.0       7.0     22.8     22.9  2015     12   24  \n",
       "27617       1015.2       5.0       5.0     20.1     24.1  2010      4   16  \n",
       "\n",
       "[27618 rows x 118 columns]"
      ]
     },
     "execution_count": 58,
     "metadata": {},
     "output_type": "execute_result"
    }
   ],
   "source": [
    "X_test"
   ]
  },
  {
   "cell_type": "markdown",
   "id": "17d2a93d",
   "metadata": {},
   "source": [
    "<font color=blue>***We now finished the data preparation!***</font>"
   ]
  },
  {
   "cell_type": "markdown",
   "id": "2c57e970",
   "metadata": {},
   "source": [
    "# 2. Decesion Tree"
   ]
  },
  {
   "cell_type": "markdown",
   "id": "7462ba67",
   "metadata": {},
   "source": [
    "## 2.1 Train the model without parameters tuning"
   ]
  },
  {
   "cell_type": "code",
   "execution_count": 63,
   "id": "69c2f949",
   "metadata": {},
   "outputs": [
    {
     "data": {
      "text/plain": [
       "DecisionTreeClassifier(max_depth=30, random_state=5)"
      ]
     },
     "execution_count": 63,
     "metadata": {},
     "output_type": "execute_result"
    }
   ],
   "source": [
    "# Import essential models and functions from sklearn\n",
    "from sklearn.tree import DecisionTreeClassifier\n",
    "from sklearn.model_selection import train_test_split\n",
    "from sklearn.metrics import confusion_matrix\n",
    "\n",
    "dectree=DecisionTreeClassifier(random_state=5\n",
    "                                ,max_depth=30               #Randomly select a depth for decesion tree\n",
    "                                #,splitter='random'\n",
    "                                # ,min_samples_leaf=2\n",
    "                                #,min_samples_split=15 \n",
    "                                 )                          #Create the decision tree object\n",
    "dectree.fit(X_train,y_train)"
   ]
  },
  {
   "cell_type": "code",
   "execution_count": 66,
   "id": "4fb0f227",
   "metadata": {},
   "outputs": [
    {
     "name": "stdout",
     "output_type": "stream",
     "text": [
      "Goodness of Fit of Model \tTrain Dataset\n",
      "Classification Accuracy \t: 0.9970398667487417\n",
      "\n",
      "Goodness of Fit of Model \tTest Dataset\n",
      "Classification Accuracy \t: 0.7928886957781157\n",
      "\n"
     ]
    },
    {
     "data": {
      "text/plain": [
       "<AxesSubplot:>"
      ]
     },
     "execution_count": 66,
     "metadata": {},
     "output_type": "execute_result"
    },
    {
     "data": {
      "image/png": "[encoded data removed]",
      "text/plain": [
       "<Figure size 576x144 with 4 Axes>"
      ]
     },
     "metadata": {
      "needs_background": "light"
     },
     "output_type": "display_data"
    }
   ],
   "source": [
    "# Predict RainTomorrow values\n",
    "y_train_pred = dectree.predict(X_train)\n",
    "y_test_pred = dectree.predict(X_test)\n",
    "\n",
    "# Check the Goodness of Fit (on Train Data)\n",
    "print(\"Goodness of Fit of Model \\tTrain Dataset\")\n",
    "print(\"Classification Accuracy \\t:\", dectree.score(X_train, y_train))\n",
    "print()\n",
    "\n",
    "# Check the Goodness of Fit (on Test Data)\n",
    "print(\"Goodness of Fit of Model \\tTest Dataset\")\n",
    "print(\"Classification Accuracy \\t:\", dectree.score(X_test, y_test))\n",
    "print()\n",
    "\n",
    "# Plot the Confusion Matrix for Train and Test\n",
    "f, axes = plt.subplots(1, 2, figsize=(8, 2))\n",
    "\n",
    "sb.heatmap(confusion_matrix(y_train, y_train_pred),\n",
    "           annot = True, fmt=\".0f\", annot_kws={\"size\": 18}, ax = axes[0])\n",
    "sb.heatmap(confusion_matrix(y_test, y_test_pred),\n",
    "           annot = True, fmt=\".0f\", annot_kws={\"size\": 18}, ax = axes[1])"
   ]
  },
  {
   "cell_type": "markdown",
   "id": "1b20b706",
   "metadata": {},
   "source": [
    "<font color=blue>**Obviously, there is an issue of overfitting!**</font>"
   ]
  },
  {
   "cell_type": "code",
   "execution_count": 61,
   "id": "db8a8c8c",
   "metadata": {},
   "outputs": [
    {
     "name": "stdout",
     "output_type": "stream",
     "text": [
      "Feature: Humidity3pm                    Importance: 0.2724\n",
      "Feature: WindGustSpeed                  Importance: 0.0634\n",
      "Feature: Pressure3pm                    Importance: 0.0579\n",
      "Feature: Sunshine                       Importance: 0.0442\n",
      "Feature: MinTemp                        Importance: 0.0363\n",
      "Feature: Humidity9am                    Importance: 0.0356\n",
      "Feature: Pressure9am                    Importance: 0.0328\n",
      "Feature: Day                            Importance: 0.0311\n",
      "Feature: Temp3pm                        Importance: 0.0298\n",
      "Feature: Temp9am                        Importance: 0.0296\n",
      "Feature: MaxTemp                        Importance: 0.0274\n",
      "Feature: WindSpeed3pm                   Importance: 0.027\n",
      "Feature: Rainfall                       Importance: 0.0248\n",
      "Feature: WindSpeed9am                   Importance: 0.0247\n",
      "Feature: Month                          Importance: 0.0215\n",
      "Feature: Year                           Importance: 0.02\n",
      "Feature: Evaporation                    Importance: 0.0198\n",
      "Feature: Cloud3pm                       Importance: 0.0149\n",
      "Feature: Cloud9am                       Importance: 0.0113\n",
      "Feature: WindDir3pm_NNW                 Importance: 0.0035\n",
      "Feature: WindDir9am_N                   Importance: 0.0033\n",
      "Feature: WindDir3pm_NW                  Importance: 0.0031\n",
      "Feature: WindGustDir_SE                 Importance: 0.0031\n",
      "Feature: WindGustDir_NW                 Importance: 0.003\n",
      "Feature: WindDir3pm_N                   Importance: 0.0029\n",
      "Feature: WindGustDir_NNW                Importance: 0.0029\n",
      "Feature: WindGustDir_WNW                Importance: 0.0029\n",
      "Feature: WindDir3pm_NNE                 Importance: 0.0028\n",
      "Feature: WindDir3pm_W                   Importance: 0.0028\n",
      "Feature: WindGustDir_SSW                Importance: 0.0028\n",
      "Feature: Location_Williamtown           Importance: 0.0028\n",
      "Feature: WindDir3pm_WNW                 Importance: 0.0027\n",
      "Feature: WindGustDir_S                  Importance: 0.0027\n",
      "Feature: Location_Witchcliffe           Importance: 0.0027\n",
      "Feature: WindDir9am_NNW                 Importance: 0.0026\n",
      "Feature: WindDir9am_SSW                 Importance: 0.0026\n",
      "Feature: WindDir9am_NE                  Importance: 0.0025\n",
      "Feature: WindDir9am_W                   Importance: 0.0025\n",
      "Feature: WindGustDir_N                  Importance: 0.0025\n",
      "Feature: Location_Sydney                Importance: 0.0025\n",
      "Feature: WindDir3pm_S                   Importance: 0.0024\n",
      "Feature: WindDir9am_NNE                 Importance: 0.0024\n",
      "Feature: WindDir9am_NW                  Importance: 0.0024\n",
      "Feature: WindDir9am_S                   Importance: 0.0024\n",
      "Feature: WindDir9am_SSE                 Importance: 0.0024\n",
      "Feature: WindGustDir_ENE                Importance: 0.0024\n",
      "Feature: WindDir9am_WNW                 Importance: 0.0023\n",
      "Feature: WindGustDir_SW                 Importance: 0.0023\n",
      "Feature: WindDir3pm_SSE                 Importance: 0.0022\n",
      "Feature: WindDir3pm_WSW                 Importance: 0.0022\n",
      "Feature: WindDir9am_SW                  Importance: 0.0022\n",
      "Feature: WindGustDir_WSW                Importance: 0.0022\n",
      "Feature: WindDir3pm_SSW                 Importance: 0.0021\n",
      "Feature: WindDir9am_WSW                 Importance: 0.0021\n",
      "Feature: WindGustDir_NE                 Importance: 0.0021\n",
      "Feature: WindGustDir_W                  Importance: 0.0021\n",
      "Feature: WindDir9am_E                   Importance: 0.002\n",
      "Feature: WindDir9am_SE                  Importance: 0.002\n",
      "Feature: WindGustDir_E                  Importance: 0.002\n",
      "Feature: WindGustDir_NNE                Importance: 0.002\n",
      "Feature: WindGustDir_SSE                Importance: 0.002\n",
      "Feature: Location_Adelaide              Importance: 0.002\n",
      "Feature: WindDir3pm_E                   Importance: 0.0019\n",
      "Feature: Location_MountGinini           Importance: 0.0019\n",
      "Feature: Location_Portland              Importance: 0.0019\n",
      "Feature: WindDir3pm_NE                  Importance: 0.0018\n",
      "Feature: WindDir9am_ENE                 Importance: 0.0018\n",
      "Feature: Location_PearceRAAF            Importance: 0.0018\n",
      "Feature: Location_Perth                 Importance: 0.0018\n",
      "Feature: Location_SydneyAirport         Importance: 0.0018\n",
      "Feature: WindDir3pm_ESE                 Importance: 0.0017\n",
      "Feature: WindDir3pm_SW                  Importance: 0.0017\n",
      "Feature: WindDir3pm_ENE                 Importance: 0.0016\n",
      "Feature: WindDir9am_ESE                 Importance: 0.0016\n",
      "Feature: Location_Albury                Importance: 0.0016\n",
      "Feature: Location_CoffsHarbour          Importance: 0.0016\n",
      "Feature: WindGustDir_ESE                Importance: 0.0015\n",
      "Feature: Location_BadgerysCreek         Importance: 0.0015\n",
      "Feature: Location_MelbourneAirport      Importance: 0.0015\n",
      "Feature: Location_PerthAirport          Importance: 0.0015\n",
      "Feature: Location_Walpole               Importance: 0.0015\n",
      "Feature: WindDir3pm_SE                  Importance: 0.0014\n",
      "Feature: Location_Hobart                Importance: 0.0014\n",
      "Feature: Location_Tuggeranong           Importance: 0.0014\n",
      "Feature: Location_Wollongong            Importance: 0.0014\n",
      "Feature: Location_Canberra              Importance: 0.0013\n",
      "Feature: Location_GoldCoast             Importance: 0.0013\n",
      "Feature: Location_Mildura               Importance: 0.0013\n",
      "Feature: Location_NorahHead             Importance: 0.0013\n",
      "Feature: Location_Nuriootpa             Importance: 0.0013\n",
      "Feature: Location_Watsonia              Importance: 0.0013\n",
      "Feature: Location_Albany                Importance: 0.0012\n",
      "Feature: Location_Dartmoor              Importance: 0.0012\n",
      "Feature: Location_Launceston            Importance: 0.0012\n",
      "Feature: Location_MountGambier          Importance: 0.0012\n",
      "Feature: Location_NorfolkIsland         Importance: 0.0012\n",
      "Feature: Location_Richmond              Importance: 0.0012\n",
      "Feature: Location_Sale                  Importance: 0.0012\n",
      "Feature: Location_Bendigo               Importance: 0.0011\n",
      "Feature: Location_Brisbane              Importance: 0.0011\n",
      "Feature: Location_Cairns                Importance: 0.0011\n",
      "Feature: Location_Cobar                 Importance: 0.001\n",
      "Feature: Location_Melbourne             Importance: 0.001\n",
      "Feature: Location_WaggaWagga            Importance: 0.001\n",
      "Feature: RainToday_No                   Importance: 0.0009\n",
      "Feature: Location_SalmonGums            Importance: 0.0009\n",
      "Feature: Location_Ballarat              Importance: 0.0008\n",
      "Feature: Location_Moree                 Importance: 0.0008\n",
      "Feature: Location_Nhil                  Importance: 0.0008\n",
      "Feature: Location_Penrith               Importance: 0.0006\n",
      "Feature: Location_Townsville            Importance: 0.0006\n",
      "Feature: Location_Uluru                 Importance: 0.0005\n",
      "Feature: Location_Woomera               Importance: 0.0005\n",
      "Feature: RainToday_Yes                  Importance: 0.0004\n",
      "Feature: Location_AliceSprings          Importance: 0.0004\n",
      "Feature: Location_Newcastle             Importance: 0.0003\n",
      "Feature: Location_Darwin                Importance: 0.0002\n",
      "Feature: Location_Katherine             Importance: 0.0001\n"
     ]
    }
   ],
   "source": [
    "# Check feature importances\n",
    "\n",
    "# Saving feature names for later use\n",
    "feature_list = list(X_train.columns)\n",
    "# Get numerical feature importances\n",
    "importances = list(dectree.feature_importances_)\n",
    "# List of tuples with variable and importance\n",
    "feature_importances = [(feature, round(importance, 4)) for feature, importance in zip(feature_list, importances)]\n",
    "# Sort the feature importances by most important first\n",
    "feature_importances = sorted(feature_importances, key = lambda x: x[1], reverse = True)\n",
    "# Print out the feature and importances \n",
    "[print('Feature: {:30} Importance: {}'.format(*pair)) for pair in feature_importances];"
   ]
  },
  {
   "cell_type": "markdown",
   "id": "e232cf54",
   "metadata": {},
   "source": [
    "<font color=blue>***Humidity3pm is the most important feature!***</font>"
   ]
  },
  {
   "cell_type": "markdown",
   "id": "86299411",
   "metadata": {},
   "source": [
    "## 2.2 Hyperparameter Tuning of Decision Trees"
   ]
  },
  {
   "cell_type": "markdown",
   "id": "f5892f05",
   "metadata": {},
   "source": [
    "<font color=darkblue>Due to the cost of time, we are not going to apply Grid Search for all the hyperparameters altogether. While, this method is still included in the last part of 2.2. We decide to use various techniques to explore the optimized hyperparamters.The hyperparameters which we are going to tune are listed below with the corresponding techniques applied:\n",
    "1. max_depth (cross_validation learning curve)\n",
    "2. min_samples_leaf (Grid Search)\n",
    "3. min_samples_split (Grid Search)\n",
    "4. max_features (Grid Search)"
   ]
  },
  {
   "cell_type": "markdown",
   "id": "816ce837",
   "metadata": {},
   "source": [
    "### 2.2.1 max_depth (cross_validation learning curve)"
   ]
  },
  {
   "cell_type": "markdown",
   "id": "7fa8e89c",
   "metadata": {},
   "source": [
    "<font color=blue>***In order to minimise the influence of the split of the train and test dataset, we use cross validation(Stratified K-fold cross-validation) to observe the stability of the Decesion Tree model.***</font>"
   ]
  },
  {
   "cell_type": "code",
   "execution_count": 62,
   "id": "79859083",
   "metadata": {},
   "outputs": [],
   "source": [
    "from sklearn.model_selection import cross_val_score\n",
    "\n",
    "# Convert the dataframe to numpy arrays. cross_val_score only accepts array or list inputs. \n",
    "X_train_array=X_train.to_numpy()\n",
    "\n",
    "y_train_array=y_train.to_numpy()\n",
    "y_train_array = y_train_array.flatten()\n",
    "# Concvert y to 1D array"
   ]
  },
  {
   "cell_type": "code",
   "execution_count": 63,
   "id": "72ec4d11",
   "metadata": {
    "scrolled": true
   },
   "outputs": [
    {
     "data": {
      "text/plain": [
       "array([[1.000e+00, 0.000e+00, 0.000e+00, ..., 2.012e+03, 7.000e+00,\n",
       "        1.700e+01],\n",
       "       [1.000e+00, 0.000e+00, 0.000e+00, ..., 2.015e+03, 7.000e+00,\n",
       "        2.100e+01],\n",
       "       [1.000e+00, 0.000e+00, 0.000e+00, ..., 2.010e+03, 5.000e+00,\n",
       "        1.000e+00],\n",
       "       ...,\n",
       "       [1.000e+00, 0.000e+00, 0.000e+00, ..., 2.014e+03, 7.000e+00,\n",
       "        2.300e+01],\n",
       "       [1.000e+00, 0.000e+00, 0.000e+00, ..., 2.012e+03, 1.000e+00,\n",
       "        2.100e+01],\n",
       "       [1.000e+00, 0.000e+00, 0.000e+00, ..., 2.013e+03, 4.000e+00,\n",
       "        1.400e+01]])"
      ]
     },
     "execution_count": 63,
     "metadata": {},
     "output_type": "execute_result"
    }
   ],
   "source": [
    "# Check the input array\n",
    "X_train_array"
   ]
  },
  {
   "cell_type": "code",
   "execution_count": 64,
   "id": "cde5bd3c",
   "metadata": {},
   "outputs": [
    {
     "name": "stdout",
     "output_type": "stream",
     "text": [
      "Highet Classification Accuracy \t\t: 0.8409132036227087\n",
      "Corresponding Depth of Decesion Tree \t: 8\n"
     ]
    },
    {
     "data": {
      "image/png": "[encoded data removed]",
      "text/plain": [
       "<Figure size 1440x360 with 1 Axes>"
      ]
     },
     "metadata": {
      "needs_background": "light"
     },
     "output_type": "display_data"
    }
   ],
   "source": [
    "# Learning curve for max_depth\n",
    "scorelist = []\n",
    "for i in range(0,30):\n",
    "    dectree = DecisionTreeClassifier(max_depth=i+1\n",
    "                                    ,random_state=5\n",
    "                                    ,criterion='entropy'\n",
    "                                    #,splitter=\"random\"\n",
    "                                    )\n",
    "\n",
    "    score = cross_val_score(dectree,X_train_array,y_train_array,cv=10).mean()               #cv=10 cross validation 10 times\n",
    "    scorelist.append(score)\n",
    "\n",
    "\n",
    "    \n",
    "print(\"Highet Classification Accuracy \\t\\t:\",max(scorelist))\n",
    "print(\"Corresponding Depth of Decesion Tree \\t:\",(scorelist.index(max(scorelist))+1))\n",
    "plt.figure(figsize=[20,5])\n",
    "plt.plot(range(1,31),scorelist,label=\"max_depth\")\n",
    "plt.legend()\n",
    "plt.xlabel('max_depth')\n",
    "plt.ylabel('classification accuracy')\n",
    "plt.show()"
   ]
  },
  {
   "cell_type": "markdown",
   "id": "3f95dd90",
   "metadata": {},
   "source": [
    "<font color=blue>***We decide to use max_depth=8 in the following models.***"
   ]
  },
  {
   "cell_type": "markdown",
   "id": "362ab617",
   "metadata": {},
   "source": [
    "### 2.2.2 min_samples_leaf (Grid Search)"
   ]
  },
  {
   "cell_type": "code",
   "execution_count": 66,
   "id": "82d4eb52",
   "metadata": {},
   "outputs": [],
   "source": [
    "from sklearn.model_selection import GridSearchCV\n",
    "from sklearn.model_selection import cross_val_score"
   ]
  },
  {
   "cell_type": "code",
   "execution_count": 109,
   "id": "3f95ac94",
   "metadata": {},
   "outputs": [
    {
     "data": {
      "text/plain": [
       "GridSearchCV(cv=10,\n",
       "             estimator=DecisionTreeClassifier(criterion='entropy', max_depth=8,\n",
       "                                              random_state=5),\n",
       "             param_grid={'min_samples_leaf': array([ 1,  6, 11, 16, 21, 26, 31, 36, 41, 46])})"
      ]
     },
     "execution_count": 109,
     "metadata": {},
     "output_type": "execute_result"
    }
   ],
   "source": [
    "# Set the range for min_samples_leaf to apply Grid Search\n",
    "param_grid1 = {'min_samples_leaf':np.arange(1,51,5)}                  # min_samples_leaf(default=1)\n",
    "\n",
    "dectree = DecisionTreeClassifier(max_depth=8\n",
    "                                ,random_state=5\n",
    "                                ,criterion='entropy'\n",
    "                                #,splitter=\"random\"\n",
    "                                    )\n",
    "\n",
    "\n",
    "GS = GridSearchCV(dectree, param_grid1, cv=10)\n",
    "GS.fit(X_train_array,y_train_array)"
   ]
  },
  {
   "cell_type": "code",
   "execution_count": 110,
   "id": "df2dafd2",
   "metadata": {},
   "outputs": [
    {
     "data": {
      "text/plain": [
       "{'min_samples_leaf': 6}"
      ]
     },
     "execution_count": 110,
     "metadata": {},
     "output_type": "execute_result"
    }
   ],
   "source": [
    "GS.best_params_"
   ]
  },
  {
   "cell_type": "code",
   "execution_count": 111,
   "id": "04737eb1",
   "metadata": {},
   "outputs": [
    {
     "data": {
      "text/plain": [
       "0.8409765725203462"
      ]
     },
     "execution_count": 111,
     "metadata": {},
     "output_type": "execute_result"
    }
   ],
   "source": [
    "GS.best_score_"
   ]
  },
  {
   "cell_type": "markdown",
   "id": "234ba017",
   "metadata": {},
   "source": [
    "<font color=blue>***We decide to use min_samples_leaf=6 in the following models.***"
   ]
  },
  {
   "cell_type": "markdown",
   "id": "f050bf25",
   "metadata": {},
   "source": [
    "### 2.2.3 min_samples_split (Grid Search)"
   ]
  },
  {
   "cell_type": "code",
   "execution_count": 112,
   "id": "1dada036",
   "metadata": {},
   "outputs": [
    {
     "data": {
      "text/plain": [
       "GridSearchCV(cv=10,\n",
       "             estimator=DecisionTreeClassifier(criterion='entropy', max_depth=8,\n",
       "                                              min_samples_leaf=6,\n",
       "                                              random_state=5),\n",
       "             param_grid={'min_samples_split': array([ 1,  2,  3,  4,  5,  6,  7,  8,  9, 10, 11, 12, 13, 14, 15, 16, 17,\n",
       "       18, 19, 20])})"
      ]
     },
     "execution_count": 112,
     "metadata": {},
     "output_type": "execute_result"
    }
   ],
   "source": [
    "# Set the range for min_samples_split to apply Grid Search\n",
    "param_grid2 = {'min_samples_split':np.arange(1,21)}                    # min_samples_split(default=2)\n",
    "dectree = DecisionTreeClassifier(max_depth=8\n",
    "                                ,min_samples_leaf=6\n",
    "                                ,random_state=5\n",
    "                                ,criterion='entropy'\n",
    "                                #,splitter=\"random\"\n",
    "                                    )\n",
    "\n",
    "\n",
    "GS = GridSearchCV(dectree, param_grid2, cv=10)\n",
    "GS.fit(X_train_array,y_train_array)"
   ]
  },
  {
   "cell_type": "code",
   "execution_count": 113,
   "id": "ae4128ea",
   "metadata": {},
   "outputs": [
    {
     "data": {
      "text/plain": [
       "{'min_samples_split': 2}"
      ]
     },
     "execution_count": 113,
     "metadata": {},
     "output_type": "execute_result"
    }
   ],
   "source": [
    "GS.best_params_"
   ]
  },
  {
   "cell_type": "code",
   "execution_count": 114,
   "id": "ffa58314",
   "metadata": {},
   "outputs": [
    {
     "data": {
      "text/plain": [
       "0.8409765725203462"
      ]
     },
     "execution_count": 114,
     "metadata": {},
     "output_type": "execute_result"
    }
   ],
   "source": [
    "GS.best_score_"
   ]
  },
  {
   "cell_type": "markdown",
   "id": "34cf3cb1",
   "metadata": {},
   "source": [
    "<font color=darkred>***Notice that for min_samples, default=2. The accuracy remains the same as the result of the last Grid Search. Hence, tuning min_samples_split is not helpful to improve the accuracy!!!***</font>"
   ]
  },
  {
   "cell_type": "markdown",
   "id": "6e153e05",
   "metadata": {},
   "source": [
    "### 2.2.4 max_features (Grid Search)"
   ]
  },
  {
   "cell_type": "code",
   "execution_count": 124,
   "id": "5999e049",
   "metadata": {},
   "outputs": [
    {
     "data": {
      "text/plain": [
       "GridSearchCV(cv=10,\n",
       "             estimator=DecisionTreeClassifier(criterion='entropy', max_depth=8,\n",
       "                                              min_samples_leaf=6,\n",
       "                                              random_state=5),\n",
       "             param_grid={'max_features': [None, 'log2', 'sqrt']})"
      ]
     },
     "execution_count": 124,
     "metadata": {},
     "output_type": "execute_result"
    }
   ],
   "source": [
    "# Set the range for max_features to apply Grid Search\n",
    "param_grid3 = {'max_features':[None, 'log2','sqrt']}        # max_features(default=None, max_features=n_features)\n",
    "                                                            # For this dataset, n_feature=118\n",
    "dectree = DecisionTreeClassifier(max_depth=8                # If “sqrt”, then max_features=sqrt(n_features)\n",
    "                                ,min_samples_leaf=6         # If “log2”, then max_features=log2(n_features)\n",
    "                                ,random_state=5\n",
    "                                ,criterion='entropy'\n",
    "                                #,splitter=\"random\"\n",
    "                                    )\n",
    "\n",
    "\n",
    "GS = GridSearchCV(dectree, param_grid3, cv=10)\n",
    "GS.fit(X_train_array,y_train_array)"
   ]
  },
  {
   "cell_type": "code",
   "execution_count": 125,
   "id": "e1a38fcb",
   "metadata": {},
   "outputs": [
    {
     "data": {
      "text/plain": [
       "{'max_features': None}"
      ]
     },
     "execution_count": 125,
     "metadata": {},
     "output_type": "execute_result"
    }
   ],
   "source": [
    "GS.best_params_"
   ]
  },
  {
   "cell_type": "code",
   "execution_count": 126,
   "id": "26d86193",
   "metadata": {},
   "outputs": [
    {
     "data": {
      "text/plain": [
       "0.8409765725203462"
      ]
     },
     "execution_count": 126,
     "metadata": {},
     "output_type": "execute_result"
    }
   ],
   "source": [
    "GS.best_score_"
   ]
  },
  {
   "cell_type": "markdown",
   "id": "45a4c3bf",
   "metadata": {},
   "source": [
    "<font color=darkred>Notice that for max_features, default=None. The accuracy remains the same as the result of the last Grid Search. Based on the tuning of max_depth and min_samples_leaf previously, the model seems overfit the data.\n",
    "Hence, we decide to:\n",
    "1. Step1:\n",
    "Apply grid search to max_features by setting the range of max_features to an interval such that all the points in the interval has a smaller value than default(which is 118)  i.e. np.arange(51,101,5)\n",
    "2. Step2:\n",
    "    Apply grid search again with smaller steps inside an interval that centers at best_params_ found in last step"
   ]
  },
  {
   "cell_type": "markdown",
   "id": "7a7bab28",
   "metadata": {},
   "source": [
    "###### step1"
   ]
  },
  {
   "cell_type": "code",
   "execution_count": 112,
   "id": "7a9728cf",
   "metadata": {},
   "outputs": [
    {
     "data": {
      "text/plain": [
       "GridSearchCV(cv=10,\n",
       "             estimator=DecisionTreeClassifier(criterion='entropy', max_depth=8,\n",
       "                                              min_samples_leaf=6,\n",
       "                                              random_state=5),\n",
       "             param_grid={'max_features': array([51, 56, 61, 66, 71, 76, 81, 86, 91, 96])})"
      ]
     },
     "execution_count": 112,
     "metadata": {},
     "output_type": "execute_result"
    }
   ],
   "source": [
    "# Set the range for max_features to apply Grid Search\n",
    "# Since, we have tried 'log2' and auto(sqrt) which are around 11, we choose the interval be(51,101,5)\n",
    "\n",
    "param_grid4 = {'max_features':np.arange(51,101,5)}          # max_features(default=None, max_features=n_features)\n",
    "                                                            # For this dataset, n_feature=118\n",
    "dectree = DecisionTreeClassifier(max_depth=8                # If “sqrt”, then max_features=sqrt(n_features)\n",
    "                                ,min_samples_leaf=6         # If “log2”, then max_features=log2(n_features)\n",
    "                                ,random_state=5\n",
    "                                ,criterion='entropy'\n",
    "                                #,splitter=\"random\"\n",
    "                                    )\n",
    "\n",
    "\n",
    "GS = GridSearchCV(dectree, param_grid4, cv=10)\n",
    "GS.fit(X_train_array,y_train_array)"
   ]
  },
  {
   "cell_type": "code",
   "execution_count": 113,
   "id": "babc2d47",
   "metadata": {},
   "outputs": [
    {
     "data": {
      "text/plain": [
       "{'max_features': 96}"
      ]
     },
     "execution_count": 113,
     "metadata": {},
     "output_type": "execute_result"
    }
   ],
   "source": [
    "GS.best_params_"
   ]
  },
  {
   "cell_type": "code",
   "execution_count": 114,
   "id": "ee902fac",
   "metadata": {},
   "outputs": [
    {
     "data": {
      "text/plain": [
       "0.842117186453725"
      ]
     },
     "execution_count": 114,
     "metadata": {},
     "output_type": "execute_result"
    }
   ],
   "source": [
    "GS.best_score_"
   ]
  },
  {
   "cell_type": "markdown",
   "id": "c34c2474",
   "metadata": {},
   "source": [
    "<font color=darkred>***Notice that the accuracy increases. We may proceed to step 2.***</font>"
   ]
  },
  {
   "cell_type": "markdown",
   "id": "6dd4624e",
   "metadata": {},
   "source": [
    "###### step2"
   ]
  },
  {
   "cell_type": "code",
   "execution_count": 115,
   "id": "f170b4b5",
   "metadata": {},
   "outputs": [
    {
     "data": {
      "text/plain": [
       "GridSearchCV(cv=10,\n",
       "             estimator=DecisionTreeClassifier(criterion='entropy', max_depth=8,\n",
       "                                              min_samples_leaf=6,\n",
       "                                              random_state=5),\n",
       "             param_grid={'max_features': array([ 91,  92,  93,  94,  95,  96,  97,  98,  99, 100, 101, 102, 103,\n",
       "       104])})"
      ]
     },
     "execution_count": 115,
     "metadata": {},
     "output_type": "execute_result"
    }
   ],
   "source": [
    "# Set the range for max_features to apply Grid Search\n",
    "param_grid6 = {'max_features':np.arange(91,105)}         # max_features(default=None, max_features=n_features)\n",
    "                                                            # For this dataset, n_feature=118\n",
    "dectree = DecisionTreeClassifier(max_depth=8                # If “sqrt”, then max_features=sqrt(n_features)\n",
    "                                ,min_samples_leaf=6         # If “log2”, then max_features=log2(n_features)\n",
    "                                ,random_state=5\n",
    "                                ,criterion='entropy'\n",
    "                                #,splitter=\"random\"\n",
    "                                    )\n",
    "\n",
    "\n",
    "GS = GridSearchCV(dectree, param_grid6, cv=10)\n",
    "GS.fit(X_train,y_train)"
   ]
  },
  {
   "cell_type": "code",
   "execution_count": 116,
   "id": "eb2d1929",
   "metadata": {},
   "outputs": [
    {
     "data": {
      "text/plain": [
       "{'max_features': 96}"
      ]
     },
     "execution_count": 116,
     "metadata": {},
     "output_type": "execute_result"
    }
   ],
   "source": [
    "GS.best_params_"
   ]
  },
  {
   "cell_type": "code",
   "execution_count": 117,
   "id": "9ab64e9a",
   "metadata": {},
   "outputs": [
    {
     "data": {
      "text/plain": [
       "0.842117186453725"
      ]
     },
     "execution_count": 117,
     "metadata": {},
     "output_type": "execute_result"
    }
   ],
   "source": [
    "GS.best_score_"
   ]
  },
  {
   "cell_type": "markdown",
   "id": "33b3072b",
   "metadata": {},
   "source": [
    "<font color=blue>***The higherst accuracy inside the chosen parameter range still occurs at max_featurs=96. We decide to use max_features=96 in the following models.***"
   ]
  },
  {
   "cell_type": "markdown",
   "id": "ef55bae7",
   "metadata": {},
   "source": [
    "### 2.2.5 Grid Search for all the hyperparameters "
   ]
  },
  {
   "cell_type": "markdown",
   "id": "8d2a7633",
   "metadata": {},
   "source": [
    "<font color=darkred>***Due to the huge amout of computation and the cost of time, it is not suggested to use Grid Search for all the hyperparameters at the same time***</font>"
   ]
  },
  {
   "cell_type": "code",
   "execution_count": 106,
   "id": "189017f3",
   "metadata": {},
   "outputs": [
    {
     "data": {
      "text/plain": [
       "GridSearchCV(cv=10,\n",
       "             estimator=DecisionTreeClassifier(criterion='entropy',\n",
       "                                              random_state=5),\n",
       "             param_grid={'max_depth': array([ 1,  6, 11, 16]),\n",
       "                         'max_features': array([ 20,  40,  60,  80, 100]),\n",
       "                         'min_samples_leaf': array([ 1,  3,  5,  7,  9, 11, 13, 15, 17, 19]),\n",
       "                         'min_samples_split': array([ 2,  4,  6,  8, 10])})"
      ]
     },
     "execution_count": 106,
     "metadata": {},
     "output_type": "execute_result"
    }
   ],
   "source": [
    "######## Time warning: 4h ##########\n",
    "\n",
    "# Set the range for max_features to apply Grid Search\n",
    "#param_grid_all= {'max_depth':np.arange(1,20,5),'min_samples_leaf':np.arange(1,20,2)\n",
    " #                ,'min_samples_split':np.arange(2,11,2),'max_features':np.arange(20,118,20)}\n",
    "\n",
    "\n",
    "#dectree = DecisionTreeClassifier(random_state=5\n",
    " #                               ,criterion='entropy'\n",
    "                                #,splitter=\"random\"\n",
    "                                   # )\n",
    "\n",
    "\n",
    "#GS = GridSearchCV(dectree, param_grid_all, cv=10)\n",
    "#GS.fit(X_train,y_train)"
   ]
  },
  {
   "cell_type": "code",
   "execution_count": 107,
   "id": "b4a2d334",
   "metadata": {},
   "outputs": [
    {
     "data": {
      "text/plain": [
       "{'max_depth': 6,\n",
       " 'max_features': 80,\n",
       " 'min_samples_leaf': 17,\n",
       " 'min_samples_split': 2}"
      ]
     },
     "execution_count": 107,
     "metadata": {},
     "output_type": "execute_result"
    }
   ],
   "source": [
    "#GS.best_params_"
   ]
  },
  {
   "cell_type": "code",
   "execution_count": 110,
   "id": "7d7e66f6",
   "metadata": {},
   "outputs": [
    {
     "data": {
      "text/plain": [
       "0.8396277416947825"
      ]
     },
     "execution_count": 110,
     "metadata": {},
     "output_type": "execute_result"
    }
   ],
   "source": [
    "#GS.best_score_"
   ]
  },
  {
   "cell_type": "code",
   "execution_count": 111,
   "id": "01c355ef",
   "metadata": {},
   "outputs": [
    {
     "name": "stdout",
     "output_type": "stream",
     "text": [
      "Goodness of Fit of Model \tTrain Dataset\n",
      "Classification Accuracy \t: 0.8400894376652062\n",
      "\n",
      "Goodness of Fit of Model \tTest Dataset\n",
      "Classification Accuracy \t: 0.8402129046274169\n",
      "\n"
     ]
    },
    {
     "data": {
      "text/plain": [
       "<AxesSubplot:>"
      ]
     },
     "execution_count": 111,
     "metadata": {},
     "output_type": "execute_result"
    },
    {
     "data": {
      "image/png": "[encoded data removed]",
      "text/plain": [
       "<Figure size 864x288 with 4 Axes>"
      ]
     },
     "metadata": {
      "needs_background": "light"
     },
     "output_type": "display_data"
    }
   ],
   "source": [
    "# Train the model with hyperparemeters obtained from GridSearch\n",
    "\n",
    "#dectree = DecisionTreeClassifier(max_depth=6                \n",
    "#                                ,min_samples_leaf=17         \n",
    "#                                ,random_state=5\n",
    "#                                ,max_features=80\n",
    "#                                ,min_samples_split=2\n",
    "#                                ,criterion='entropy'\n",
    "                                \n",
    "#                                    )\n",
    "#dectree.fit(X_train,y_train)\n",
    "\n",
    "# Predict RainTomorrow values \n",
    "#y_train_pred = dectree.predict(X_train)\n",
    "#y_test_pred = dectree.predict(X_test)\n",
    "\n",
    "# Check the Goodness of Fit (on Train Data)\n",
    "#print(\"Goodness of Fit of Model \\tTrain Dataset\")\n",
    "#print(\"Classification Accuracy \\t:\", dectree.score(X_train, y_train))\n",
    "#print()\n",
    "\n",
    "# Check the Goodness of Fit (on Test Data)\n",
    "#print(\"Goodness of Fit of Model \\tTest Dataset\")\n",
    "#print(\"Classification Accuracy \\t:\", dectree.score(X_test, y_test))\n",
    "#print()\n",
    "\n",
    "# Plot the Confusion Matrix for Train and Test\n",
    "#f, axes = plt.subplots(1, 2, figsize=(12, 4))\n",
    "\n",
    "#sb.heatmap(confusion_matrix(y_train, y_train_pred),\n",
    "#           annot = True, fmt=\".0f\", annot_kws={\"size\": 18}, ax = axes[0])\n",
    "#sb.heatmap(confusion_matrix(y_test, y_test_pred),\n",
    "#           annot = True, fmt=\".0f\", annot_kws={\"size\": 18}, ax = axes[1])"
   ]
  },
  {
   "cell_type": "markdown",
   "id": "aa197238",
   "metadata": {},
   "source": [
    "## 2.3 Conclusion for Decision Tree"
   ]
  },
  {
   "cell_type": "markdown",
   "id": "ad8d52f3",
   "metadata": {},
   "source": [
    "<font color=darkblue> Compare the classfication accuracy of the decesion tree model on the test set by using different techniques of hyperparameters tuning:\n",
    "> Learnig curve and Grid Search for the parameters respectively==>     84.4087189514085%       \n",
    "> Grid Search for all the hyperparameters==>                   84.02129046274169% \n",
    "\n",
    "<font color=darkblue>***Thus, we decide to use the parameters listed below obtained from learnig curve and grid Search for the parameters respectively to train the decision tree model.***"
   ]
  },
  {
   "cell_type": "code",
   "execution_count": 114,
   "id": "d4fba65c",
   "metadata": {},
   "outputs": [
    {
     "data": {
      "text/plain": [
       "DecisionTreeClassifier(criterion='entropy', max_depth=8, max_features=96,\n",
       "                       min_samples_leaf=6, random_state=5)"
      ]
     },
     "execution_count": 114,
     "metadata": {},
     "output_type": "execute_result"
    }
   ],
   "source": [
    "dectree = DecisionTreeClassifier(max_depth=8                \n",
    "                                ,min_samples_leaf=6         \n",
    "                                ,random_state=5\n",
    "                                ,max_features=96\n",
    "                                ,criterion='entropy'\n",
    "                                )\n",
    "dectree.fit(X_train,y_train)"
   ]
  },
  {
   "cell_type": "code",
   "execution_count": 115,
   "id": "37735c9d",
   "metadata": {},
   "outputs": [
    {
     "name": "stdout",
     "output_type": "stream",
     "text": [
      "Goodness of Fit of Model \tTrain Dataset\n",
      "Classification Accuracy \t: 0.8483633269363073\n",
      "\n",
      "Goodness of Fit of Model \tTest Dataset\n",
      "Classification Accuracy \t: 0.844087189514085\n",
      "\n"
     ]
    }
   ],
   "source": [
    "# Predict RainTomorrow values \n",
    "y_train_pred = dectree.predict(X_train)\n",
    "y_test_pred = dectree.predict(X_test)\n",
    "\n",
    "# Check the Goodness of Fit (on Train Data)\n",
    "print(\"Goodness of Fit of Model \\tTrain Dataset\")\n",
    "print(\"Classification Accuracy \\t:\", dectree.score(X_train, y_train))\n",
    "print()\n",
    "\n",
    "# Check the Goodness of Fit (on Test Data)\n",
    "print(\"Goodness of Fit of Model \\tTest Dataset\")\n",
    "print(\"Classification Accuracy \\t:\", dectree.score(X_test, y_test))\n",
    "print()"
   ]
  },
  {
   "cell_type": "code",
   "execution_count": 116,
   "id": "52d312ec",
   "metadata": {},
   "outputs": [],
   "source": [
    "# Visualization of confusion matrix of test data (with summary statistics)"
   ]
  },
  {
   "cell_type": "markdown",
   "id": "f2baf116",
   "metadata": {},
   "source": [
    "Reference:https://github.com/DTrimarchi10/confusion_matri\n",
    "'''\n",
    ">    This function will make a pretty plot of an sklearn Confusion Matrix cm using a Seaborn heatmap visualization.\n",
    "\n",
    ">    Arguments\n",
    ">    ------------\n",
    "\n",
    ">    cf:            confusion matrix to be passed in\n",
    "\n",
    ">    group_names:   List of strings that represent the labels row by row to be shown in each square.\n",
    "\n",
    ">    categories:    List of strings containing the categories to be displayed on the x,y axis. Default is 'auto'\n",
    "\n",
    ">    count:         If True, show the raw number in the confusion matrix. Default is True.\n",
    "\n",
    ">    normalize:     If True, show the proportions for each category. Default is True.\n",
    "\n",
    ">    cbar:          If True, show the color bar. The cbar values are based off the values in the confusion matrix.\n",
    "                   Default is True.\n",
    "\n",
    ">    xyticks:       If True, show x and y ticks. Default is True.\n",
    "\n",
    ">    xyplotlabels:  If True, show 'True Label' and 'Predicted Label' on the figure. Default is True.\n",
    "\n",
    ">    sum_stats:     If True, display summary statistics below the figure. Default is True.\n",
    "\n",
    ">    figsize:       Tuple representing the figure size. Default will be the matplotlib rcParams value.\n",
    "\n",
    ">    cmap:          Colormap of the values displayed from matplotlib.pyplot.cm. Default is 'Blues'\n",
    "                   See http://matplotlib.org/examples/color/colormaps_reference.html\n",
    "                   \n",
    ">    title:         Title for the heatmap. Default is None.\n"
   ]
  },
  {
   "cell_type": "code",
   "execution_count": 70,
   "id": "4e44ff53",
   "metadata": {},
   "outputs": [],
   "source": [
    "def make_confusion_matrix(cf,\n",
    "                          group_names=None,\n",
    "                          categories='auto',\n",
    "                          count=True,\n",
    "                          percent=True,\n",
    "                          cbar=True,\n",
    "                          xyticks=True,\n",
    "                          xyplotlabels=True,\n",
    "                          sum_stats=True,\n",
    "                          figsize=None,\n",
    "                          cmap='Blues',\n",
    "                          title=None):\n",
    "\n",
    "    # CODE TO GENERATE TEXT INSIDE EACH SQUARE\n",
    "    blanks = ['' for i in range(cf.size)]\n",
    "\n",
    "    if group_names and len(group_names)==cf.size:\n",
    "        group_labels = [\"{}\\n\".format(value) for value in group_names]\n",
    "    else:\n",
    "        group_labels = blanks\n",
    "\n",
    "    if count:\n",
    "        group_counts = [\"{0:0.0f}\\n\".format(value) for value in cf.flatten()]\n",
    "    else:\n",
    "        group_counts = blanks\n",
    "\n",
    "    if percent:\n",
    "        group_percentages = [\"{0:.2%}\".format(value) for value in cf.flatten()/np.sum(cf)]\n",
    "    else:\n",
    "        group_percentages = blanks\n",
    "\n",
    "    box_labels = [f\"{v1}{v2}{v3}\".strip() for v1, v2, v3 in zip(group_labels,group_counts,group_percentages)]\n",
    "    box_labels = np.asarray(box_labels).reshape(cf.shape[0],cf.shape[1])\n",
    "\n",
    "\n",
    "    # CODE TO GENERATE SUMMARY STATISTICS & TEXT FOR SUMMARY STATS\n",
    "    if sum_stats:\n",
    "        #Accuracy is sum of diagonal divided by total observations\n",
    "        accuracy  = np.trace(cf) / float(np.sum(cf))\n",
    "\n",
    "        #if it is a binary confusion matrix, show some more stats\n",
    "        if len(cf)==2:\n",
    "            #Metrics for Binary Confusion Matrices\n",
    "            precision = cf[1,1] / sum(cf[:,1])\n",
    "            recall    = cf[1,1] / sum(cf[1,:])\n",
    "            f1_score  = 2*precision*recall / (precision + recall)\n",
    "            stats_text = \"\\n\\nAccuracy={:0.3f}\\nPrecision={:0.3f}\\nRecall={:0.3f}\\nF1 Score={:0.3f}\".format(\n",
    "                accuracy,precision,recall,f1_score)\n",
    "        else:\n",
    "            stats_text = \"\\n\\nAccuracy={:0.3f}\".format(accuracy)\n",
    "    else:\n",
    "        stats_text = \"\"\n",
    "\n",
    "\n",
    "    # SET FIGURE PARAMETERS ACCORDING TO OTHER ARGUMENTS\n",
    "    if figsize==None:\n",
    "        #Get default figure size if not set\n",
    "        figsize = plt.rcParams.get('figure.figsize')\n",
    "\n",
    "    if xyticks==False:\n",
    "        #Do not show categories if xyticks is False\n",
    "        categories=False\n",
    "\n",
    "\n",
    "    # MAKE THE HEATMAP VISUALIZATION\n",
    "    plt.figure(figsize=(10,10))\n",
    "    sb.heatmap(cf,annot=box_labels,fmt=\"\",cmap=cmap,cbar=cbar,xticklabels=categories,yticklabels=categories)\n",
    "\n",
    "    if xyplotlabels:\n",
    "        plt.ylabel('True label')\n",
    "        plt.xlabel('Predicted label' + stats_text)\n",
    "    else:\n",
    "        plt.xlabel(stats_text)\n",
    "    \n",
    "    if title:\n",
    "        plt.title(title)"
   ]
  },
  {
   "cell_type": "code",
   "execution_count": 117,
   "id": "a5ce41c0",
   "metadata": {},
   "outputs": [
    {
     "data": {
      "image/png": "[encoded data removed]",
      "text/plain": [
       "<Figure size 720x720 with 2 Axes>"
      ]
     },
     "metadata": {
      "needs_background": "light"
     },
     "output_type": "display_data"
    }
   ],
   "source": [
    "cf_matrix=confusion_matrix(y_test, y_test_pred)\n",
    "labels = ['True Neg','False Pos','False Neg','True Pos']\n",
    "categories = ['Zero', 'One']\n",
    "make_confusion_matrix(cf_matrix, group_names=labels, categories=categories, cmap='PuBu', title='CF Matrix for Decision Tree')"
   ]
  },
  {
   "cell_type": "code",
   "execution_count": null,
   "id": "0abc029d",
   "metadata": {},
   "outputs": [],
   "source": []
  },
  {
   "cell_type": "markdown",
   "id": "fe765dd6",
   "metadata": {},
   "source": [
    "# 3. Random Forest"
   ]
  },
  {
   "cell_type": "code",
   "execution_count": 60,
   "id": "d42ece30",
   "metadata": {},
   "outputs": [],
   "source": [
    "# Import essential models and functions from sklearn\n",
    "from sklearn.tree import DecisionTreeClassifier\n",
    "from sklearn.ensemble import RandomForestClassifier\n",
    "from sklearn.model_selection import GridSearchCV\n",
    "from sklearn.model_selection import cross_val_score"
   ]
  },
  {
   "cell_type": "markdown",
   "id": "e2c6918a",
   "metadata": {},
   "source": [
    "## 3.0 Contrast of decision Tree and Random Forest"
   ]
  },
  {
   "cell_type": "markdown",
   "id": "2062e364",
   "metadata": {},
   "source": [
    "<font color=blue>***In this part, we are going to briefly compare the classification accuracy of Decision Tree and Random Forest without parameter tuning to show Random Forest is more vigorous. We will still use cross_validation.***"
   ]
  },
  {
   "cell_type": "code",
   "execution_count": 116,
   "id": "20232218",
   "metadata": {},
   "outputs": [
    {
     "data": {
      "image/png": "[encoded data removed]",
      "text/plain": [
       "<Figure size 432x288 with 1 Axes>"
      ]
     },
     "metadata": {
      "needs_background": "light"
     },
     "output_type": "display_data"
    }
   ],
   "source": [
    "rfc_list = []\n",
    "dectree_list = []\n",
    " \n",
    "for i in range(10):\n",
    "    # Create random forest object\n",
    "    rfc = RandomForestClassifier()     \n",
    "    \n",
    "    rfc_s = cross_val_score(rfc,X_train,y_train,cv=10).mean()\n",
    "    rfc_list.append(rfc_s)\n",
    "    \n",
    "    # Create decision tree object\n",
    "    dectree = DecisionTreeClassifier()\n",
    "    \n",
    "    dectree_s = cross_val_score(dectree,X_train,y_train,cv=10).mean()\n",
    "    dectree_list.append(dectree_s)\n",
    "    \n",
    "plt.plot(range(1,11),rfc_list,label = \"Random Forest\")\n",
    "plt.plot(range(1,11),dectree_list,label = \"Decision Tree\")\n",
    "plt.legend()\n",
    "plt.show()"
   ]
  },
  {
   "cell_type": "markdown",
   "id": "63681111",
   "metadata": {},
   "source": [
    "<font color=blue>***Clearly, it is indicated that Random forest usually has a higher accuracy than Decision Tree.***"
   ]
  },
  {
   "cell_type": "markdown",
   "id": "e743f114",
   "metadata": {},
   "source": [
    "## 3.1 Train the model"
   ]
  },
  {
   "cell_type": "code",
   "execution_count": 150,
   "id": "bc2e6b4f",
   "metadata": {},
   "outputs": [
    {
     "data": {
      "text/plain": [
       "RandomForestClassifier(n_estimators=30, random_state=50)"
      ]
     },
     "execution_count": 150,
     "metadata": {},
     "output_type": "execute_result"
    }
   ],
   "source": [
    "rfc=RandomForestClassifier(random_state=50\n",
    "                            ,n_estimators=30                 #Randomly select n_estimators for Random forest\n",
    "                                                             #n_estimator(default=100)\n",
    "                            # ,min_samples_leaf=2\n",
    "                            #,min_samples_split=15 \n",
    "                                 )                          #Create the Random Forest object\n",
    "rfc.fit(X_train,y_train)"
   ]
  },
  {
   "cell_type": "code",
   "execution_count": 151,
   "id": "caf425a4",
   "metadata": {},
   "outputs": [
    {
     "name": "stdout",
     "output_type": "stream",
     "text": [
      "Goodness of Fit of Model \tTrain Dataset\n",
      "Classification Accuracy \t: 0.9986602455009596\n",
      "\n",
      "Goodness of Fit of Model \tTest Dataset\n",
      "Classification Accuracy \t: 0.8556014193641828\n",
      "\n"
     ]
    },
    {
     "data": {
      "text/plain": [
       "<AxesSubplot:>"
      ]
     },
     "execution_count": 151,
     "metadata": {},
     "output_type": "execute_result"
    },
    {
     "data": {
      "image/png": "[encoded data removed]",
      "text/plain": [
       "<Figure size 864x288 with 4 Axes>"
      ]
     },
     "metadata": {
      "needs_background": "light"
     },
     "output_type": "display_data"
    }
   ],
   "source": [
    "# Predict RainTomorrow values\n",
    "y_train_pred = rfc.predict(X_train)\n",
    "y_test_pred = rfc.predict(X_test)\n",
    "\n",
    "# Check the Goodness of Fit (on Train Data)\n",
    "print(\"Goodness of Fit of Model \\tTrain Dataset\")\n",
    "print(\"Classification Accuracy \\t:\", rfc.score(X_train, y_train))\n",
    "print()\n",
    "\n",
    "# Check the Goodness of Fit (on Test Data)\n",
    "print(\"Goodness of Fit of Model \\tTest Dataset\")\n",
    "print(\"Classification Accuracy \\t:\", rfc.score(X_test, y_test))\n",
    "print()\n",
    "\n",
    "# Plot the Confusion Matrix for Train and Test\n",
    "f, axes = plt.subplots(1, 2, figsize=(12, 4))\n",
    "\n",
    "sb.heatmap(confusion_matrix(y_train, y_train_pred),\n",
    "           annot = True, fmt=\".0f\", annot_kws={\"size\": 18}, ax = axes[0])\n",
    "sb.heatmap(confusion_matrix(y_test, y_test_pred),\n",
    "           annot = True, fmt=\".0f\", annot_kws={\"size\": 18}, ax = axes[1])"
   ]
  },
  {
   "cell_type": "markdown",
   "id": "ab414130",
   "metadata": {},
   "source": [
    "<font color=blue>***Obviously, there still exists an issue of overfitting even when we use Random Forest.***</font>"
   ]
  },
  {
   "cell_type": "code",
   "execution_count": 154,
   "id": "41141aea",
   "metadata": {},
   "outputs": [
    {
     "name": "stdout",
     "output_type": "stream",
     "text": [
      "Feature: Humidity3pm                    Importance: 0.1214\n",
      "Feature: Pressure3pm                    Importance: 0.0525\n",
      "Feature: WindGustSpeed                  Importance: 0.0499\n",
      "Feature: Sunshine                       Importance: 0.0485\n",
      "Feature: Humidity9am                    Importance: 0.0482\n",
      "Feature: Pressure9am                    Importance: 0.046\n",
      "Feature: Temp3pm                        Importance: 0.0421\n",
      "Feature: MinTemp                        Importance: 0.039\n",
      "Feature: MaxTemp                        Importance: 0.0376\n",
      "Feature: Cloud3pm                       Importance: 0.0372\n",
      "Feature: Temp9am                        Importance: 0.0358\n",
      "Feature: Rainfall                       Importance: 0.0339\n",
      "Feature: Day                            Importance: 0.0289\n",
      "Feature: WindSpeed3pm                   Importance: 0.028\n",
      "Feature: WindSpeed9am                   Importance: 0.0267\n",
      "Feature: Cloud9am                       Importance: 0.0248\n",
      "Feature: Month                          Importance: 0.0219\n",
      "Feature: Year                           Importance: 0.0214\n",
      "Feature: RainToday_Yes                  Importance: 0.0213\n",
      "Feature: Evaporation                    Importance: 0.0209\n",
      "Feature: RainToday_No                   Importance: 0.019\n",
      "Feature: WindDir9am_N                   Importance: 0.0042\n",
      "Feature: WindDir3pm_N                   Importance: 0.0035\n",
      "Feature: WindDir3pm_NNW                 Importance: 0.0034\n",
      "Feature: WindDir3pm_NW                  Importance: 0.0034\n",
      "Feature: WindDir3pm_WNW                 Importance: 0.0032\n",
      "Feature: WindDir9am_NNE                 Importance: 0.0032\n",
      "Feature: WindDir9am_W                   Importance: 0.0032\n",
      "Feature: WindGustDir_NW                 Importance: 0.0032\n",
      "Feature: WindGustDir_W                  Importance: 0.0032\n",
      "Feature: WindDir9am_NNW                 Importance: 0.0031\n",
      "Feature: WindDir9am_NW                  Importance: 0.0031\n",
      "Feature: WindGustDir_N                  Importance: 0.0031\n",
      "Feature: WindGustDir_WNW                Importance: 0.0031\n",
      "Feature: WindGustDir_S                  Importance: 0.003\n",
      "Feature: WindDir3pm_NNE                 Importance: 0.0029\n",
      "Feature: WindDir3pm_S                   Importance: 0.0029\n",
      "Feature: WindDir3pm_W                   Importance: 0.0029\n",
      "Feature: WindDir9am_WNW                 Importance: 0.0029\n",
      "Feature: WindGustDir_NNW                Importance: 0.0029\n",
      "Feature: WindDir3pm_NE                  Importance: 0.0028\n",
      "Feature: WindDir3pm_WSW                 Importance: 0.0028\n",
      "Feature: WindDir9am_SSW                 Importance: 0.0028\n",
      "Feature: WindGustDir_NNE                Importance: 0.0028\n",
      "Feature: WindGustDir_SW                 Importance: 0.0028\n",
      "Feature: WindGustDir_WSW                Importance: 0.0028\n",
      "Feature: WindDir3pm_SE                  Importance: 0.0027\n",
      "Feature: WindDir9am_NE                  Importance: 0.0027\n",
      "Feature: WindDir9am_SW                  Importance: 0.0027\n",
      "Feature: WindGustDir_SSW                Importance: 0.0027\n",
      "Feature: WindDir3pm_SSE                 Importance: 0.0026\n",
      "Feature: WindDir3pm_SSW                 Importance: 0.0026\n",
      "Feature: WindDir9am_WSW                 Importance: 0.0026\n",
      "Feature: WindGustDir_SE                 Importance: 0.0026\n",
      "Feature: WindGustDir_SSE                Importance: 0.0026\n",
      "Feature: WindDir9am_S                   Importance: 0.0025\n",
      "Feature: WindGustDir_NE                 Importance: 0.0025\n",
      "Feature: WindDir9am_ENE                 Importance: 0.0024\n",
      "Feature: WindDir9am_SSE                 Importance: 0.0024\n",
      "Feature: Location_Witchcliffe           Importance: 0.0024\n",
      "Feature: WindDir3pm_SW                  Importance: 0.0023\n",
      "Feature: WindGustDir_E                  Importance: 0.0023\n",
      "Feature: WindDir3pm_ENE                 Importance: 0.0022\n",
      "Feature: WindDir3pm_ESE                 Importance: 0.0022\n",
      "Feature: WindDir9am_SE                  Importance: 0.0022\n",
      "Feature: WindGustDir_ENE                Importance: 0.0022\n",
      "Feature: WindDir3pm_E                   Importance: 0.0021\n",
      "Feature: WindDir9am_E                   Importance: 0.0021\n",
      "Feature: WindDir9am_ESE                 Importance: 0.002\n",
      "Feature: WindGustDir_ESE                Importance: 0.002\n",
      "Feature: Location_Williamtown           Importance: 0.0019\n",
      "Feature: Location_CoffsHarbour          Importance: 0.0018\n",
      "Feature: Location_Portland              Importance: 0.0018\n",
      "Feature: Location_Sydney                Importance: 0.0018\n",
      "Feature: Location_Walpole               Importance: 0.0018\n",
      "Feature: Location_Wollongong            Importance: 0.0018\n",
      "Feature: Location_Albany                Importance: 0.0017\n",
      "Feature: Location_NorfolkIsland         Importance: 0.0017\n",
      "Feature: Location_Perth                 Importance: 0.0016\n",
      "Feature: Location_Sale                  Importance: 0.0016\n",
      "Feature: Location_Adelaide              Importance: 0.0015\n",
      "Feature: Location_Dartmoor              Importance: 0.0015\n",
      "Feature: Location_Hobart                Importance: 0.0015\n",
      "Feature: Location_MountGambier          Importance: 0.0015\n",
      "Feature: Location_Ballarat              Importance: 0.0014\n",
      "Feature: Location_Canberra              Importance: 0.0014\n",
      "Feature: Location_Launceston            Importance: 0.0014\n",
      "Feature: Location_NorahHead             Importance: 0.0014\n",
      "Feature: Location_SydneyAirport         Importance: 0.0014\n",
      "Feature: Location_Albury                Importance: 0.0013\n",
      "Feature: Location_BadgerysCreek         Importance: 0.0013\n",
      "Feature: Location_Brisbane              Importance: 0.0013\n",
      "Feature: Location_Cairns                Importance: 0.0013\n",
      "Feature: Location_MelbourneAirport      Importance: 0.0013\n",
      "Feature: Location_Nuriootpa             Importance: 0.0013\n",
      "Feature: Location_PearceRAAF            Importance: 0.0013\n",
      "Feature: Location_PerthAirport          Importance: 0.0013\n",
      "Feature: Location_Richmond              Importance: 0.0013\n",
      "Feature: Location_Tuggeranong           Importance: 0.0013\n",
      "Feature: Location_Watsonia              Importance: 0.0013\n",
      "Feature: Location_Melbourne             Importance: 0.0012\n",
      "Feature: Location_Bendigo               Importance: 0.0011\n",
      "Feature: Location_GoldCoast             Importance: 0.0011\n",
      "Feature: Location_MountGinini           Importance: 0.0011\n",
      "Feature: Location_SalmonGums            Importance: 0.0011\n",
      "Feature: Location_WaggaWagga            Importance: 0.0011\n",
      "Feature: Location_Cobar                 Importance: 0.001\n",
      "Feature: Location_Mildura               Importance: 0.0009\n",
      "Feature: Location_Moree                 Importance: 0.0009\n",
      "Feature: Location_Penrith               Importance: 0.0009\n",
      "Feature: Location_Darwin                Importance: 0.0008\n",
      "Feature: Location_Nhil                  Importance: 0.0008\n",
      "Feature: Location_Townsville            Importance: 0.0007\n",
      "Feature: Location_Woomera               Importance: 0.0007\n",
      "Feature: Location_AliceSprings          Importance: 0.0006\n",
      "Feature: Location_Newcastle             Importance: 0.0005\n",
      "Feature: Location_Katherine             Importance: 0.0004\n",
      "Feature: Location_Uluru                 Importance: 0.0003\n"
     ]
    }
   ],
   "source": [
    "# Check featuer importances\n",
    "\n",
    "# Saving feature names for later use\n",
    "feature_list = list(X_train.columns)\n",
    "# Get numerical feature importances\n",
    "importances = list(rfc.feature_importances_)\n",
    "# List of tuples with variable and importance\n",
    "feature_importances = [(feature, round(importance, 4)) for feature, importance in zip(feature_list, importances)]\n",
    "# Sort the feature importances by most important first\n",
    "feature_importances = sorted(feature_importances, key = lambda x: x[1], reverse = True)\n",
    "# Print out the feature and importances \n",
    "[print('Feature: {:30} Importance: {}'.format(*pair)) for pair in feature_importances];"
   ]
  },
  {
   "cell_type": "markdown",
   "id": "3313decc",
   "metadata": {},
   "source": [
    "## 3.2 Hyperparameter Tuning of Random Forest"
   ]
  },
  {
   "cell_type": "markdown",
   "id": "7031f051",
   "metadata": {},
   "source": [
    "<font color=darkblue>Due to the cost of time, we are not going to apply Grid Search for all the hyperparameters altogether. We decide to use various techniques to explore the optimized hyperparamters.The hyperparameters which we are going to tune are listed below with the corresponding techniques applied:\n",
    "1. n_estimators (obb_score learning curve)\n",
    "2. max_depth (oob-score learning curve)\n",
    "3. min_samples_leaf (RandomizedSearchCV)\n",
    "4. min_samples_split (RandomizedSearchCV)\n",
    "5. max_features (GridSearch/RandomizedSearchCV/)"
   ]
  },
  {
   "cell_type": "markdown",
   "id": "61dcc6f0",
   "metadata": {},
   "source": [
    "### 3.2.1 n_estimators (oob-score learning curve)"
   ]
  },
  {
   "cell_type": "markdown",
   "id": "23fa8eee",
   "metadata": {},
   "source": [
    "<font color=blue>***The parameter n_estimators is the number of trees in the forest. This parameter is monotonic.(i.e. the accuracy will keep increasing with the increase of n_estimators) While, it will eventually reach a certain value where the accuracy of the model begins flutuating mildly after that point. Thus, we decide to use learning curve to observe the trend of the accuracy with the increase of n_estimators.***</font>"
   ]
  },
  {
   "cell_type": "markdown",
   "id": "b8966b6d",
   "metadata": {},
   "source": [
    "<font color=darkred>Instead of using cross_validation to eliminate the influence to the split of the train and test set, we are going to use oob_score_(out of bag data) as the metrics to evaluate the performance of the model on the unknown data. This oob_score_ attribute comes from the characteristic of Random Forest which is bootstrap. All the decision trees are trained using different train sets which are drawn from the dataset with replacement. Thus, the idea of the oob_score is pretty much the same as cross validation. Both of them are used to minimise the generalization error. To speed up the searching of the optimized parameters. We use oob_score_."
   ]
  },
  {
   "cell_type": "code",
   "execution_count": 61,
   "id": "d79c1bfb",
   "metadata": {},
   "outputs": [
    {
     "name": "stdout",
     "output_type": "stream",
     "text": [
      "0.8568001593221567 178\n"
     ]
    },
    {
     "data": {
      "image/png": "[encoded data removed]",
      "text/plain": [
       "<Figure size 1440x360 with 1 Axes>"
      ]
     },
     "metadata": {
      "needs_background": "light"
     },
     "output_type": "display_data"
    }
   ],
   "source": [
    "#####【TIME WARNING:1h】#####\n",
    "superpa = []\n",
    "for i in range(0,200):\n",
    "    rfc = RandomForestClassifier(n_estimators=i+1\n",
    "                                ,random_state=50\n",
    "                                ,oob_score=True\n",
    "                                ,n_jobs=-1)\n",
    "    \n",
    "    rfc.fit(X_train,y_train)\n",
    "    rfc_s = rfc.oob_score_\n",
    "    superpa.append(rfc_s)\n",
    "\n",
    "print(max(superpa),superpa.index(max(superpa))+1)      \n",
    "#print out：max(superpa)=maximum accuracy from list(superpa)\n",
    "#print out：superpa.index(max(superpa))+1  is the value of n_estimators with the highest accuracy\n",
    "\n",
    "# Plot the learning curve\n",
    "plt.figure(figsize=[20,5])\n",
    "plt.plot(range(1,201),superpa)\n",
    "plt.xlabel('n_estimators')\n",
    "plt.ylabel('classification accuracy')\n",
    "plt.show()"
   ]
  },
  {
   "cell_type": "markdown",
   "id": "2f78fe20",
   "metadata": {},
   "source": [
    "<font color=blue>***Since the accuracy of the model begins stagnating after a certain value around 70 and n_estimator with highest accuracy appears at 178,we decide to use n_estimators=178 in the following models.***</font>"
   ]
  },
  {
   "cell_type": "markdown",
   "id": "ffe4cc37",
   "metadata": {},
   "source": [
    "### 3.2.2 max_depth (oob_score learning curve)"
   ]
  },
  {
   "cell_type": "markdown",
   "id": "78d588a0",
   "metadata": {},
   "source": [
    "<font color=blue>***As shown in 3.1, the model obtained without hyperparameter tuning has an issue with overfitting. Thus, it is reasonable to do prunig for the decision trees in the forests. We decide to use learnig curve to observe the trend of accuracy with various max_depth in order to get an optimized max_depth to limit the growth of the trees as well as to alleviate the issue of overfitting.***</font>"
   ]
  },
  {
   "cell_type": "code",
   "execution_count": 92,
   "id": "9dd210c8",
   "metadata": {},
   "outputs": [
    {
     "name": "stdout",
     "output_type": "stream",
     "text": [
      "Highet Classification Accuracy \t\t: 0.8568001593221567\n",
      "Corresponding Depth of the Tree \t: 61\n"
     ]
    },
    {
     "data": {
      "image/png": "[encoded data removed]",
      "text/plain": [
       "<Figure size 1440x360 with 1 Axes>"
      ]
     },
     "metadata": {
      "needs_background": "light"
     },
     "output_type": "display_data"
    }
   ],
   "source": [
    "scorelist1 = []\n",
    "for i in range(0,100,10):\n",
    "    rfc = RandomForestClassifier(max_depth=i+1\n",
    "                                ,random_state=50\n",
    "                                ,n_estimators=178\n",
    "                                ,oob_score=True\n",
    "                                ,n_jobs=-1\n",
    "                                )\n",
    "\n",
    "    rfc.fit(X_train,y_train)\n",
    "    score=rfc.oob_score_\n",
    "    scorelist1.append(score)\n",
    "\n",
    "\n",
    "    \n",
    "print(\"Highet Classification Accuracy \\t\\t:\",max(scorelist1))\n",
    "print(\"Corresponding Number of the Trees \\t:\",(scorelist1.index(max(scorelist1))*10+1))\n",
    "plt.figure(figsize=[20,5])\n",
    "plt.plot(range(1,101,10),scorelist1,label=\"max_depth\")\n",
    "plt.legend()\n",
    "plt.show()"
   ]
  },
  {
   "cell_type": "code",
   "execution_count": 93,
   "id": "12166bc5",
   "metadata": {},
   "outputs": [
    {
     "name": "stdout",
     "output_type": "stream",
     "text": [
      "Highet Classification Accuracy \t\t: 0.8568001593221567\n",
      "Corresponding Depth of the Tree \t: 61\n"
     ]
    },
    {
     "data": {
      "image/png": "[encoded data removed]",
      "text/plain": [
       "<Figure size 1440x360 with 1 Axes>"
      ]
     },
     "metadata": {
      "needs_background": "light"
     },
     "output_type": "display_data"
    }
   ],
   "source": [
    "scorelist2 = []\n",
    "for i in range(41,81,5):\n",
    "    rfc = RandomForestClassifier(max_depth=i\n",
    "                                ,random_state=50\n",
    "                                ,n_estimators=178\n",
    "                                ,oob_score=True\n",
    "                                ,n_jobs=-1\n",
    "                                )\n",
    "\n",
    "    rfc.fit(X_train,y_train)\n",
    "    score=rfc.oob_score_\n",
    "    scorelist2.append(score)\n",
    "\n",
    "\n",
    "    \n",
    "print(\"Highet Classification Accuracy \\t\\t:\",max(scorelist2))\n",
    "print(\"Corresponding Depth of the Tree \\t:\",(scorelist2.index(max(scorelist2))*5+41))\n",
    "plt.figure(figsize=[20,5])\n",
    "plt.plot(range(41,81,5),scorelist2,label=\"max_depth\")\n",
    "plt.legend()\n",
    "plt.show()"
   ]
  },
  {
   "cell_type": "markdown",
   "id": "0f79c442",
   "metadata": {},
   "source": [
    "<font color=blue>***Since the accuracy of the model is the same as the accuracy before we tune max_depth,tuning max_depth is not able to improve the accuracy.***</font>"
   ]
  },
  {
   "cell_type": "markdown",
   "id": "84ae28b1",
   "metadata": {},
   "source": [
    "### 3.2.3 min_samples_leaf (RandomizedSearchCV)"
   ]
  },
  {
   "cell_type": "code",
   "execution_count": 63,
   "id": "e0a0adb9",
   "metadata": {},
   "outputs": [],
   "source": [
    "from sklearn.model_selection import GridSearchCV\n",
    "from sklearn.model_selection import cross_val_score\n",
    "from sklearn.model_selection import RandomizedSearchCV"
   ]
  },
  {
   "cell_type": "code",
   "execution_count": 94,
   "id": "336c6ee0",
   "metadata": {},
   "outputs": [
    {
     "name": "stdout",
     "output_type": "stream",
     "text": [
      "{'min_samples_leaf': 1}\n",
      "0.8569630884817018\n"
     ]
    },
    {
     "data": {
      "text/plain": [
       "{'mean_fit_time': array([145.78074529, 121.5689008 , 110.87597387, 106.12641323,\n",
       "        100.19344556,  96.50159926,  96.20746362,  97.37115064,\n",
       "         94.5545125 ,  75.40004129]),\n",
       " 'std_fit_time': array([ 6.2697544 ,  4.23508159,  2.32382131,  2.01604544,  2.25047965,\n",
       "         1.71898643,  1.26936571,  1.53767099,  1.88243324, 23.25091781]),\n",
       " 'mean_score_time': array([2.64185824, 3.72141879, 3.13624003, 1.96307471, 2.07531917,\n",
       "        1.93565545, 1.85782003, 1.59663112, 1.8872719 , 0.92264562]),\n",
       " 'std_score_time': array([1.85924529, 1.54191351, 1.58999606, 1.63517457, 1.81809381,\n",
       "        1.11079712, 1.32102969, 1.6027429 , 1.74690847, 0.76476006]),\n",
       " 'param_min_samples_leaf': masked_array(data=[1, 12, 23, 34, 45, 56, 67, 78, 89, 100],\n",
       "              mask=[False, False, False, False, False, False, False, False,\n",
       "                    False, False],\n",
       "        fill_value='?',\n",
       "             dtype=object),\n",
       " 'params': [{'min_samples_leaf': 1},\n",
       "  {'min_samples_leaf': 12},\n",
       "  {'min_samples_leaf': 23},\n",
       "  {'min_samples_leaf': 34},\n",
       "  {'min_samples_leaf': 45},\n",
       "  {'min_samples_leaf': 56},\n",
       "  {'min_samples_leaf': 67},\n",
       "  {'min_samples_leaf': 78},\n",
       "  {'min_samples_leaf': 89},\n",
       "  {'min_samples_leaf': 100}],\n",
       " 'split0_test_score': array([0.85398751, 0.84611207, 0.84403005, 0.84285326, 0.84068073,\n",
       "        0.84004707, 0.83850819, 0.8397755 , 0.83696931, 0.83597357]),\n",
       " 'split1_test_score': array([0.8543496 , 0.84973296, 0.85000453, 0.84692677, 0.84574998,\n",
       "        0.84294379, 0.84276274, 0.84357744, 0.84158595, 0.84049968]),\n",
       " 'split2_test_score': array([0.86249661, 0.8543496 , 0.85190549, 0.84982348, 0.84837512,\n",
       "        0.8466552 , 0.84602154, 0.8442111 , 0.84312483, 0.84276274]),\n",
       " 'split3_test_score': array([0.85878519, 0.85127184, 0.85009505, 0.84882774, 0.8474699 ,\n",
       "        0.84574998, 0.84439214, 0.84330587, 0.84294379, 0.84294379]),\n",
       " 'split4_test_score': array([0.85588848, 0.84928035, 0.84846565, 0.84674572, 0.84285326,\n",
       "        0.84403005, 0.84276274, 0.84294379, 0.841767  , 0.84167647]),\n",
       " 'split5_test_score': array([0.85643161, 0.85081923, 0.8482846 , 0.84701729, 0.84393953,\n",
       "        0.84330587, 0.84240065, 0.84231013, 0.84095229, 0.84167647]),\n",
       " 'split6_test_score': array([0.85778945, 0.85172445, 0.85000453, 0.84846565, 0.84565946,\n",
       "        0.84629311, 0.84511632, 0.84430162, 0.84303431, 0.84221961]),\n",
       " 'split7_test_score': array([0.85751788, 0.84973296, 0.84719833, 0.84611207, 0.84384901,\n",
       "        0.84194804, 0.84212908, 0.84104282, 0.84068073, 0.8397755 ]),\n",
       " 'split8_test_score': array([0.85705233, 0.85152997, 0.84555495, 0.84401593, 0.84274851,\n",
       "        0.84111896, 0.8409379 , 0.83967047, 0.84021365, 0.83813145]),\n",
       " 'split9_test_score': array([0.85533225, 0.84845193, 0.84655079, 0.84501177, 0.84347275,\n",
       "        0.84148108, 0.84120949, 0.84030418, 0.83849357, 0.83623031]),\n",
       " 'mean_test_score': array([0.85696309, 0.85030053, 0.8482094 , 0.84657997, 0.84447982,\n",
       "        0.84335732, 0.84262408, 0.84214429, 0.84097654, 0.84018896]),\n",
       " 'std_test_score': array([0.00233923, 0.00209266, 0.00228077, 0.00206418, 0.00221131,\n",
       "        0.00217532, 0.0020736 , 0.00171248, 0.00191335, 0.00246381]),\n",
       " 'rank_test_score': array([ 1,  2,  3,  4,  5,  6,  7,  8,  9, 10])}"
      ]
     },
     "execution_count": 94,
     "metadata": {},
     "output_type": "execute_result"
    }
   ],
   "source": [
    "#####【TIME WARNING:30min】#####\n",
    "parameters_grid1 ={'min_samples_leaf':[int(x) for x in np.linspace(1,100,10)]}\n",
    "rfc = RandomForestClassifier(max_depth=61\n",
    "                            ,random_state=50\n",
    "                            ,n_estimators=178\n",
    "                            ,n_jobs=-1\n",
    "                            )\n",
    "\n",
    "GS = RandomizedSearchCV(rfc,parameters_grid1,cv=10,n_jobs=-1)\n",
    "GS.fit(X_train,y_train)\n",
    "\n",
    "print(GS.best_params_)\n",
    "print(GS.best_score_)\n",
    "#GS.cv_results_"
   ]
  },
  {
   "cell_type": "markdown",
   "id": "1b5e6bf9",
   "metadata": {},
   "source": [
    "<font color=blue>***We decide to use min_samples_leaf=1(default) in the following models.***</font>"
   ]
  },
  {
   "cell_type": "markdown",
   "id": "40c30f4e",
   "metadata": {},
   "source": [
    "### 3.2.4 min_samples_split (RandomizedSearchCV)"
   ]
  },
  {
   "cell_type": "code",
   "execution_count": 101,
   "id": "7f756358",
   "metadata": {},
   "outputs": [
    {
     "name": "stdout",
     "output_type": "stream",
     "text": [
      "{'min_samples_split': 2}\n",
      "0.8569630884817018\n"
     ]
    },
    {
     "data": {
      "text/plain": [
       "{'mean_fit_time': array([131.69750712, 132.79408379, 130.61598029, 131.46534109,\n",
       "        140.11448624, 147.91125271, 139.25969107, 138.72540541,\n",
       "        132.40833483, 120.91064391]),\n",
       " 'std_fit_time': array([ 1.70939554,  2.10196918,  1.72547495,  2.09366234,  2.05405257,\n",
       "         0.8162269 ,  3.5673326 ,  2.24786657,  1.49916217, 29.51238923]),\n",
       " 'mean_score_time': array([2.53537786, 1.94677935, 2.30941918, 2.57254663, 3.7079495 ,\n",
       "        2.05006239, 3.87334857, 3.51893618, 4.44726417, 2.64074352]),\n",
       " 'std_score_time': array([1.7580634 , 1.62513705, 1.25989263, 1.93038707, 2.57607916,\n",
       "        0.75507256, 1.97375169, 1.80141033, 2.39966005, 1.4191113 ]),\n",
       " 'param_min_samples_split': masked_array(data=[32, 29, 42, 37, 9, 2, 50, 44, 27, 4],\n",
       "              mask=[False, False, False, False, False, False, False, False,\n",
       "                    False, False],\n",
       "        fill_value='?',\n",
       "             dtype=object),\n",
       " 'params': [{'min_samples_split': 32},\n",
       "  {'min_samples_split': 29},\n",
       "  {'min_samples_split': 42},\n",
       "  {'min_samples_split': 37},\n",
       "  {'min_samples_split': 9},\n",
       "  {'min_samples_split': 2},\n",
       "  {'min_samples_split': 50},\n",
       "  {'min_samples_split': 44},\n",
       "  {'min_samples_split': 27},\n",
       "  {'min_samples_split': 4}],\n",
       " 'split0_test_score': array([0.84810356, 0.85090975, 0.84937087, 0.84810356, 0.85208654,\n",
       "        0.85398751, 0.84900878, 0.84891826, 0.85036662, 0.85163393]),\n",
       " 'split1_test_score': array([0.8535349 , 0.85489273, 0.85163393, 0.85172445, 0.85588848,\n",
       "        0.8543496 , 0.85226758, 0.85335385, 0.85489273, 0.85616004]),\n",
       " 'split2_test_score': array([0.85815153, 0.85751788, 0.85697474, 0.85643161, 0.8608672 ,\n",
       "        0.86249661, 0.85715579, 0.85742736, 0.85851362, 0.86195347]),\n",
       " 'split3_test_score': array([0.85480221, 0.85606952, 0.8543496 , 0.85579795, 0.85878519,\n",
       "        0.85878519, 0.85335385, 0.85489273, 0.85616004, 0.85860415]),\n",
       " 'split4_test_score': array([0.8543496 , 0.8543496 , 0.85444012, 0.85380646, 0.8567937 ,\n",
       "        0.85588848, 0.85290124, 0.85235811, 0.85371594, 0.85634109]),\n",
       " 'split5_test_score': array([0.85425907, 0.85181497, 0.85262967, 0.85290124, 0.855979  ,\n",
       "        0.85643161, 0.85244863, 0.85154341, 0.8527202 , 0.85670318]),\n",
       " 'split6_test_score': array([0.85643161, 0.85606952, 0.85543586, 0.85552639, 0.85724631,\n",
       "        0.85778945, 0.85444012, 0.8551643 , 0.85715579, 0.85751788]),\n",
       " 'split7_test_score': array([0.85344437, 0.85416855, 0.85335385, 0.85380646, 0.8551643 ,\n",
       "        0.85751788, 0.85208654, 0.85090975, 0.8527202 , 0.85561691]),\n",
       " 'split8_test_score': array([0.85415535, 0.85442694, 0.85388376, 0.85352164, 0.85714286,\n",
       "        0.85705233, 0.85180156, 0.85225421, 0.85497012, 0.85605649]),\n",
       " 'split9_test_score': array([0.85397429, 0.85288792, 0.8537027 , 0.85207315, 0.85524172,\n",
       "        0.85533225, 0.85234474, 0.85279739, 0.85361217, 0.85777657]),\n",
       " 'mean_test_score': array([0.85412065, 0.85431074, 0.85357751, 0.85336929, 0.85651953,\n",
       "        0.85696309, 0.85278088, 0.85296194, 0.85448274, 0.85683637]),\n",
       " 'std_test_score': array([0.00243214, 0.00191484, 0.00197145, 0.00229493, 0.00220995,\n",
       "        0.00233923, 0.00196137, 0.00228341, 0.00226083, 0.00246047]),\n",
       " 'rank_test_score': array([ 6,  5,  7,  8,  3,  1, 10,  9,  4,  2])}"
      ]
     },
     "execution_count": 101,
     "metadata": {},
     "output_type": "execute_result"
    }
   ],
   "source": [
    "#####【TIME WARNING:30min】#####\n",
    "parameters_grid2 ={'min_samples_split':[int(x) for x in np.linspace(2,50,20)]}\n",
    "\n",
    "rfc = RandomForestClassifier(max_depth=61\n",
    "                            ,random_state=50\n",
    "                            ,n_estimators=178\n",
    "                            ,min_samples_leaf=1                        \n",
    "                            ,n_jobs=-1\n",
    "                            )\n",
    "\n",
    "GS = RandomizedSearchCV(rfc,parameters_grid2,cv=10,n_jobs=-1)\n",
    "GS.fit(X_train,y_train)\n",
    "\n",
    "print(GS.best_params_)\n",
    "print(GS.best_score_)\n",
    "#GS.cv_results_"
   ]
  },
  {
   "cell_type": "markdown",
   "id": "597613af",
   "metadata": {},
   "source": [
    "<font color=blue>***We decide to use min_samples_split=2(default) in the following models.***</font>"
   ]
  },
  {
   "cell_type": "markdown",
   "id": "6bd805af",
   "metadata": {},
   "source": [
    "### 3.2.5 max_feature(GridSearch/learnig curve)"
   ]
  },
  {
   "cell_type": "code",
   "execution_count": 104,
   "id": "09d72af8",
   "metadata": {},
   "outputs": [
    {
     "name": "stdout",
     "output_type": "stream",
     "text": [
      "{'max_features': None}\n",
      "0.8573070888445121\n"
     ]
    },
    {
     "data": {
      "text/plain": [
       "{'mean_fit_time': array([1076.67279553,  142.6232832 ,   99.55451603]),\n",
       " 'std_fit_time': array([231.39757762,   2.83312712,  18.74118786]),\n",
       " 'mean_score_time': array([1.54370053, 5.53283257, 6.78603041]),\n",
       " 'std_score_time': array([0.78511862, 1.257803  , 2.30886206]),\n",
       " 'param_max_features': masked_array(data=[None, 'auto', 'log2'],\n",
       "              mask=[False, False, False],\n",
       "        fill_value='?',\n",
       "             dtype=object),\n",
       " 'params': [{'max_features': None},\n",
       "  {'max_features': 'auto'},\n",
       "  {'max_features': 'log2'}],\n",
       " 'split0_test_score': array([0.85199602, 0.85398751, 0.85335385]),\n",
       " 'split1_test_score': array([0.85706527, 0.8543496 , 0.8543496 ]),\n",
       " 'split2_test_score': array([0.86068616, 0.86249661, 0.85860415]),\n",
       " 'split3_test_score': array([0.85887571, 0.85878519, 0.85489273]),\n",
       " 'split4_test_score': array([0.8567937 , 0.85588848, 0.85507378]),\n",
       " 'split5_test_score': array([0.855979  , 0.85643161, 0.85389699]),\n",
       " 'split6_test_score': array([0.85987146, 0.85778945, 0.85769892]),\n",
       " 'split7_test_score': array([0.85769892, 0.85751788, 0.85643161]),\n",
       " 'split8_test_score': array([0.85831975, 0.85705233, 0.85596596]),\n",
       " 'split9_test_score': array([0.8557849 , 0.85533225, 0.854608  ]),\n",
       " 'mean_test_score': array([0.85730709, 0.85696309, 0.85548756]),\n",
       " 'std_test_score': array([0.00232904, 0.00233923, 0.00159372]),\n",
       " 'rank_test_score': array([1, 2, 3])}"
      ]
     },
     "execution_count": 104,
     "metadata": {},
     "output_type": "execute_result"
    }
   ],
   "source": [
    "# First, we will do GridSearch with paramters range{None,auto,log2}\n",
    "# None: max_feature=n_feature In our dataset, n_feature=118\n",
    "# auto(default): max_feature=sqrt(n_feature) approximately equal to 11\n",
    "# log2: max_feature=log2(n_feature) approximately equal to 7\n",
    "\n",
    "parameters_grid3 ={'max_features':[None,'auto','log2']}\n",
    "rfc = RandomForestClassifier(max_depth=61\n",
    "                            ,random_state=50\n",
    "                            ,n_estimators=178\n",
    "                            ,min_samples_leaf=1\n",
    "                            ,min_samples_split=2\n",
    "                            ,n_jobs=-1\n",
    "                            )\n",
    "\n",
    "GS = GridSearchCV(rfc,parameters_grid3,cv=10,n_jobs=-1)\n",
    "GS.fit(X_train,y_train)\n",
    "\n",
    "print(GS.best_params_)\n",
    "print(GS.best_score_)\n",
    "#GS.cv_results_"
   ]
  },
  {
   "cell_type": "markdown",
   "id": "d97a78d5",
   "metadata": {},
   "source": [
    "<font color=blue>***As stated before, the default for max_features is 'auto' which is about 11 features for our dataset and if max_features=None, every estimator(decision tree) in Rnadom Forest will consider n_features(118) when spliting. However, the accuracy of the model with max_features=None is greater than the acciracy when that is 'auto'. It indicates that the model before we tune max_features is  underfitting. The increase of the features will increase the complexity of the model and hence reduce the bias error.***</font>"
   ]
  },
  {
   "cell_type": "markdown",
   "id": "df55b49b",
   "metadata": {},
   "source": [
    "<font color=blue>***To find a more appropriate value,we decide to exploit learning curve to study the trend of the accuracy with max_features increasing from 11(default).***"
   ]
  },
  {
   "cell_type": "code",
   "execution_count": 124,
   "id": "a64bbea4",
   "metadata": {},
   "outputs": [
    {
     "name": "stdout",
     "output_type": "stream",
     "text": [
      "Highet Classification Accuracy \t\t: 0.8585291589287134\n",
      "Corresponding Number of features \t: 61\n"
     ]
    },
    {
     "data": {
      "image/png": "[encoded data removed]",
      "text/plain": [
       "<Figure size 1440x360 with 1 Axes>"
      ]
     },
     "metadata": {
      "needs_background": "light"
     },
     "output_type": "display_data"
    }
   ],
   "source": [
    "scorelist3 = []\n",
    "for i in range(11,101,10):\n",
    "    rfc = RandomForestClassifier(max_depth=61\n",
    "                                ,random_state=50\n",
    "                                ,n_estimators=178\n",
    "                                ,min_samples_leaf=1\n",
    "                                ,min_samples_split=2 \n",
    "                                #,oob_score=True\n",
    "                                ,max_features=i\n",
    "                                ,n_jobs=-1\n",
    "                                )\n",
    "\n",
    "    \n",
    "    score=cross_val_score(rfc,X_train,y_train,cv=10).mean()                             #cv=10 cross validation 10 times\n",
    "    scorelist3.append(score)\n",
    "                          \n",
    "\n",
    "    \n",
    "print(\"Highet Classification Accuracy \\t\\t:\",max(scorelist3))\n",
    "print(\"Corresponding Number of features \\t:\",(scorelist3.index(max(scorelist3))*10+11))\n",
    "plt.figure(figsize=[20,5])\n",
    "plt.plot(range(11,101,10),scorelist3,label=\"max_features\")\n",
    "plt.legend()\n",
    "plt.xlabel('max_features')\n",
    "plt.ylabel('classification accuracy')\n",
    "plt.show()"
   ]
  },
  {
   "cell_type": "markdown",
   "id": "37242628",
   "metadata": {},
   "source": [
    "<font color=blue>***Initially, when max_feature='auto'(11), the model is underfitting. The accuracy grows as a result of increasing features for the bias error is reduced. After a certain value around 64, the accuracy begins declining which suggests the overfitting is getting more and more evident. We decide to use max_features=61(default) in the following models.***"
   ]
  },
  {
   "cell_type": "markdown",
   "id": "549c7923",
   "metadata": {},
   "source": [
    "## 3.2.5 RandomizedSearchCV for all the hyperparameters "
   ]
  },
  {
   "cell_type": "markdown",
   "id": "b50596c1",
   "metadata": {},
   "source": [
    "<font color=darkred>***Due to the huge amout of computation and the cost of time, it is not suggested to use Grid Search for all the hyperparameters at the same time***</font>"
   ]
  },
  {
   "cell_type": "code",
   "execution_count": 65,
   "id": "2334093c",
   "metadata": {},
   "outputs": [
    {
     "name": "stdout",
     "output_type": "stream",
     "text": [
      "{'n_estimators': 188, 'min_samples_split': 2, 'min_samples_leaf': 1, 'max_features': 71, 'max_depth': 73, 'criterion': 'gini'}\n",
      "0.8584748479989726\n"
     ]
    }
   ],
   "source": [
    "#####【TIME WARNING:7h】#####\n",
    "rfc_grid = {'n_estimators':[int(x) for x in np.linspace(168,188,3)],\n",
    "            'max_depth':[int(x) for x in np.linspace(58,73,3)],\n",
    "            'max_features':[int(x) for x in np.linspace(51,71,3)],\n",
    "            'criterion':['gini','entropy'],\n",
    "            'min_samples_leaf':[int(x) for x in np.linspace(1,20,3)],\n",
    "            'min_samples_split':[int(x) for x in np.linspace(2,10,2)],\n",
    "            }\n",
    "\n",
    "rfc = RandomForestClassifier(random_state=50\n",
    "                            ,n_jobs=-1\n",
    "                            )\n",
    "\n",
    "GS = RandomizedSearchCV(rfc,rfc_grid,cv=10,n_jobs=-1)\n",
    "GS.fit(X_train,y_train)\n",
    "\n",
    "print(GS.best_params_)\n",
    "print(GS.best_score_)\n",
    "#GS.cv_results_"
   ]
  },
  {
   "cell_type": "code",
   "execution_count": null,
   "id": "25067b5a",
   "metadata": {},
   "outputs": [],
   "source": []
  },
  {
   "cell_type": "code",
   "execution_count": null,
   "id": "97d22f25",
   "metadata": {},
   "outputs": [],
   "source": []
  },
  {
   "cell_type": "markdown",
   "id": "74deedba",
   "metadata": {},
   "source": [
    "## 3.3 Conclusion for Random Forest"
   ]
  },
  {
   "cell_type": "markdown",
   "id": "e4e25643",
   "metadata": {},
   "source": [
    "<font color=darkblue>***Finally, we decide to use the parameters listed below obtained from learnig curve and grid Search for the parameters respectively to train the random forest model.***"
   ]
  },
  {
   "cell_type": "code",
   "execution_count": 66,
   "id": "56c3a7f9",
   "metadata": {},
   "outputs": [
    {
     "data": {
      "text/plain": [
       "RandomForestClassifier(max_depth=61, max_features=61, n_estimators=178,\n",
       "                       n_jobs=-1, random_state=50)"
      ]
     },
     "execution_count": 66,
     "metadata": {},
     "output_type": "execute_result"
    }
   ],
   "source": [
    "rfc = RandomForestClassifier(max_depth=61\n",
    "                            ,random_state=50\n",
    "                            ,n_estimators=178\n",
    "                            ,min_samples_leaf=1\n",
    "                            ,min_samples_split=2 \n",
    "                            #,oob_score=True\n",
    "                            ,max_features=61\n",
    "                            ,n_jobs=-1\n",
    "                            )\n",
    "\n",
    "rfc.fit(X_train,y_train)"
   ]
  },
  {
   "cell_type": "code",
   "execution_count": 67,
   "id": "2c5271de",
   "metadata": {},
   "outputs": [
    {
     "name": "stdout",
     "output_type": "stream",
     "text": [
      "Goodness of Fit of Model \tTrain Dataset\n",
      "Classification Accuracy \t: 1.0\n",
      "\n",
      "Goodness of Fit of Model \tTest Dataset\n",
      "Classification Accuracy \t: 0.8593670794409443\n",
      "\n"
     ]
    }
   ],
   "source": [
    "# Predict RainTomorrow values \n",
    "y_train_pred = rfc.predict(X_train)\n",
    "y_test_pred = rfc.predict(X_test)\n",
    "\n",
    "# Check the Goodness of Fit (on Train Data)\n",
    "print(\"Goodness of Fit of Model \\tTrain Dataset\")\n",
    "print(\"Classification Accuracy \\t:\", rfc.score(X_train, y_train))\n",
    "print()\n",
    "\n",
    "# Check the Goodness of Fit (on Test Data)\n",
    "print(\"Goodness of Fit of Model \\tTest Dataset\")\n",
    "print(\"Classification Accuracy \\t:\", rfc.score(X_test, y_test))\n",
    "print()"
   ]
  },
  {
   "cell_type": "code",
   "execution_count": 68,
   "id": "2b090d55",
   "metadata": {},
   "outputs": [],
   "source": [
    "# Visualization of confusion matrix of test data (with summary statistics)"
   ]
  },
  {
   "cell_type": "code",
   "execution_count": 71,
   "id": "825a0a5f",
   "metadata": {},
   "outputs": [
    {
     "data": {
      "image/png": "[encoded data removed]",
      "text/plain": [
       "<Figure size 720x720 with 2 Axes>"
      ]
     },
     "metadata": {
      "needs_background": "light"
     },
     "output_type": "display_data"
    }
   ],
   "source": [
    "cf_matrix=confusion_matrix(y_test, y_test_pred)\n",
    "labels = ['True Neg','False Pos','False Neg','True Pos']\n",
    "categories = ['Zero', 'One']\n",
    "make_confusion_matrix(cf_matrix, group_names=labels, categories=categories, cmap='PuBu', title='CF Matrix for Random Forest')"
   ]
  },
  {
   "cell_type": "code",
   "execution_count": null,
   "id": "861db66b",
   "metadata": {},
   "outputs": [],
   "source": []
  }
 ],
 "metadata": {
  "kernelspec": {
   "display_name": "Python 3",
   "language": "python",
   "name": "python3"
  },
  "language_info": {
   "codemirror_mode": {
    "name": "ipython",
    "version": 3
   },
   "file_extension": ".py",
   "mimetype": "text/x-python",
   "name": "python",
   "nbconvert_exporter": "python",
   "pygments_lexer": "ipython3",
   "version": "3.8.8"
  }
 },
 "nbformat": 4,
 "nbformat_minor": 5
}
